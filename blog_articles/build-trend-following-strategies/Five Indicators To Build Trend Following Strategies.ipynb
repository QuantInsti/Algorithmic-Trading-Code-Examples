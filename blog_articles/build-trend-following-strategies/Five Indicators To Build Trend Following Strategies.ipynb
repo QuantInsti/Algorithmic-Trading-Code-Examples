{
 "cells": [
  {
   "cell_type": "code",
   "execution_count": 1,
   "id": "95d3b36a",
   "metadata": {},
   "outputs": [
    {
     "data": {
      "application/vnd.plotly.v1+json": {
       "config": {
        "plotlyServerURL": "https://plot.ly"
       },
       "data": [
        {
         "line": {
          "color": "blue",
          "width": 2
         },
         "mode": "lines",
         "name": "Close Price",
         "type": "scatter",
         "x": [
          "2024-12-05T00:00:00-05:00",
          "2024-12-06T00:00:00-05:00",
          "2024-12-09T00:00:00-05:00",
          "2024-12-10T00:00:00-05:00",
          "2024-12-11T00:00:00-05:00",
          "2024-12-12T00:00:00-05:00",
          "2024-12-13T00:00:00-05:00",
          "2024-12-16T00:00:00-05:00",
          "2024-12-17T00:00:00-05:00",
          "2024-12-18T00:00:00-05:00",
          "2024-12-19T00:00:00-05:00",
          "2024-12-20T00:00:00-05:00",
          "2024-12-23T00:00:00-05:00",
          "2024-12-24T00:00:00-05:00",
          "2024-12-26T00:00:00-05:00",
          "2024-12-27T00:00:00-05:00",
          "2024-12-30T00:00:00-05:00",
          "2024-12-31T00:00:00-05:00",
          "2025-01-02T00:00:00-05:00",
          "2025-01-03T00:00:00-05:00",
          "2025-01-06T00:00:00-05:00",
          "2025-01-07T00:00:00-05:00",
          "2025-01-08T00:00:00-05:00",
          "2025-01-10T00:00:00-05:00",
          "2025-01-13T00:00:00-05:00",
          "2025-01-14T00:00:00-05:00",
          "2025-01-15T00:00:00-05:00",
          "2025-01-16T00:00:00-05:00",
          "2025-01-17T00:00:00-05:00",
          "2025-01-21T00:00:00-05:00",
          "2025-01-22T00:00:00-05:00",
          "2025-01-23T00:00:00-05:00",
          "2025-01-24T00:00:00-05:00",
          "2025-01-27T00:00:00-05:00",
          "2025-01-28T00:00:00-05:00",
          "2025-01-29T00:00:00-05:00",
          "2025-01-30T00:00:00-05:00",
          "2025-01-31T00:00:00-05:00",
          "2025-02-03T00:00:00-05:00",
          "2025-02-04T00:00:00-05:00",
          "2025-02-05T00:00:00-05:00",
          "2025-02-06T00:00:00-05:00",
          "2025-02-07T00:00:00-05:00",
          "2025-02-10T00:00:00-05:00",
          "2025-02-11T00:00:00-05:00",
          "2025-02-12T00:00:00-05:00",
          "2025-02-13T00:00:00-05:00",
          "2025-02-14T00:00:00-05:00",
          "2025-02-18T00:00:00-05:00",
          "2025-02-19T00:00:00-05:00",
          "2025-02-20T00:00:00-05:00",
          "2025-02-21T00:00:00-05:00",
          "2025-02-24T00:00:00-05:00",
          "2025-02-25T00:00:00-05:00",
          "2025-02-26T00:00:00-05:00",
          "2025-02-27T00:00:00-05:00",
          "2025-02-28T00:00:00-05:00",
          "2025-03-03T00:00:00-05:00",
          "2025-03-04T00:00:00-05:00",
          "2025-03-05T00:00:00-05:00",
          "2025-03-06T00:00:00-05:00",
          "2025-03-07T00:00:00-05:00",
          "2025-03-10T00:00:00-04:00",
          "2025-03-11T00:00:00-04:00",
          "2025-03-12T00:00:00-04:00",
          "2025-03-13T00:00:00-04:00",
          "2025-03-14T00:00:00-04:00",
          "2025-03-17T00:00:00-04:00",
          "2025-03-18T00:00:00-04:00",
          "2025-03-19T00:00:00-04:00",
          "2025-03-20T00:00:00-04:00",
          "2025-03-21T00:00:00-04:00",
          "2025-03-24T00:00:00-04:00",
          "2025-03-25T00:00:00-04:00",
          "2025-03-26T00:00:00-04:00",
          "2025-03-27T00:00:00-04:00",
          "2025-03-28T00:00:00-04:00",
          "2025-03-31T00:00:00-04:00",
          "2025-04-01T00:00:00-04:00",
          "2025-04-02T00:00:00-04:00",
          "2025-04-03T00:00:00-04:00",
          "2025-04-04T00:00:00-04:00",
          "2025-04-07T00:00:00-04:00",
          "2025-04-08T00:00:00-04:00",
          "2025-04-09T00:00:00-04:00",
          "2025-04-10T00:00:00-04:00",
          "2025-04-11T00:00:00-04:00",
          "2025-04-14T00:00:00-04:00",
          "2025-04-15T00:00:00-04:00",
          "2025-04-16T00:00:00-04:00",
          "2025-04-17T00:00:00-04:00",
          "2025-04-21T00:00:00-04:00",
          "2025-04-22T00:00:00-04:00",
          "2025-04-23T00:00:00-04:00",
          "2025-04-24T00:00:00-04:00",
          "2025-04-25T00:00:00-04:00",
          "2025-04-28T00:00:00-04:00",
          "2025-04-29T00:00:00-04:00",
          "2025-04-30T00:00:00-04:00",
          "2025-05-01T00:00:00-04:00",
          "2025-05-02T00:00:00-04:00",
          "2025-05-05T00:00:00-04:00",
          "2025-05-06T00:00:00-04:00",
          "2025-05-07T00:00:00-04:00",
          "2025-05-08T00:00:00-04:00",
          "2025-05-09T00:00:00-04:00",
          "2025-05-12T00:00:00-04:00",
          "2025-05-13T00:00:00-04:00",
          "2025-05-14T00:00:00-04:00",
          "2025-05-15T00:00:00-04:00",
          "2025-05-16T00:00:00-04:00",
          "2025-05-19T00:00:00-04:00",
          "2025-05-20T00:00:00-04:00",
          "2025-05-21T00:00:00-04:00",
          "2025-05-22T00:00:00-04:00",
          "2025-05-23T00:00:00-04:00",
          "2025-05-27T00:00:00-04:00",
          "2025-05-28T00:00:00-04:00",
          "2025-05-29T00:00:00-04:00",
          "2025-05-30T00:00:00-04:00",
          "2025-06-02T00:00:00-04:00",
          "2025-06-03T00:00:00-04:00",
          "2025-06-04T00:00:00-04:00"
         ],
         "y": {
          "bdata": "AAAAANcXd0AAAAAghVN4QAAAAOCjXHhAAAAAANcPeUAAAADgUYx6QAAAAKCZIXpAAAAAIK5De0AAAADgUfB8QAAAAIDC/X1AAAAAgBSCe0AAAABguEJ7QAAAAMD1UHpAAAAAoJnpekAAAADgeuR8QAAAAIAUYnxAAAAAYI/6ekAAAABgjxZ6QAAAAKBwPXlAAAAA4Hq0d0AAAABACqd5QAAAAMDMsHlAAAAAgMKleEAAAABACq94QAAAAADXq3hAAAAAwPU0eUAAAACAwsV4QAAAACCFw3pAAAAAwB7deUAAAAAAAKh6QAAAAMAegXpAAAAAgMLxeUAAAACAFMZ5QAAAAKBHaXlAAAAAYGbSeEAAAACgcOF4QAAAAKCZUXhAAAAA4HoEeUAAAACgmUl5QAAAAEDh+ndAAAAAIFyDeEAAAABguKJ3QAAAAMAeZXdAAAAAgOuZdkAAAAAgrut1QAAAAAAAiHRAAAAAACkIdUAAAABACj92QAAAAKBwPXZAAAAAgMIhdkAAAADA9Yh2QAAAAGBmJnZAAAAAwMwcdUAAAADgeqh0QAAAAMDM7HJAAAAAwMwsckAAAABAM59xQAAAACCuT3JAAAAAYGbKcUAAAADgowBxQAAAAKCZcXFAAAAAQDN3cEAAAABguGpwQAAAAMDMxGtAAAAAYI/SbEAAAABA4QJvQAAAAIDCFW5AAAAAIFw/b0AAAADgUcBtQAAAAIDrKWxAAAAAIIV7bUAAAADgUYhtQAAAAGC4Fm9AAAAAgD1mcUAAAACAPQJyQAAAAMD1AHFAAAAAgBQScUAAAADAzHhwQAAAAGCPMnBAAAAAIFzHcEAAAAAAKaxxQAAAAOB6tHBAAAAAgMLtbUAAAACgRyltQAAAACCFu2tAAAAAQDMDcUAAAADAzIxvQAAAAIDriW9AAAAAQDOLb0AAAAAghcNvQAAAAKCZMW5AAAAAANcrbkAAAAAAAHBsQAAAAEAKv21AAAAAIK5Xb0AAAAAAKThwQAAAAEAzz3FAAAAAgBTecUAAAADgekByQAAAAGCPonFAAAAA4FGIcUAAAAAgXPNxQAAAAAAphHFAAAAAoJk1cUAAAAAghUNxQAAAAMAezXFAAAAAACmkckAAAACAFOZzQAAAAMAe4XRAAAAAQOG6dUAAAADAHm11QAAAACCu33VAAAAAoHBhdUAAAADAHn11QAAAAIDr6XRAAAAA4KNQdUAAAACgcDV1QAAAAIA9rnZAAAAAYGZOdkAAAABA4WZ2QAAAACBcp3VAAAAAQAprdUAAAADgUYR1QAAAAMDMwHRA",
          "dtype": "f8"
         }
        },
        {
         "line": {
          "color": "orange",
          "dash": "dash",
          "width": 2
         },
         "mode": "lines",
         "name": "50-day SMA",
         "type": "scatter",
         "x": [
          "2024-12-05T00:00:00-05:00",
          "2024-12-06T00:00:00-05:00",
          "2024-12-09T00:00:00-05:00",
          "2024-12-10T00:00:00-05:00",
          "2024-12-11T00:00:00-05:00",
          "2024-12-12T00:00:00-05:00",
          "2024-12-13T00:00:00-05:00",
          "2024-12-16T00:00:00-05:00",
          "2024-12-17T00:00:00-05:00",
          "2024-12-18T00:00:00-05:00",
          "2024-12-19T00:00:00-05:00",
          "2024-12-20T00:00:00-05:00",
          "2024-12-23T00:00:00-05:00",
          "2024-12-24T00:00:00-05:00",
          "2024-12-26T00:00:00-05:00",
          "2024-12-27T00:00:00-05:00",
          "2024-12-30T00:00:00-05:00",
          "2024-12-31T00:00:00-05:00",
          "2025-01-02T00:00:00-05:00",
          "2025-01-03T00:00:00-05:00",
          "2025-01-06T00:00:00-05:00",
          "2025-01-07T00:00:00-05:00",
          "2025-01-08T00:00:00-05:00",
          "2025-01-10T00:00:00-05:00",
          "2025-01-13T00:00:00-05:00",
          "2025-01-14T00:00:00-05:00",
          "2025-01-15T00:00:00-05:00",
          "2025-01-16T00:00:00-05:00",
          "2025-01-17T00:00:00-05:00",
          "2025-01-21T00:00:00-05:00",
          "2025-01-22T00:00:00-05:00",
          "2025-01-23T00:00:00-05:00",
          "2025-01-24T00:00:00-05:00",
          "2025-01-27T00:00:00-05:00",
          "2025-01-28T00:00:00-05:00",
          "2025-01-29T00:00:00-05:00",
          "2025-01-30T00:00:00-05:00",
          "2025-01-31T00:00:00-05:00",
          "2025-02-03T00:00:00-05:00",
          "2025-02-04T00:00:00-05:00",
          "2025-02-05T00:00:00-05:00",
          "2025-02-06T00:00:00-05:00",
          "2025-02-07T00:00:00-05:00",
          "2025-02-10T00:00:00-05:00",
          "2025-02-11T00:00:00-05:00",
          "2025-02-12T00:00:00-05:00",
          "2025-02-13T00:00:00-05:00",
          "2025-02-14T00:00:00-05:00",
          "2025-02-18T00:00:00-05:00",
          "2025-02-19T00:00:00-05:00",
          "2025-02-20T00:00:00-05:00",
          "2025-02-21T00:00:00-05:00",
          "2025-02-24T00:00:00-05:00",
          "2025-02-25T00:00:00-05:00",
          "2025-02-26T00:00:00-05:00",
          "2025-02-27T00:00:00-05:00",
          "2025-02-28T00:00:00-05:00",
          "2025-03-03T00:00:00-05:00",
          "2025-03-04T00:00:00-05:00",
          "2025-03-05T00:00:00-05:00",
          "2025-03-06T00:00:00-05:00",
          "2025-03-07T00:00:00-05:00",
          "2025-03-10T00:00:00-04:00",
          "2025-03-11T00:00:00-04:00",
          "2025-03-12T00:00:00-04:00",
          "2025-03-13T00:00:00-04:00",
          "2025-03-14T00:00:00-04:00",
          "2025-03-17T00:00:00-04:00",
          "2025-03-18T00:00:00-04:00",
          "2025-03-19T00:00:00-04:00",
          "2025-03-20T00:00:00-04:00",
          "2025-03-21T00:00:00-04:00",
          "2025-03-24T00:00:00-04:00",
          "2025-03-25T00:00:00-04:00",
          "2025-03-26T00:00:00-04:00",
          "2025-03-27T00:00:00-04:00",
          "2025-03-28T00:00:00-04:00",
          "2025-03-31T00:00:00-04:00",
          "2025-04-01T00:00:00-04:00",
          "2025-04-02T00:00:00-04:00",
          "2025-04-03T00:00:00-04:00",
          "2025-04-04T00:00:00-04:00",
          "2025-04-07T00:00:00-04:00",
          "2025-04-08T00:00:00-04:00",
          "2025-04-09T00:00:00-04:00",
          "2025-04-10T00:00:00-04:00",
          "2025-04-11T00:00:00-04:00",
          "2025-04-14T00:00:00-04:00",
          "2025-04-15T00:00:00-04:00",
          "2025-04-16T00:00:00-04:00",
          "2025-04-17T00:00:00-04:00",
          "2025-04-21T00:00:00-04:00",
          "2025-04-22T00:00:00-04:00",
          "2025-04-23T00:00:00-04:00",
          "2025-04-24T00:00:00-04:00",
          "2025-04-25T00:00:00-04:00",
          "2025-04-28T00:00:00-04:00",
          "2025-04-29T00:00:00-04:00",
          "2025-04-30T00:00:00-04:00",
          "2025-05-01T00:00:00-04:00",
          "2025-05-02T00:00:00-04:00",
          "2025-05-05T00:00:00-04:00",
          "2025-05-06T00:00:00-04:00",
          "2025-05-07T00:00:00-04:00",
          "2025-05-08T00:00:00-04:00",
          "2025-05-09T00:00:00-04:00",
          "2025-05-12T00:00:00-04:00",
          "2025-05-13T00:00:00-04:00",
          "2025-05-14T00:00:00-04:00",
          "2025-05-15T00:00:00-04:00",
          "2025-05-16T00:00:00-04:00",
          "2025-05-19T00:00:00-04:00",
          "2025-05-20T00:00:00-04:00",
          "2025-05-21T00:00:00-04:00",
          "2025-05-22T00:00:00-04:00",
          "2025-05-23T00:00:00-04:00",
          "2025-05-27T00:00:00-04:00",
          "2025-05-28T00:00:00-04:00",
          "2025-05-29T00:00:00-04:00",
          "2025-05-30T00:00:00-04:00",
          "2025-06-02T00:00:00-04:00",
          "2025-06-03T00:00:00-04:00",
          "2025-06-04T00:00:00-04:00"
         ],
         "y": {
          "bdata": "AAAAAAAA+H8AAAAAAAD4fwAAAAAAAPh/AAAAAAAA+H8AAAAAAAD4fwAAAAAAAPh/AAAAAAAA+H8AAAAAAAD4fwAAAAAAAPh/AAAAAAAA+H8AAAAAAAD4fwAAAAAAAPh/AAAAAAAA+H8AAAAAAAD4fwAAAAAAAPh/AAAAAAAA+H8AAAAAAAD4fwAAAAAAAPh/AAAAAAAA+H8AAAAAAAD4fwAAAAAAAPh/AAAAAAAA+H8AAAAAAAD4fwAAAAAAAPh/AAAAAAAA+H8AAAAAAAD4fwAAAAAAAPh/AAAAAAAA+H8AAAAAAAD4fwAAAAAAAPh/AAAAAAAA+H8AAAAAAAD4fwAAAAAAAPh/AAAAAAAA+H8AAAAAAAD4fwAAAAAAAPh/AAAAAAAA+H8AAAAAAAD4fwAAAAAAAPh/AAAAAAAA+H8AAAAAAAD4fwAAAAAAAPh/AAAAAAAA+H8AAAAAAAD4fwAAAAAAAPh/AAAAAAAA+H8AAAAAAAD4fwAAAAAAAPh/AAAAAAAA+H8UrkchbCB5QFK4HvWXG3lAFK5HoSMLeUDNzMwMLfh4QDMzM1PB2HhACtejgOKteECF61EYUYJ4QOF6FA56VHhAw/Uo/GUbeED2KFxf5dh3QLgehctdpXdAKVyPkhhud0A9CtdDaTt3QKRwPQq1+HZAUrgeLZCudkCPwvVgoWx2QD0K10uEL3ZA4XoUbvD5dUCuR+Gi38R1QB+F62mak3VAH4Xr0bxbdUDhehQGziN1QArXo2Ay9XRApHA9mubPdEDsUbjuya10QOxRuO7Jg3RA7FG47lpcdECkcD0qqSd0QK5H4Wor9nNAexSux5jDc0CkcD2qYJZzQOxRuG4SZ3NA4XoUXrovc0C4HoVzRvhyQB+F67EuwHJAmpmZyeWXckApXI9SJ2xyQOxRuJ7NPHJAzczMTBUMckBSuB7tnuJxQMP1KNxosnFAPQrXM6KGcUBSuB61pldxQM3MzEwVMHFAZmZmHhYQcUDXo3B1AvpwQB+F66mC6XBAFK5HWRfTcEAK16MIrL5wQMP1KOSlp3BAuB6FAwmOcEBxPQrPiHhwQKRwPSIfZnBAH4XryXZUcEAzMzNb9UtwQB+F63kLSnBA9ihcl0NPcEA9CtdbZFdwQArXo9g0Z3BA4XoURml/cED2KFw3zZNwQI/C9cB9r3BA7FG41ufIcEA9CtcL1+9wQArXowAiEXFAexSud+AucUAfheuxck5xQArXo0iUcnFACtejwJ+YcUAUrkfxOMNxQDMzM0ud5nFApHA9CqwIckCF61FQQCdyQLgehSNsOHJA",
          "dtype": "f8"
         }
        },
        {
         "line": {
          "color": "red",
          "dash": "dot",
          "width": 2
         },
         "mode": "lines",
         "name": "50-day EMA",
         "type": "scatter",
         "x": [
          "2024-12-05T00:00:00-05:00",
          "2024-12-06T00:00:00-05:00",
          "2024-12-09T00:00:00-05:00",
          "2024-12-10T00:00:00-05:00",
          "2024-12-11T00:00:00-05:00",
          "2024-12-12T00:00:00-05:00",
          "2024-12-13T00:00:00-05:00",
          "2024-12-16T00:00:00-05:00",
          "2024-12-17T00:00:00-05:00",
          "2024-12-18T00:00:00-05:00",
          "2024-12-19T00:00:00-05:00",
          "2024-12-20T00:00:00-05:00",
          "2024-12-23T00:00:00-05:00",
          "2024-12-24T00:00:00-05:00",
          "2024-12-26T00:00:00-05:00",
          "2024-12-27T00:00:00-05:00",
          "2024-12-30T00:00:00-05:00",
          "2024-12-31T00:00:00-05:00",
          "2025-01-02T00:00:00-05:00",
          "2025-01-03T00:00:00-05:00",
          "2025-01-06T00:00:00-05:00",
          "2025-01-07T00:00:00-05:00",
          "2025-01-08T00:00:00-05:00",
          "2025-01-10T00:00:00-05:00",
          "2025-01-13T00:00:00-05:00",
          "2025-01-14T00:00:00-05:00",
          "2025-01-15T00:00:00-05:00",
          "2025-01-16T00:00:00-05:00",
          "2025-01-17T00:00:00-05:00",
          "2025-01-21T00:00:00-05:00",
          "2025-01-22T00:00:00-05:00",
          "2025-01-23T00:00:00-05:00",
          "2025-01-24T00:00:00-05:00",
          "2025-01-27T00:00:00-05:00",
          "2025-01-28T00:00:00-05:00",
          "2025-01-29T00:00:00-05:00",
          "2025-01-30T00:00:00-05:00",
          "2025-01-31T00:00:00-05:00",
          "2025-02-03T00:00:00-05:00",
          "2025-02-04T00:00:00-05:00",
          "2025-02-05T00:00:00-05:00",
          "2025-02-06T00:00:00-05:00",
          "2025-02-07T00:00:00-05:00",
          "2025-02-10T00:00:00-05:00",
          "2025-02-11T00:00:00-05:00",
          "2025-02-12T00:00:00-05:00",
          "2025-02-13T00:00:00-05:00",
          "2025-02-14T00:00:00-05:00",
          "2025-02-18T00:00:00-05:00",
          "2025-02-19T00:00:00-05:00",
          "2025-02-20T00:00:00-05:00",
          "2025-02-21T00:00:00-05:00",
          "2025-02-24T00:00:00-05:00",
          "2025-02-25T00:00:00-05:00",
          "2025-02-26T00:00:00-05:00",
          "2025-02-27T00:00:00-05:00",
          "2025-02-28T00:00:00-05:00",
          "2025-03-03T00:00:00-05:00",
          "2025-03-04T00:00:00-05:00",
          "2025-03-05T00:00:00-05:00",
          "2025-03-06T00:00:00-05:00",
          "2025-03-07T00:00:00-05:00",
          "2025-03-10T00:00:00-04:00",
          "2025-03-11T00:00:00-04:00",
          "2025-03-12T00:00:00-04:00",
          "2025-03-13T00:00:00-04:00",
          "2025-03-14T00:00:00-04:00",
          "2025-03-17T00:00:00-04:00",
          "2025-03-18T00:00:00-04:00",
          "2025-03-19T00:00:00-04:00",
          "2025-03-20T00:00:00-04:00",
          "2025-03-21T00:00:00-04:00",
          "2025-03-24T00:00:00-04:00",
          "2025-03-25T00:00:00-04:00",
          "2025-03-26T00:00:00-04:00",
          "2025-03-27T00:00:00-04:00",
          "2025-03-28T00:00:00-04:00",
          "2025-03-31T00:00:00-04:00",
          "2025-04-01T00:00:00-04:00",
          "2025-04-02T00:00:00-04:00",
          "2025-04-03T00:00:00-04:00",
          "2025-04-04T00:00:00-04:00",
          "2025-04-07T00:00:00-04:00",
          "2025-04-08T00:00:00-04:00",
          "2025-04-09T00:00:00-04:00",
          "2025-04-10T00:00:00-04:00",
          "2025-04-11T00:00:00-04:00",
          "2025-04-14T00:00:00-04:00",
          "2025-04-15T00:00:00-04:00",
          "2025-04-16T00:00:00-04:00",
          "2025-04-17T00:00:00-04:00",
          "2025-04-21T00:00:00-04:00",
          "2025-04-22T00:00:00-04:00",
          "2025-04-23T00:00:00-04:00",
          "2025-04-24T00:00:00-04:00",
          "2025-04-25T00:00:00-04:00",
          "2025-04-28T00:00:00-04:00",
          "2025-04-29T00:00:00-04:00",
          "2025-04-30T00:00:00-04:00",
          "2025-05-01T00:00:00-04:00",
          "2025-05-02T00:00:00-04:00",
          "2025-05-05T00:00:00-04:00",
          "2025-05-06T00:00:00-04:00",
          "2025-05-07T00:00:00-04:00",
          "2025-05-08T00:00:00-04:00",
          "2025-05-09T00:00:00-04:00",
          "2025-05-12T00:00:00-04:00",
          "2025-05-13T00:00:00-04:00",
          "2025-05-14T00:00:00-04:00",
          "2025-05-15T00:00:00-04:00",
          "2025-05-16T00:00:00-04:00",
          "2025-05-19T00:00:00-04:00",
          "2025-05-20T00:00:00-04:00",
          "2025-05-21T00:00:00-04:00",
          "2025-05-22T00:00:00-04:00",
          "2025-05-23T00:00:00-04:00",
          "2025-05-27T00:00:00-04:00",
          "2025-05-28T00:00:00-04:00",
          "2025-05-29T00:00:00-04:00",
          "2025-05-30T00:00:00-04:00",
          "2025-06-02T00:00:00-04:00",
          "2025-06-03T00:00:00-04:00",
          "2025-06-04T00:00:00-04:00"
         ],
         "y": {
          "bdata": "AAAAANcXd0Bvbm4uOCR3QDSD06N4MHdA51XpH0VDd0BqNOWaQGR3QJluE5bBf3dA8xmBoI6ld0AgS71hr9p3QFZwR71LGHhA31z+2I86eECbuEne/1h4QLMGeTzDbHhA8oi1lbyFeEC3purjm7F4QOJUw6Ol1nhA6Ku7QSLseEACfeE41vd4QBt4q/uQ+nhA/AnwVMfteEBHuf81C/V4QF0MUCJo/HhAjLYaRAL5eECg61qtG/Z4QIEA/RQy83hAgQXkTcb1eEBPCtFF5PN4QLrczbwSBnlAF9nUo4EOeUDkIG2ikB55QPV5CRd4LHlAkdnHuzQ0eUBkK+gx7Tl5QFHKmJXIO3lAYsKInaY3eUAOBiQgRTR5QNEFjIlhK3lA9mRjANspeUAQcFCxGSt5QPu7wI4rH3lAkqo2WA8ZeUAAwnBEYQp5QLoPJibc+XhA5ddq6ATieEBVtnXHR8R4QH//V3TCmXhAtzH6oe51eEAFcf96s194QArgaHJHSnhA3XIUlpw0eEDt/21M1yN4QAIUzujcD3hAVzH4qkDyd0AO1U3uPdF3QFhy9WQgoHdA3G2HaGhpd0B+Wr40SC93QMUp/UJb/nZAlZtSdh/KdkB7lYaJBpB2QJ6PwuSiXHZAa/jEVnEhdkDMDIvAFOh1QL9/bGeLl3VAnlyGq3RPdUDeOqQ8LhV1QKNMIJeK2HRAELjOjB2kdEA8FT8dPGp0QPilRsmnKnRAETueXTD0c0DtZff+G8BzQHvuKUfilXNAXSEA5e9/c0AsPh7193BzQO5tfGZ/WHNAwox3YqhBc0C2/5XZsyVzQBNazM8WCHNAzJcF53jxckC/eB4Gt+RyQAh5T7S+znJAbZeIeCmockBzh85TPX9yQCiH3wrAUHJApEpedqtDckB6C87FrSpyQH+DUoScEnJAAikxToP7cUBxMSWwbOZxQOuYAE1IynFAJMo3hiGvcUC6ROBsV4xxQDZvzVp8cXFArD2iG7JfcUDm4JspG1RxQKtuQO7uWHFANkyinidecUCUo1C/B2dxQPJlOWFdaXFAcN/wJJRqcUBJcuxR8W9xQFr6sEm8cHFAXMNjnWpucUBKUtj3u2xxQBVUTZuDcHFAPcTCIZR8cUDhEaxcy5RxQLWY67rntXFA1rA31EHecUBQE8ct+gFyQBaaFAXKKHJAKbL63SBJckBPzuHwSGlyQH4M8mlognJAprEL55KeckAjHu2OkbhyQJW9zwZS4HJAx1aGQcECc0BgU8KMzCRzQBZLUVv/PXNALlKFoNdTc0D/WMFh0mlzQOG0qpxFd3NA",
          "dtype": "f8"
         }
        }
       ],
       "layout": {
        "hovermode": "x",
        "template": {
         "data": {
          "bar": [
           {
            "error_x": {
             "color": "#f2f5fa"
            },
            "error_y": {
             "color": "#f2f5fa"
            },
            "marker": {
             "line": {
              "color": "rgb(17,17,17)",
              "width": 0.5
             },
             "pattern": {
              "fillmode": "overlay",
              "size": 10,
              "solidity": 0.2
             }
            },
            "type": "bar"
           }
          ],
          "barpolar": [
           {
            "marker": {
             "line": {
              "color": "rgb(17,17,17)",
              "width": 0.5
             },
             "pattern": {
              "fillmode": "overlay",
              "size": 10,
              "solidity": 0.2
             }
            },
            "type": "barpolar"
           }
          ],
          "carpet": [
           {
            "aaxis": {
             "endlinecolor": "#A2B1C6",
             "gridcolor": "#506784",
             "linecolor": "#506784",
             "minorgridcolor": "#506784",
             "startlinecolor": "#A2B1C6"
            },
            "baxis": {
             "endlinecolor": "#A2B1C6",
             "gridcolor": "#506784",
             "linecolor": "#506784",
             "minorgridcolor": "#506784",
             "startlinecolor": "#A2B1C6"
            },
            "type": "carpet"
           }
          ],
          "choropleth": [
           {
            "colorbar": {
             "outlinewidth": 0,
             "ticks": ""
            },
            "type": "choropleth"
           }
          ],
          "contour": [
           {
            "colorbar": {
             "outlinewidth": 0,
             "ticks": ""
            },
            "colorscale": [
             [
              0,
              "#0d0887"
             ],
             [
              0.1111111111111111,
              "#46039f"
             ],
             [
              0.2222222222222222,
              "#7201a8"
             ],
             [
              0.3333333333333333,
              "#9c179e"
             ],
             [
              0.4444444444444444,
              "#bd3786"
             ],
             [
              0.5555555555555556,
              "#d8576b"
             ],
             [
              0.6666666666666666,
              "#ed7953"
             ],
             [
              0.7777777777777778,
              "#fb9f3a"
             ],
             [
              0.8888888888888888,
              "#fdca26"
             ],
             [
              1,
              "#f0f921"
             ]
            ],
            "type": "contour"
           }
          ],
          "contourcarpet": [
           {
            "colorbar": {
             "outlinewidth": 0,
             "ticks": ""
            },
            "type": "contourcarpet"
           }
          ],
          "heatmap": [
           {
            "colorbar": {
             "outlinewidth": 0,
             "ticks": ""
            },
            "colorscale": [
             [
              0,
              "#0d0887"
             ],
             [
              0.1111111111111111,
              "#46039f"
             ],
             [
              0.2222222222222222,
              "#7201a8"
             ],
             [
              0.3333333333333333,
              "#9c179e"
             ],
             [
              0.4444444444444444,
              "#bd3786"
             ],
             [
              0.5555555555555556,
              "#d8576b"
             ],
             [
              0.6666666666666666,
              "#ed7953"
             ],
             [
              0.7777777777777778,
              "#fb9f3a"
             ],
             [
              0.8888888888888888,
              "#fdca26"
             ],
             [
              1,
              "#f0f921"
             ]
            ],
            "type": "heatmap"
           }
          ],
          "histogram": [
           {
            "marker": {
             "pattern": {
              "fillmode": "overlay",
              "size": 10,
              "solidity": 0.2
             }
            },
            "type": "histogram"
           }
          ],
          "histogram2d": [
           {
            "colorbar": {
             "outlinewidth": 0,
             "ticks": ""
            },
            "colorscale": [
             [
              0,
              "#0d0887"
             ],
             [
              0.1111111111111111,
              "#46039f"
             ],
             [
              0.2222222222222222,
              "#7201a8"
             ],
             [
              0.3333333333333333,
              "#9c179e"
             ],
             [
              0.4444444444444444,
              "#bd3786"
             ],
             [
              0.5555555555555556,
              "#d8576b"
             ],
             [
              0.6666666666666666,
              "#ed7953"
             ],
             [
              0.7777777777777778,
              "#fb9f3a"
             ],
             [
              0.8888888888888888,
              "#fdca26"
             ],
             [
              1,
              "#f0f921"
             ]
            ],
            "type": "histogram2d"
           }
          ],
          "histogram2dcontour": [
           {
            "colorbar": {
             "outlinewidth": 0,
             "ticks": ""
            },
            "colorscale": [
             [
              0,
              "#0d0887"
             ],
             [
              0.1111111111111111,
              "#46039f"
             ],
             [
              0.2222222222222222,
              "#7201a8"
             ],
             [
              0.3333333333333333,
              "#9c179e"
             ],
             [
              0.4444444444444444,
              "#bd3786"
             ],
             [
              0.5555555555555556,
              "#d8576b"
             ],
             [
              0.6666666666666666,
              "#ed7953"
             ],
             [
              0.7777777777777778,
              "#fb9f3a"
             ],
             [
              0.8888888888888888,
              "#fdca26"
             ],
             [
              1,
              "#f0f921"
             ]
            ],
            "type": "histogram2dcontour"
           }
          ],
          "mesh3d": [
           {
            "colorbar": {
             "outlinewidth": 0,
             "ticks": ""
            },
            "type": "mesh3d"
           }
          ],
          "parcoords": [
           {
            "line": {
             "colorbar": {
              "outlinewidth": 0,
              "ticks": ""
             }
            },
            "type": "parcoords"
           }
          ],
          "pie": [
           {
            "automargin": true,
            "type": "pie"
           }
          ],
          "scatter": [
           {
            "marker": {
             "line": {
              "color": "#283442"
             }
            },
            "type": "scatter"
           }
          ],
          "scatter3d": [
           {
            "line": {
             "colorbar": {
              "outlinewidth": 0,
              "ticks": ""
             }
            },
            "marker": {
             "colorbar": {
              "outlinewidth": 0,
              "ticks": ""
             }
            },
            "type": "scatter3d"
           }
          ],
          "scattercarpet": [
           {
            "marker": {
             "colorbar": {
              "outlinewidth": 0,
              "ticks": ""
             }
            },
            "type": "scattercarpet"
           }
          ],
          "scattergeo": [
           {
            "marker": {
             "colorbar": {
              "outlinewidth": 0,
              "ticks": ""
             }
            },
            "type": "scattergeo"
           }
          ],
          "scattergl": [
           {
            "marker": {
             "line": {
              "color": "#283442"
             }
            },
            "type": "scattergl"
           }
          ],
          "scattermap": [
           {
            "marker": {
             "colorbar": {
              "outlinewidth": 0,
              "ticks": ""
             }
            },
            "type": "scattermap"
           }
          ],
          "scattermapbox": [
           {
            "marker": {
             "colorbar": {
              "outlinewidth": 0,
              "ticks": ""
             }
            },
            "type": "scattermapbox"
           }
          ],
          "scatterpolar": [
           {
            "marker": {
             "colorbar": {
              "outlinewidth": 0,
              "ticks": ""
             }
            },
            "type": "scatterpolar"
           }
          ],
          "scatterpolargl": [
           {
            "marker": {
             "colorbar": {
              "outlinewidth": 0,
              "ticks": ""
             }
            },
            "type": "scatterpolargl"
           }
          ],
          "scatterternary": [
           {
            "marker": {
             "colorbar": {
              "outlinewidth": 0,
              "ticks": ""
             }
            },
            "type": "scatterternary"
           }
          ],
          "surface": [
           {
            "colorbar": {
             "outlinewidth": 0,
             "ticks": ""
            },
            "colorscale": [
             [
              0,
              "#0d0887"
             ],
             [
              0.1111111111111111,
              "#46039f"
             ],
             [
              0.2222222222222222,
              "#7201a8"
             ],
             [
              0.3333333333333333,
              "#9c179e"
             ],
             [
              0.4444444444444444,
              "#bd3786"
             ],
             [
              0.5555555555555556,
              "#d8576b"
             ],
             [
              0.6666666666666666,
              "#ed7953"
             ],
             [
              0.7777777777777778,
              "#fb9f3a"
             ],
             [
              0.8888888888888888,
              "#fdca26"
             ],
             [
              1,
              "#f0f921"
             ]
            ],
            "type": "surface"
           }
          ],
          "table": [
           {
            "cells": {
             "fill": {
              "color": "#506784"
             },
             "line": {
              "color": "rgb(17,17,17)"
             }
            },
            "header": {
             "fill": {
              "color": "#2a3f5f"
             },
             "line": {
              "color": "rgb(17,17,17)"
             }
            },
            "type": "table"
           }
          ]
         },
         "layout": {
          "annotationdefaults": {
           "arrowcolor": "#f2f5fa",
           "arrowhead": 0,
           "arrowwidth": 1
          },
          "autotypenumbers": "strict",
          "coloraxis": {
           "colorbar": {
            "outlinewidth": 0,
            "ticks": ""
           }
          },
          "colorscale": {
           "diverging": [
            [
             0,
             "#8e0152"
            ],
            [
             0.1,
             "#c51b7d"
            ],
            [
             0.2,
             "#de77ae"
            ],
            [
             0.3,
             "#f1b6da"
            ],
            [
             0.4,
             "#fde0ef"
            ],
            [
             0.5,
             "#f7f7f7"
            ],
            [
             0.6,
             "#e6f5d0"
            ],
            [
             0.7,
             "#b8e186"
            ],
            [
             0.8,
             "#7fbc41"
            ],
            [
             0.9,
             "#4d9221"
            ],
            [
             1,
             "#276419"
            ]
           ],
           "sequential": [
            [
             0,
             "#0d0887"
            ],
            [
             0.1111111111111111,
             "#46039f"
            ],
            [
             0.2222222222222222,
             "#7201a8"
            ],
            [
             0.3333333333333333,
             "#9c179e"
            ],
            [
             0.4444444444444444,
             "#bd3786"
            ],
            [
             0.5555555555555556,
             "#d8576b"
            ],
            [
             0.6666666666666666,
             "#ed7953"
            ],
            [
             0.7777777777777778,
             "#fb9f3a"
            ],
            [
             0.8888888888888888,
             "#fdca26"
            ],
            [
             1,
             "#f0f921"
            ]
           ],
           "sequentialminus": [
            [
             0,
             "#0d0887"
            ],
            [
             0.1111111111111111,
             "#46039f"
            ],
            [
             0.2222222222222222,
             "#7201a8"
            ],
            [
             0.3333333333333333,
             "#9c179e"
            ],
            [
             0.4444444444444444,
             "#bd3786"
            ],
            [
             0.5555555555555556,
             "#d8576b"
            ],
            [
             0.6666666666666666,
             "#ed7953"
            ],
            [
             0.7777777777777778,
             "#fb9f3a"
            ],
            [
             0.8888888888888888,
             "#fdca26"
            ],
            [
             1,
             "#f0f921"
            ]
           ]
          },
          "colorway": [
           "#636efa",
           "#EF553B",
           "#00cc96",
           "#ab63fa",
           "#FFA15A",
           "#19d3f3",
           "#FF6692",
           "#B6E880",
           "#FF97FF",
           "#FECB52"
          ],
          "font": {
           "color": "#f2f5fa"
          },
          "geo": {
           "bgcolor": "rgb(17,17,17)",
           "lakecolor": "rgb(17,17,17)",
           "landcolor": "rgb(17,17,17)",
           "showlakes": true,
           "showland": true,
           "subunitcolor": "#506784"
          },
          "hoverlabel": {
           "align": "left"
          },
          "hovermode": "closest",
          "mapbox": {
           "style": "dark"
          },
          "paper_bgcolor": "rgb(17,17,17)",
          "plot_bgcolor": "rgb(17,17,17)",
          "polar": {
           "angularaxis": {
            "gridcolor": "#506784",
            "linecolor": "#506784",
            "ticks": ""
           },
           "bgcolor": "rgb(17,17,17)",
           "radialaxis": {
            "gridcolor": "#506784",
            "linecolor": "#506784",
            "ticks": ""
           }
          },
          "scene": {
           "xaxis": {
            "backgroundcolor": "rgb(17,17,17)",
            "gridcolor": "#506784",
            "gridwidth": 2,
            "linecolor": "#506784",
            "showbackground": true,
            "ticks": "",
            "zerolinecolor": "#C8D4E3"
           },
           "yaxis": {
            "backgroundcolor": "rgb(17,17,17)",
            "gridcolor": "#506784",
            "gridwidth": 2,
            "linecolor": "#506784",
            "showbackground": true,
            "ticks": "",
            "zerolinecolor": "#C8D4E3"
           },
           "zaxis": {
            "backgroundcolor": "rgb(17,17,17)",
            "gridcolor": "#506784",
            "gridwidth": 2,
            "linecolor": "#506784",
            "showbackground": true,
            "ticks": "",
            "zerolinecolor": "#C8D4E3"
           }
          },
          "shapedefaults": {
           "line": {
            "color": "#f2f5fa"
           }
          },
          "sliderdefaults": {
           "bgcolor": "#C8D4E3",
           "bordercolor": "rgb(17,17,17)",
           "borderwidth": 1,
           "tickwidth": 0
          },
          "ternary": {
           "aaxis": {
            "gridcolor": "#506784",
            "linecolor": "#506784",
            "ticks": ""
           },
           "baxis": {
            "gridcolor": "#506784",
            "linecolor": "#506784",
            "ticks": ""
           },
           "bgcolor": "rgb(17,17,17)",
           "caxis": {
            "gridcolor": "#506784",
            "linecolor": "#506784",
            "ticks": ""
           }
          },
          "title": {
           "x": 0.05
          },
          "updatemenudefaults": {
           "bgcolor": "#506784",
           "borderwidth": 0
          },
          "xaxis": {
           "automargin": true,
           "gridcolor": "#283442",
           "linecolor": "#506784",
           "ticks": "",
           "title": {
            "standoff": 15
           },
           "zerolinecolor": "#283442",
           "zerolinewidth": 2
          },
          "yaxis": {
           "automargin": true,
           "gridcolor": "#283442",
           "linecolor": "#506784",
           "ticks": "",
           "title": {
            "standoff": 15
           },
           "zerolinecolor": "#283442",
           "zerolinewidth": 2
          }
         }
        },
        "title": {
         "text": "Tesla - Moving Averages"
        },
        "xaxis": {
         "title": {
          "text": "Date"
         }
        },
        "yaxis": {
         "title": {
          "text": "Price"
         }
        }
       }
      },
      "image/png": "[encoded data removed]"
     },
     "metadata": {},
     "output_type": "display_data"
    }
   ],
   "source": [
    "import numpy as np\n",
    "import pandas as pd\n",
    "import plotly.graph_objects as go\n",
    "import talib\n",
    "import yfinance as yf\n",
    "\n",
    "def fetch_data(ticker, period='6mo'):\n",
    "    stock = yf.Ticker(ticker)\n",
    "    df = stock.history(period=period)\n",
    "    return df\n",
    "\n",
    "# Fetch Tesla stock data\n",
    "ticker = 'TSLA'\n",
    "df = fetch_data(ticker)\n",
    "df['Date'] = df.index\n",
    "\n",
    "# Calculate Moving Averages\n",
    "df['SMA_50'] = df['Close'].rolling(window=50).mean()\n",
    "df['EMA_50'] = df['Close'].ewm(span=50, adjust=False).mean()\n",
    "\n",
    "# Create interactive Plotly figure\n",
    "fig = go.Figure()\n",
    "\n",
    "# Add Close Price\n",
    "fig.add_trace(go.Scatter(x=df['Date'], y=df['Close'], mode='lines', name='Close Price', line=dict(color='blue', width=2)))\n",
    "\n",
    "# Add SMA 50\n",
    "fig.add_trace(go.Scatter(x=df['Date'], y=df['SMA_50'], mode='lines', name='50-day SMA', line=dict(color='orange', width=2, dash='dash')))\n",
    "\n",
    "# Add EMA 50\n",
    "fig.add_trace(go.Scatter(x=df['Date'], y=df['EMA_50'], mode='lines', name='50-day EMA', line=dict(color='red', width=2, dash='dot')))\n",
    "\n",
    "# Update layout\n",
    "fig.update_layout(title='Tesla - Moving Averages', xaxis_title='Date', yaxis_title='Price', template='plotly_dark', hovermode='x')\n",
    "\n",
    "# Show figure\n",
    "fig.show()"
   ]
  },
  {
   "cell_type": "code",
   "execution_count": 2,
   "id": "dfdb6759",
   "metadata": {},
   "outputs": [
    {
     "data": {
      "application/vnd.plotly.v1+json": {
       "config": {
        "plotlyServerURL": "https://plot.ly"
       },
       "data": [
        {
         "line": {
          "color": "purple",
          "width": 2
         },
         "mode": "lines",
         "name": "ADX",
         "type": "scatter",
         "x": [
          "2024-12-05T00:00:00-05:00",
          "2024-12-06T00:00:00-05:00",
          "2024-12-09T00:00:00-05:00",
          "2024-12-10T00:00:00-05:00",
          "2024-12-11T00:00:00-05:00",
          "2024-12-12T00:00:00-05:00",
          "2024-12-13T00:00:00-05:00",
          "2024-12-16T00:00:00-05:00",
          "2024-12-17T00:00:00-05:00",
          "2024-12-18T00:00:00-05:00",
          "2024-12-19T00:00:00-05:00",
          "2024-12-20T00:00:00-05:00",
          "2024-12-23T00:00:00-05:00",
          "2024-12-24T00:00:00-05:00",
          "2024-12-26T00:00:00-05:00",
          "2024-12-27T00:00:00-05:00",
          "2024-12-30T00:00:00-05:00",
          "2024-12-31T00:00:00-05:00",
          "2025-01-02T00:00:00-05:00",
          "2025-01-03T00:00:00-05:00",
          "2025-01-06T00:00:00-05:00",
          "2025-01-07T00:00:00-05:00",
          "2025-01-08T00:00:00-05:00",
          "2025-01-10T00:00:00-05:00",
          "2025-01-13T00:00:00-05:00",
          "2025-01-14T00:00:00-05:00",
          "2025-01-15T00:00:00-05:00",
          "2025-01-16T00:00:00-05:00",
          "2025-01-17T00:00:00-05:00",
          "2025-01-21T00:00:00-05:00",
          "2025-01-22T00:00:00-05:00",
          "2025-01-23T00:00:00-05:00",
          "2025-01-24T00:00:00-05:00",
          "2025-01-27T00:00:00-05:00",
          "2025-01-28T00:00:00-05:00",
          "2025-01-29T00:00:00-05:00",
          "2025-01-30T00:00:00-05:00",
          "2025-01-31T00:00:00-05:00",
          "2025-02-03T00:00:00-05:00",
          "2025-02-04T00:00:00-05:00",
          "2025-02-05T00:00:00-05:00",
          "2025-02-06T00:00:00-05:00",
          "2025-02-07T00:00:00-05:00",
          "2025-02-10T00:00:00-05:00",
          "2025-02-11T00:00:00-05:00",
          "2025-02-12T00:00:00-05:00",
          "2025-02-13T00:00:00-05:00",
          "2025-02-14T00:00:00-05:00",
          "2025-02-18T00:00:00-05:00",
          "2025-02-19T00:00:00-05:00",
          "2025-02-20T00:00:00-05:00",
          "2025-02-21T00:00:00-05:00",
          "2025-02-24T00:00:00-05:00",
          "2025-02-25T00:00:00-05:00",
          "2025-02-26T00:00:00-05:00",
          "2025-02-27T00:00:00-05:00",
          "2025-02-28T00:00:00-05:00",
          "2025-03-03T00:00:00-05:00",
          "2025-03-04T00:00:00-05:00",
          "2025-03-05T00:00:00-05:00",
          "2025-03-06T00:00:00-05:00",
          "2025-03-07T00:00:00-05:00",
          "2025-03-10T00:00:00-04:00",
          "2025-03-11T00:00:00-04:00",
          "2025-03-12T00:00:00-04:00",
          "2025-03-13T00:00:00-04:00",
          "2025-03-14T00:00:00-04:00",
          "2025-03-17T00:00:00-04:00",
          "2025-03-18T00:00:00-04:00",
          "2025-03-19T00:00:00-04:00",
          "2025-03-20T00:00:00-04:00",
          "2025-03-21T00:00:00-04:00",
          "2025-03-24T00:00:00-04:00",
          "2025-03-25T00:00:00-04:00",
          "2025-03-26T00:00:00-04:00",
          "2025-03-27T00:00:00-04:00",
          "2025-03-28T00:00:00-04:00",
          "2025-03-31T00:00:00-04:00",
          "2025-04-01T00:00:00-04:00",
          "2025-04-02T00:00:00-04:00",
          "2025-04-03T00:00:00-04:00",
          "2025-04-04T00:00:00-04:00",
          "2025-04-07T00:00:00-04:00",
          "2025-04-08T00:00:00-04:00",
          "2025-04-09T00:00:00-04:00",
          "2025-04-10T00:00:00-04:00",
          "2025-04-11T00:00:00-04:00",
          "2025-04-14T00:00:00-04:00",
          "2025-04-15T00:00:00-04:00",
          "2025-04-16T00:00:00-04:00",
          "2025-04-17T00:00:00-04:00",
          "2025-04-21T00:00:00-04:00",
          "2025-04-22T00:00:00-04:00",
          "2025-04-23T00:00:00-04:00",
          "2025-04-24T00:00:00-04:00",
          "2025-04-25T00:00:00-04:00",
          "2025-04-28T00:00:00-04:00",
          "2025-04-29T00:00:00-04:00",
          "2025-04-30T00:00:00-04:00",
          "2025-05-01T00:00:00-04:00",
          "2025-05-02T00:00:00-04:00",
          "2025-05-05T00:00:00-04:00",
          "2025-05-06T00:00:00-04:00",
          "2025-05-07T00:00:00-04:00",
          "2025-05-08T00:00:00-04:00",
          "2025-05-09T00:00:00-04:00",
          "2025-05-12T00:00:00-04:00",
          "2025-05-13T00:00:00-04:00",
          "2025-05-14T00:00:00-04:00",
          "2025-05-15T00:00:00-04:00",
          "2025-05-16T00:00:00-04:00",
          "2025-05-19T00:00:00-04:00",
          "2025-05-20T00:00:00-04:00",
          "2025-05-21T00:00:00-04:00",
          "2025-05-22T00:00:00-04:00",
          "2025-05-23T00:00:00-04:00",
          "2025-05-27T00:00:00-04:00",
          "2025-05-28T00:00:00-04:00",
          "2025-05-29T00:00:00-04:00",
          "2025-05-30T00:00:00-04:00",
          "2025-06-02T00:00:00-04:00",
          "2025-06-03T00:00:00-04:00",
          "2025-06-04T00:00:00-04:00"
         ],
         "y": {
          "bdata": "AAAAAAAA+H8AAAAAAAD4fwAAAAAAAPh/AAAAAAAA+H8AAAAAAAD4fwAAAAAAAPh/AAAAAAAA+H8AAAAAAAD4fwAAAAAAAPh/AAAAAAAA+H8AAAAAAAD4fwAAAAAAAPh/AAAAAAAA+H8AAAAAAAD4fwAAAAAAAPh/AAAAAAAA+H8AAAAAAAD4fwAAAAAAAPh/AAAAAAAA+H8AAAAAAAD4fwAAAAAAAPh/AAAAAAAA+H8AAAAAAAD4fwAAAAAAAPh/AAAAAAAA+H8AAAAAAAD4fwAAAAAAAPh/TmkP6OrOLkCvBXjECg4wQGCGESzc5i9AK52wDHC1L0ByrnEbMOsuQO6mW+pI1i1ALwoze2NNLEBuILVHUR4rQHOOpSbkOCpA4DJs5iXaKECYOJ8dLFcoQEPxKVGEFChASwH+AvJRJ0Am5jjIASonQNvTIlGBHChAZoGyFNtdKECIVea1EnkpQLdf3cczYSxAvw3V6i0UL0A65IZKFfsvQPucD3mDMzBAgDJNYqFlMEAYESHF0wcwQD/2wjqJ9S9A9hlLY7aRMECSzRV15IUxQDEttDDWVjNA2wUMFztINUARRhi6B0c3QKNU/vmYUTlACy+9AYZvOkANudyUqus7QDK55/inTD1APQMq3iHMPkDlBkmA3TdAQN3qoGXwTkFAWrw+U/tYQkCmqfxyD71CQHgcE2FuNUNAN4y7GxCFQ0D2HcHbnepDQMk4gohNa0RAPenXssJxREA7Vt7HwXdEQHJUbCwqDURAHZhAeo7IQkA3RlUugYNBQGv5zpd7T0BAf1aQD9yMPkD9Fc9ZCbE8QFl/7BmmvztA5jIC7PX6OUDojIhLL7M4QMVyzkjSgjdA6kgBrMV4N0Bi5Dkd+CU4QJsrXIbLxjhAvSmpukj/N0BKOhUiBkY3QDpusCb/mTZAyTKnO5m9NUBO6bBz8fA0QAh8NVjC2TRA/nFnLDvENEAm/IxvIVg1QB3u/nX1IzVASq+GlXbvM0ByaWI0rM8yQLNctdC7jDJA4KUR54ekMkBAxULXoLoyQDgPw3tWQDJAMtv86g4eMkC3gJS/HC4yQD00BFoD3DFAUgV6n/1YMUBFAviNwdgwQLzzgIiaDzFAttroFPUSMkBrHKkdFpkzQI12QLSDgjVARRDGUu6hN0BCid93yWk5QIBnS9MfOjtAEu5oAYkkPECBlWQqa2Q9QJ19nziKyj1ATavizcQYPkDensXqaGE+QBKs9oV+bD9AnakJPnY3QEBuES49lbtAQPJ4ODsEuEBACGAYuR45QECgBi1GleM/QKN0S82SPj5A",
          "dtype": "f8"
         }
        },
        {
         "line": {
          "color": "red",
          "dash": "dash",
          "width": 2
         },
         "mode": "lines",
         "name": "Strong Trend Threshold",
         "type": "scatter",
         "x": [
          "2024-12-05T00:00:00-05:00",
          "2024-12-06T00:00:00-05:00",
          "2024-12-09T00:00:00-05:00",
          "2024-12-10T00:00:00-05:00",
          "2024-12-11T00:00:00-05:00",
          "2024-12-12T00:00:00-05:00",
          "2024-12-13T00:00:00-05:00",
          "2024-12-16T00:00:00-05:00",
          "2024-12-17T00:00:00-05:00",
          "2024-12-18T00:00:00-05:00",
          "2024-12-19T00:00:00-05:00",
          "2024-12-20T00:00:00-05:00",
          "2024-12-23T00:00:00-05:00",
          "2024-12-24T00:00:00-05:00",
          "2024-12-26T00:00:00-05:00",
          "2024-12-27T00:00:00-05:00",
          "2024-12-30T00:00:00-05:00",
          "2024-12-31T00:00:00-05:00",
          "2025-01-02T00:00:00-05:00",
          "2025-01-03T00:00:00-05:00",
          "2025-01-06T00:00:00-05:00",
          "2025-01-07T00:00:00-05:00",
          "2025-01-08T00:00:00-05:00",
          "2025-01-10T00:00:00-05:00",
          "2025-01-13T00:00:00-05:00",
          "2025-01-14T00:00:00-05:00",
          "2025-01-15T00:00:00-05:00",
          "2025-01-16T00:00:00-05:00",
          "2025-01-17T00:00:00-05:00",
          "2025-01-21T00:00:00-05:00",
          "2025-01-22T00:00:00-05:00",
          "2025-01-23T00:00:00-05:00",
          "2025-01-24T00:00:00-05:00",
          "2025-01-27T00:00:00-05:00",
          "2025-01-28T00:00:00-05:00",
          "2025-01-29T00:00:00-05:00",
          "2025-01-30T00:00:00-05:00",
          "2025-01-31T00:00:00-05:00",
          "2025-02-03T00:00:00-05:00",
          "2025-02-04T00:00:00-05:00",
          "2025-02-05T00:00:00-05:00",
          "2025-02-06T00:00:00-05:00",
          "2025-02-07T00:00:00-05:00",
          "2025-02-10T00:00:00-05:00",
          "2025-02-11T00:00:00-05:00",
          "2025-02-12T00:00:00-05:00",
          "2025-02-13T00:00:00-05:00",
          "2025-02-14T00:00:00-05:00",
          "2025-02-18T00:00:00-05:00",
          "2025-02-19T00:00:00-05:00",
          "2025-02-20T00:00:00-05:00",
          "2025-02-21T00:00:00-05:00",
          "2025-02-24T00:00:00-05:00",
          "2025-02-25T00:00:00-05:00",
          "2025-02-26T00:00:00-05:00",
          "2025-02-27T00:00:00-05:00",
          "2025-02-28T00:00:00-05:00",
          "2025-03-03T00:00:00-05:00",
          "2025-03-04T00:00:00-05:00",
          "2025-03-05T00:00:00-05:00",
          "2025-03-06T00:00:00-05:00",
          "2025-03-07T00:00:00-05:00",
          "2025-03-10T00:00:00-04:00",
          "2025-03-11T00:00:00-04:00",
          "2025-03-12T00:00:00-04:00",
          "2025-03-13T00:00:00-04:00",
          "2025-03-14T00:00:00-04:00",
          "2025-03-17T00:00:00-04:00",
          "2025-03-18T00:00:00-04:00",
          "2025-03-19T00:00:00-04:00",
          "2025-03-20T00:00:00-04:00",
          "2025-03-21T00:00:00-04:00",
          "2025-03-24T00:00:00-04:00",
          "2025-03-25T00:00:00-04:00",
          "2025-03-26T00:00:00-04:00",
          "2025-03-27T00:00:00-04:00",
          "2025-03-28T00:00:00-04:00",
          "2025-03-31T00:00:00-04:00",
          "2025-04-01T00:00:00-04:00",
          "2025-04-02T00:00:00-04:00",
          "2025-04-03T00:00:00-04:00",
          "2025-04-04T00:00:00-04:00",
          "2025-04-07T00:00:00-04:00",
          "2025-04-08T00:00:00-04:00",
          "2025-04-09T00:00:00-04:00",
          "2025-04-10T00:00:00-04:00",
          "2025-04-11T00:00:00-04:00",
          "2025-04-14T00:00:00-04:00",
          "2025-04-15T00:00:00-04:00",
          "2025-04-16T00:00:00-04:00",
          "2025-04-17T00:00:00-04:00",
          "2025-04-21T00:00:00-04:00",
          "2025-04-22T00:00:00-04:00",
          "2025-04-23T00:00:00-04:00",
          "2025-04-24T00:00:00-04:00",
          "2025-04-25T00:00:00-04:00",
          "2025-04-28T00:00:00-04:00",
          "2025-04-29T00:00:00-04:00",
          "2025-04-30T00:00:00-04:00",
          "2025-05-01T00:00:00-04:00",
          "2025-05-02T00:00:00-04:00",
          "2025-05-05T00:00:00-04:00",
          "2025-05-06T00:00:00-04:00",
          "2025-05-07T00:00:00-04:00",
          "2025-05-08T00:00:00-04:00",
          "2025-05-09T00:00:00-04:00",
          "2025-05-12T00:00:00-04:00",
          "2025-05-13T00:00:00-04:00",
          "2025-05-14T00:00:00-04:00",
          "2025-05-15T00:00:00-04:00",
          "2025-05-16T00:00:00-04:00",
          "2025-05-19T00:00:00-04:00",
          "2025-05-20T00:00:00-04:00",
          "2025-05-21T00:00:00-04:00",
          "2025-05-22T00:00:00-04:00",
          "2025-05-23T00:00:00-04:00",
          "2025-05-27T00:00:00-04:00",
          "2025-05-28T00:00:00-04:00",
          "2025-05-29T00:00:00-04:00",
          "2025-05-30T00:00:00-04:00",
          "2025-06-02T00:00:00-04:00",
          "2025-06-03T00:00:00-04:00",
          "2025-06-04T00:00:00-04:00"
         ],
         "y": [
          25,
          25,
          25,
          25,
          25,
          25,
          25,
          25,
          25,
          25,
          25,
          25,
          25,
          25,
          25,
          25,
          25,
          25,
          25,
          25,
          25,
          25,
          25,
          25,
          25,
          25,
          25,
          25,
          25,
          25,
          25,
          25,
          25,
          25,
          25,
          25,
          25,
          25,
          25,
          25,
          25,
          25,
          25,
          25,
          25,
          25,
          25,
          25,
          25,
          25,
          25,
          25,
          25,
          25,
          25,
          25,
          25,
          25,
          25,
          25,
          25,
          25,
          25,
          25,
          25,
          25,
          25,
          25,
          25,
          25,
          25,
          25,
          25,
          25,
          25,
          25,
          25,
          25,
          25,
          25,
          25,
          25,
          25,
          25,
          25,
          25,
          25,
          25,
          25,
          25,
          25,
          25,
          25,
          25,
          25,
          25,
          25,
          25,
          25,
          25,
          25,
          25,
          25,
          25,
          25,
          25,
          25,
          25,
          25,
          25,
          25,
          25,
          25,
          25,
          25,
          25,
          25,
          25,
          25,
          25,
          25,
          25,
          25
         ]
        }
       ],
       "layout": {
        "hovermode": "x",
        "template": {
         "data": {
          "bar": [
           {
            "error_x": {
             "color": "#f2f5fa"
            },
            "error_y": {
             "color": "#f2f5fa"
            },
            "marker": {
             "line": {
              "color": "rgb(17,17,17)",
              "width": 0.5
             },
             "pattern": {
              "fillmode": "overlay",
              "size": 10,
              "solidity": 0.2
             }
            },
            "type": "bar"
           }
          ],
          "barpolar": [
           {
            "marker": {
             "line": {
              "color": "rgb(17,17,17)",
              "width": 0.5
             },
             "pattern": {
              "fillmode": "overlay",
              "size": 10,
              "solidity": 0.2
             }
            },
            "type": "barpolar"
           }
          ],
          "carpet": [
           {
            "aaxis": {
             "endlinecolor": "#A2B1C6",
             "gridcolor": "#506784",
             "linecolor": "#506784",
             "minorgridcolor": "#506784",
             "startlinecolor": "#A2B1C6"
            },
            "baxis": {
             "endlinecolor": "#A2B1C6",
             "gridcolor": "#506784",
             "linecolor": "#506784",
             "minorgridcolor": "#506784",
             "startlinecolor": "#A2B1C6"
            },
            "type": "carpet"
           }
          ],
          "choropleth": [
           {
            "colorbar": {
             "outlinewidth": 0,
             "ticks": ""
            },
            "type": "choropleth"
           }
          ],
          "contour": [
           {
            "colorbar": {
             "outlinewidth": 0,
             "ticks": ""
            },
            "colorscale": [
             [
              0,
              "#0d0887"
             ],
             [
              0.1111111111111111,
              "#46039f"
             ],
             [
              0.2222222222222222,
              "#7201a8"
             ],
             [
              0.3333333333333333,
              "#9c179e"
             ],
             [
              0.4444444444444444,
              "#bd3786"
             ],
             [
              0.5555555555555556,
              "#d8576b"
             ],
             [
              0.6666666666666666,
              "#ed7953"
             ],
             [
              0.7777777777777778,
              "#fb9f3a"
             ],
             [
              0.8888888888888888,
              "#fdca26"
             ],
             [
              1,
              "#f0f921"
             ]
            ],
            "type": "contour"
           }
          ],
          "contourcarpet": [
           {
            "colorbar": {
             "outlinewidth": 0,
             "ticks": ""
            },
            "type": "contourcarpet"
           }
          ],
          "heatmap": [
           {
            "colorbar": {
             "outlinewidth": 0,
             "ticks": ""
            },
            "colorscale": [
             [
              0,
              "#0d0887"
             ],
             [
              0.1111111111111111,
              "#46039f"
             ],
             [
              0.2222222222222222,
              "#7201a8"
             ],
             [
              0.3333333333333333,
              "#9c179e"
             ],
             [
              0.4444444444444444,
              "#bd3786"
             ],
             [
              0.5555555555555556,
              "#d8576b"
             ],
             [
              0.6666666666666666,
              "#ed7953"
             ],
             [
              0.7777777777777778,
              "#fb9f3a"
             ],
             [
              0.8888888888888888,
              "#fdca26"
             ],
             [
              1,
              "#f0f921"
             ]
            ],
            "type": "heatmap"
           }
          ],
          "histogram": [
           {
            "marker": {
             "pattern": {
              "fillmode": "overlay",
              "size": 10,
              "solidity": 0.2
             }
            },
            "type": "histogram"
           }
          ],
          "histogram2d": [
           {
            "colorbar": {
             "outlinewidth": 0,
             "ticks": ""
            },
            "colorscale": [
             [
              0,
              "#0d0887"
             ],
             [
              0.1111111111111111,
              "#46039f"
             ],
             [
              0.2222222222222222,
              "#7201a8"
             ],
             [
              0.3333333333333333,
              "#9c179e"
             ],
             [
              0.4444444444444444,
              "#bd3786"
             ],
             [
              0.5555555555555556,
              "#d8576b"
             ],
             [
              0.6666666666666666,
              "#ed7953"
             ],
             [
              0.7777777777777778,
              "#fb9f3a"
             ],
             [
              0.8888888888888888,
              "#fdca26"
             ],
             [
              1,
              "#f0f921"
             ]
            ],
            "type": "histogram2d"
           }
          ],
          "histogram2dcontour": [
           {
            "colorbar": {
             "outlinewidth": 0,
             "ticks": ""
            },
            "colorscale": [
             [
              0,
              "#0d0887"
             ],
             [
              0.1111111111111111,
              "#46039f"
             ],
             [
              0.2222222222222222,
              "#7201a8"
             ],
             [
              0.3333333333333333,
              "#9c179e"
             ],
             [
              0.4444444444444444,
              "#bd3786"
             ],
             [
              0.5555555555555556,
              "#d8576b"
             ],
             [
              0.6666666666666666,
              "#ed7953"
             ],
             [
              0.7777777777777778,
              "#fb9f3a"
             ],
             [
              0.8888888888888888,
              "#fdca26"
             ],
             [
              1,
              "#f0f921"
             ]
            ],
            "type": "histogram2dcontour"
           }
          ],
          "mesh3d": [
           {
            "colorbar": {
             "outlinewidth": 0,
             "ticks": ""
            },
            "type": "mesh3d"
           }
          ],
          "parcoords": [
           {
            "line": {
             "colorbar": {
              "outlinewidth": 0,
              "ticks": ""
             }
            },
            "type": "parcoords"
           }
          ],
          "pie": [
           {
            "automargin": true,
            "type": "pie"
           }
          ],
          "scatter": [
           {
            "marker": {
             "line": {
              "color": "#283442"
             }
            },
            "type": "scatter"
           }
          ],
          "scatter3d": [
           {
            "line": {
             "colorbar": {
              "outlinewidth": 0,
              "ticks": ""
             }
            },
            "marker": {
             "colorbar": {
              "outlinewidth": 0,
              "ticks": ""
             }
            },
            "type": "scatter3d"
           }
          ],
          "scattercarpet": [
           {
            "marker": {
             "colorbar": {
              "outlinewidth": 0,
              "ticks": ""
             }
            },
            "type": "scattercarpet"
           }
          ],
          "scattergeo": [
           {
            "marker": {
             "colorbar": {
              "outlinewidth": 0,
              "ticks": ""
             }
            },
            "type": "scattergeo"
           }
          ],
          "scattergl": [
           {
            "marker": {
             "line": {
              "color": "#283442"
             }
            },
            "type": "scattergl"
           }
          ],
          "scattermap": [
           {
            "marker": {
             "colorbar": {
              "outlinewidth": 0,
              "ticks": ""
             }
            },
            "type": "scattermap"
           }
          ],
          "scattermapbox": [
           {
            "marker": {
             "colorbar": {
              "outlinewidth": 0,
              "ticks": ""
             }
            },
            "type": "scattermapbox"
           }
          ],
          "scatterpolar": [
           {
            "marker": {
             "colorbar": {
              "outlinewidth": 0,
              "ticks": ""
             }
            },
            "type": "scatterpolar"
           }
          ],
          "scatterpolargl": [
           {
            "marker": {
             "colorbar": {
              "outlinewidth": 0,
              "ticks": ""
             }
            },
            "type": "scatterpolargl"
           }
          ],
          "scatterternary": [
           {
            "marker": {
             "colorbar": {
              "outlinewidth": 0,
              "ticks": ""
             }
            },
            "type": "scatterternary"
           }
          ],
          "surface": [
           {
            "colorbar": {
             "outlinewidth": 0,
             "ticks": ""
            },
            "colorscale": [
             [
              0,
              "#0d0887"
             ],
             [
              0.1111111111111111,
              "#46039f"
             ],
             [
              0.2222222222222222,
              "#7201a8"
             ],
             [
              0.3333333333333333,
              "#9c179e"
             ],
             [
              0.4444444444444444,
              "#bd3786"
             ],
             [
              0.5555555555555556,
              "#d8576b"
             ],
             [
              0.6666666666666666,
              "#ed7953"
             ],
             [
              0.7777777777777778,
              "#fb9f3a"
             ],
             [
              0.8888888888888888,
              "#fdca26"
             ],
             [
              1,
              "#f0f921"
             ]
            ],
            "type": "surface"
           }
          ],
          "table": [
           {
            "cells": {
             "fill": {
              "color": "#506784"
             },
             "line": {
              "color": "rgb(17,17,17)"
             }
            },
            "header": {
             "fill": {
              "color": "#2a3f5f"
             },
             "line": {
              "color": "rgb(17,17,17)"
             }
            },
            "type": "table"
           }
          ]
         },
         "layout": {
          "annotationdefaults": {
           "arrowcolor": "#f2f5fa",
           "arrowhead": 0,
           "arrowwidth": 1
          },
          "autotypenumbers": "strict",
          "coloraxis": {
           "colorbar": {
            "outlinewidth": 0,
            "ticks": ""
           }
          },
          "colorscale": {
           "diverging": [
            [
             0,
             "#8e0152"
            ],
            [
             0.1,
             "#c51b7d"
            ],
            [
             0.2,
             "#de77ae"
            ],
            [
             0.3,
             "#f1b6da"
            ],
            [
             0.4,
             "#fde0ef"
            ],
            [
             0.5,
             "#f7f7f7"
            ],
            [
             0.6,
             "#e6f5d0"
            ],
            [
             0.7,
             "#b8e186"
            ],
            [
             0.8,
             "#7fbc41"
            ],
            [
             0.9,
             "#4d9221"
            ],
            [
             1,
             "#276419"
            ]
           ],
           "sequential": [
            [
             0,
             "#0d0887"
            ],
            [
             0.1111111111111111,
             "#46039f"
            ],
            [
             0.2222222222222222,
             "#7201a8"
            ],
            [
             0.3333333333333333,
             "#9c179e"
            ],
            [
             0.4444444444444444,
             "#bd3786"
            ],
            [
             0.5555555555555556,
             "#d8576b"
            ],
            [
             0.6666666666666666,
             "#ed7953"
            ],
            [
             0.7777777777777778,
             "#fb9f3a"
            ],
            [
             0.8888888888888888,
             "#fdca26"
            ],
            [
             1,
             "#f0f921"
            ]
           ],
           "sequentialminus": [
            [
             0,
             "#0d0887"
            ],
            [
             0.1111111111111111,
             "#46039f"
            ],
            [
             0.2222222222222222,
             "#7201a8"
            ],
            [
             0.3333333333333333,
             "#9c179e"
            ],
            [
             0.4444444444444444,
             "#bd3786"
            ],
            [
             0.5555555555555556,
             "#d8576b"
            ],
            [
             0.6666666666666666,
             "#ed7953"
            ],
            [
             0.7777777777777778,
             "#fb9f3a"
            ],
            [
             0.8888888888888888,
             "#fdca26"
            ],
            [
             1,
             "#f0f921"
            ]
           ]
          },
          "colorway": [
           "#636efa",
           "#EF553B",
           "#00cc96",
           "#ab63fa",
           "#FFA15A",
           "#19d3f3",
           "#FF6692",
           "#B6E880",
           "#FF97FF",
           "#FECB52"
          ],
          "font": {
           "color": "#f2f5fa"
          },
          "geo": {
           "bgcolor": "rgb(17,17,17)",
           "lakecolor": "rgb(17,17,17)",
           "landcolor": "rgb(17,17,17)",
           "showlakes": true,
           "showland": true,
           "subunitcolor": "#506784"
          },
          "hoverlabel": {
           "align": "left"
          },
          "hovermode": "closest",
          "mapbox": {
           "style": "dark"
          },
          "paper_bgcolor": "rgb(17,17,17)",
          "plot_bgcolor": "rgb(17,17,17)",
          "polar": {
           "angularaxis": {
            "gridcolor": "#506784",
            "linecolor": "#506784",
            "ticks": ""
           },
           "bgcolor": "rgb(17,17,17)",
           "radialaxis": {
            "gridcolor": "#506784",
            "linecolor": "#506784",
            "ticks": ""
           }
          },
          "scene": {
           "xaxis": {
            "backgroundcolor": "rgb(17,17,17)",
            "gridcolor": "#506784",
            "gridwidth": 2,
            "linecolor": "#506784",
            "showbackground": true,
            "ticks": "",
            "zerolinecolor": "#C8D4E3"
           },
           "yaxis": {
            "backgroundcolor": "rgb(17,17,17)",
            "gridcolor": "#506784",
            "gridwidth": 2,
            "linecolor": "#506784",
            "showbackground": true,
            "ticks": "",
            "zerolinecolor": "#C8D4E3"
           },
           "zaxis": {
            "backgroundcolor": "rgb(17,17,17)",
            "gridcolor": "#506784",
            "gridwidth": 2,
            "linecolor": "#506784",
            "showbackground": true,
            "ticks": "",
            "zerolinecolor": "#C8D4E3"
           }
          },
          "shapedefaults": {
           "line": {
            "color": "#f2f5fa"
           }
          },
          "sliderdefaults": {
           "bgcolor": "#C8D4E3",
           "bordercolor": "rgb(17,17,17)",
           "borderwidth": 1,
           "tickwidth": 0
          },
          "ternary": {
           "aaxis": {
            "gridcolor": "#506784",
            "linecolor": "#506784",
            "ticks": ""
           },
           "baxis": {
            "gridcolor": "#506784",
            "linecolor": "#506784",
            "ticks": ""
           },
           "bgcolor": "rgb(17,17,17)",
           "caxis": {
            "gridcolor": "#506784",
            "linecolor": "#506784",
            "ticks": ""
           }
          },
          "title": {
           "x": 0.05
          },
          "updatemenudefaults": {
           "bgcolor": "#506784",
           "borderwidth": 0
          },
          "xaxis": {
           "automargin": true,
           "gridcolor": "#283442",
           "linecolor": "#506784",
           "ticks": "",
           "title": {
            "standoff": 15
           },
           "zerolinecolor": "#283442",
           "zerolinewidth": 2
          },
          "yaxis": {
           "automargin": true,
           "gridcolor": "#283442",
           "linecolor": "#506784",
           "ticks": "",
           "title": {
            "standoff": 15
           },
           "zerolinecolor": "#283442",
           "zerolinewidth": 2
          }
         }
        },
        "title": {
         "text": "Tesla - ADX Indicator"
        },
        "xaxis": {
         "title": {
          "text": "Date"
         }
        },
        "yaxis": {
         "title": {
          "text": "ADX Value"
         }
        }
       }
      },
      "image/png": "[encoded data removed]"
     },
     "metadata": {},
     "output_type": "display_data"
    }
   ],
   "source": [
    "# Calculate ADX\n",
    "df['ADX'] = talib.ADX(df['High'], df['Low'], df['Close'], timeperiod=14)\n",
    "\n",
    "# Create ADX figure\n",
    "fig_adx = go.Figure()\n",
    "fig_adx.add_trace(go.Scatter(x=df['Date'], y=df['ADX'], mode='lines', name='ADX', line=dict(color='purple', width=2)))\n",
    "fig_adx.add_trace(go.Scatter(x=df['Date'], y=[25]*len(df), mode='lines', name='Strong Trend Threshold', line=dict(color='red', width=2, dash='dash')))\n",
    "\n",
    "# Update layout\n",
    "fig_adx.update_layout(title='Tesla - ADX Indicator', xaxis_title='Date', yaxis_title='ADX Value', template='plotly_dark', hovermode='x')\n",
    "\n",
    "# Show figure\n",
    "fig_adx.show()"
   ]
  },
  {
   "cell_type": "code",
   "execution_count": 3,
   "id": "ea00871e-358f-4a4a-b884-a67647df951e",
   "metadata": {},
   "outputs": [
    {
     "data": {
      "application/vnd.plotly.v1+json": {
       "config": {
        "plotlyServerURL": "https://plot.ly"
       },
       "data": [
        {
         "line": {
          "color": "blue",
          "width": 2
         },
         "mode": "lines",
         "name": "MACD",
         "type": "scatter",
         "x": [
          "2024-12-05T00:00:00-05:00",
          "2024-12-06T00:00:00-05:00",
          "2024-12-09T00:00:00-05:00",
          "2024-12-10T00:00:00-05:00",
          "2024-12-11T00:00:00-05:00",
          "2024-12-12T00:00:00-05:00",
          "2024-12-13T00:00:00-05:00",
          "2024-12-16T00:00:00-05:00",
          "2024-12-17T00:00:00-05:00",
          "2024-12-18T00:00:00-05:00",
          "2024-12-19T00:00:00-05:00",
          "2024-12-20T00:00:00-05:00",
          "2024-12-23T00:00:00-05:00",
          "2024-12-24T00:00:00-05:00",
          "2024-12-26T00:00:00-05:00",
          "2024-12-27T00:00:00-05:00",
          "2024-12-30T00:00:00-05:00",
          "2024-12-31T00:00:00-05:00",
          "2025-01-02T00:00:00-05:00",
          "2025-01-03T00:00:00-05:00",
          "2025-01-06T00:00:00-05:00",
          "2025-01-07T00:00:00-05:00",
          "2025-01-08T00:00:00-05:00",
          "2025-01-10T00:00:00-05:00",
          "2025-01-13T00:00:00-05:00",
          "2025-01-14T00:00:00-05:00",
          "2025-01-15T00:00:00-05:00",
          "2025-01-16T00:00:00-05:00",
          "2025-01-17T00:00:00-05:00",
          "2025-01-21T00:00:00-05:00",
          "2025-01-22T00:00:00-05:00",
          "2025-01-23T00:00:00-05:00",
          "2025-01-24T00:00:00-05:00",
          "2025-01-27T00:00:00-05:00",
          "2025-01-28T00:00:00-05:00",
          "2025-01-29T00:00:00-05:00",
          "2025-01-30T00:00:00-05:00",
          "2025-01-31T00:00:00-05:00",
          "2025-02-03T00:00:00-05:00",
          "2025-02-04T00:00:00-05:00",
          "2025-02-05T00:00:00-05:00",
          "2025-02-06T00:00:00-05:00",
          "2025-02-07T00:00:00-05:00",
          "2025-02-10T00:00:00-05:00",
          "2025-02-11T00:00:00-05:00",
          "2025-02-12T00:00:00-05:00",
          "2025-02-13T00:00:00-05:00",
          "2025-02-14T00:00:00-05:00",
          "2025-02-18T00:00:00-05:00",
          "2025-02-19T00:00:00-05:00",
          "2025-02-20T00:00:00-05:00",
          "2025-02-21T00:00:00-05:00",
          "2025-02-24T00:00:00-05:00",
          "2025-02-25T00:00:00-05:00",
          "2025-02-26T00:00:00-05:00",
          "2025-02-27T00:00:00-05:00",
          "2025-02-28T00:00:00-05:00",
          "2025-03-03T00:00:00-05:00",
          "2025-03-04T00:00:00-05:00",
          "2025-03-05T00:00:00-05:00",
          "2025-03-06T00:00:00-05:00",
          "2025-03-07T00:00:00-05:00",
          "2025-03-10T00:00:00-04:00",
          "2025-03-11T00:00:00-04:00",
          "2025-03-12T00:00:00-04:00",
          "2025-03-13T00:00:00-04:00",
          "2025-03-14T00:00:00-04:00",
          "2025-03-17T00:00:00-04:00",
          "2025-03-18T00:00:00-04:00",
          "2025-03-19T00:00:00-04:00",
          "2025-03-20T00:00:00-04:00",
          "2025-03-21T00:00:00-04:00",
          "2025-03-24T00:00:00-04:00",
          "2025-03-25T00:00:00-04:00",
          "2025-03-26T00:00:00-04:00",
          "2025-03-27T00:00:00-04:00",
          "2025-03-28T00:00:00-04:00",
          "2025-03-31T00:00:00-04:00",
          "2025-04-01T00:00:00-04:00",
          "2025-04-02T00:00:00-04:00",
          "2025-04-03T00:00:00-04:00",
          "2025-04-04T00:00:00-04:00",
          "2025-04-07T00:00:00-04:00",
          "2025-04-08T00:00:00-04:00",
          "2025-04-09T00:00:00-04:00",
          "2025-04-10T00:00:00-04:00",
          "2025-04-11T00:00:00-04:00",
          "2025-04-14T00:00:00-04:00",
          "2025-04-15T00:00:00-04:00",
          "2025-04-16T00:00:00-04:00",
          "2025-04-17T00:00:00-04:00",
          "2025-04-21T00:00:00-04:00",
          "2025-04-22T00:00:00-04:00",
          "2025-04-23T00:00:00-04:00",
          "2025-04-24T00:00:00-04:00",
          "2025-04-25T00:00:00-04:00",
          "2025-04-28T00:00:00-04:00",
          "2025-04-29T00:00:00-04:00",
          "2025-04-30T00:00:00-04:00",
          "2025-05-01T00:00:00-04:00",
          "2025-05-02T00:00:00-04:00",
          "2025-05-05T00:00:00-04:00",
          "2025-05-06T00:00:00-04:00",
          "2025-05-07T00:00:00-04:00",
          "2025-05-08T00:00:00-04:00",
          "2025-05-09T00:00:00-04:00",
          "2025-05-12T00:00:00-04:00",
          "2025-05-13T00:00:00-04:00",
          "2025-05-14T00:00:00-04:00",
          "2025-05-15T00:00:00-04:00",
          "2025-05-16T00:00:00-04:00",
          "2025-05-19T00:00:00-04:00",
          "2025-05-20T00:00:00-04:00",
          "2025-05-21T00:00:00-04:00",
          "2025-05-22T00:00:00-04:00",
          "2025-05-23T00:00:00-04:00",
          "2025-05-27T00:00:00-04:00",
          "2025-05-28T00:00:00-04:00",
          "2025-05-29T00:00:00-04:00",
          "2025-05-30T00:00:00-04:00",
          "2025-06-02T00:00:00-04:00",
          "2025-06-03T00:00:00-04:00",
          "2025-06-04T00:00:00-04:00"
         ],
         "y": {
          "bdata": "AAAAAAAA+H8AAAAAAAD4fwAAAAAAAPh/AAAAAAAA+H8AAAAAAAD4fwAAAAAAAPh/AAAAAAAA+H8AAAAAAAD4fwAAAAAAAPh/AAAAAAAA+H8AAAAAAAD4fwAAAAAAAPh/AAAAAAAA+H8AAAAAAAD4fwAAAAAAAPh/AAAAAAAA+H8AAAAAAAD4fwAAAAAAAPh/AAAAAAAA+H8AAAAAAAD4fwAAAAAAAPh/AAAAAAAA+H8AAAAAAAD4fwAAAAAAAPh/AAAAAAAA+H8AAAAAAAD4fwAAAAAAAPh/AAAAAAAA+H8AAAAAAAD4fwAAAAAAAPh/AAAAAAAA+H8AAAAAAAD4fwAAAAAAAPh/QCSyKxhrE8AAyMEglhgWwMCXuViNzxrAwHvFLLWhGsCAVsJSNc8YwEDmkUw5xh3AAEE/U2KaHsBggBUcGrEhwEBceuIm+iPAAB42MPSQJ8CggeYi2NgrwABaZcoTNzHA8Ibn+nn1MsCw7n3ZHY8ywBAoE5HRCjLAUBdcJNyRMcDwCUE5HXwwwECO8ZFs4C/A8ENnghqnMMCgV28FR5oxwMDKXcG8WzTAAB8DaR0+N8CwVQEUivE5wGAcY9tQ4jrA4HsK4aP6O8AQ/FieKIY9wFAQBWm61T3AkKIox6D8PsCQTSAYNJk/wACU4L2WeUHASPRhpKFAQsDgHAccifRBwFiKT0ky0EHA0BNd/MsgQcCwD8E/od9AwKjtbikG/UDAjM8bl8R2QMDIM1Vu7rI/wHAhqvy3YT3A4BSGWB7dOMBQCQhgTUM0wOALUhXHtTHAgIxzNXrYLsDAht/iQXAswMCjh6rM7SrAAGc7cp30J8AAeghPTBIjwKAzvjRSfyHAwPlQzwmCJMDghy0w05wnwFAUeAp5mSvAgFDWF45gJsDQAgoihzAlwMBqeAwwCCTAkHDI9+/jIsDwDw/R+H8hwHAGIQcFNyLAkMQ+N6WYIsAQB8J4YOUkwOBrFO0KyiTAEAzgZGhuIsDg99nUA/MdwGBTtCfwEhDAAEJFt3Dk8r8ARK19v774PwBC6qT2BgdAAH4QptkQDkCArhlZ68ATQEBJmmllAhVAAIKLQeQvFEAAaDXZI5cTQMAYvMvQpBVAQHzlDGVLG0Cgv0SBVOoiQGAtF3iZVClAUHaHxKAeMECA0jKlM0EyQOD7ImxkSjRA4ItY8mgGNUDACb57tX81QGCBlNkk5DRAAOqzHWywNEAQyXgV0yg0QHAPQVa0ZDVAoMH2MXOjNUAgqaEgurQ1QLAjOtN9jjRA8Gu6FgEfM0Dwnty9kecxQMCre6KPiy9A",
          "dtype": "f8"
         }
        },
        {
         "line": {
          "color": "red",
          "width": 2
         },
         "mode": "lines",
         "name": "Signal Line",
         "type": "scatter",
         "x": [
          "2024-12-05T00:00:00-05:00",
          "2024-12-06T00:00:00-05:00",
          "2024-12-09T00:00:00-05:00",
          "2024-12-10T00:00:00-05:00",
          "2024-12-11T00:00:00-05:00",
          "2024-12-12T00:00:00-05:00",
          "2024-12-13T00:00:00-05:00",
          "2024-12-16T00:00:00-05:00",
          "2024-12-17T00:00:00-05:00",
          "2024-12-18T00:00:00-05:00",
          "2024-12-19T00:00:00-05:00",
          "2024-12-20T00:00:00-05:00",
          "2024-12-23T00:00:00-05:00",
          "2024-12-24T00:00:00-05:00",
          "2024-12-26T00:00:00-05:00",
          "2024-12-27T00:00:00-05:00",
          "2024-12-30T00:00:00-05:00",
          "2024-12-31T00:00:00-05:00",
          "2025-01-02T00:00:00-05:00",
          "2025-01-03T00:00:00-05:00",
          "2025-01-06T00:00:00-05:00",
          "2025-01-07T00:00:00-05:00",
          "2025-01-08T00:00:00-05:00",
          "2025-01-10T00:00:00-05:00",
          "2025-01-13T00:00:00-05:00",
          "2025-01-14T00:00:00-05:00",
          "2025-01-15T00:00:00-05:00",
          "2025-01-16T00:00:00-05:00",
          "2025-01-17T00:00:00-05:00",
          "2025-01-21T00:00:00-05:00",
          "2025-01-22T00:00:00-05:00",
          "2025-01-23T00:00:00-05:00",
          "2025-01-24T00:00:00-05:00",
          "2025-01-27T00:00:00-05:00",
          "2025-01-28T00:00:00-05:00",
          "2025-01-29T00:00:00-05:00",
          "2025-01-30T00:00:00-05:00",
          "2025-01-31T00:00:00-05:00",
          "2025-02-03T00:00:00-05:00",
          "2025-02-04T00:00:00-05:00",
          "2025-02-05T00:00:00-05:00",
          "2025-02-06T00:00:00-05:00",
          "2025-02-07T00:00:00-05:00",
          "2025-02-10T00:00:00-05:00",
          "2025-02-11T00:00:00-05:00",
          "2025-02-12T00:00:00-05:00",
          "2025-02-13T00:00:00-05:00",
          "2025-02-14T00:00:00-05:00",
          "2025-02-18T00:00:00-05:00",
          "2025-02-19T00:00:00-05:00",
          "2025-02-20T00:00:00-05:00",
          "2025-02-21T00:00:00-05:00",
          "2025-02-24T00:00:00-05:00",
          "2025-02-25T00:00:00-05:00",
          "2025-02-26T00:00:00-05:00",
          "2025-02-27T00:00:00-05:00",
          "2025-02-28T00:00:00-05:00",
          "2025-03-03T00:00:00-05:00",
          "2025-03-04T00:00:00-05:00",
          "2025-03-05T00:00:00-05:00",
          "2025-03-06T00:00:00-05:00",
          "2025-03-07T00:00:00-05:00",
          "2025-03-10T00:00:00-04:00",
          "2025-03-11T00:00:00-04:00",
          "2025-03-12T00:00:00-04:00",
          "2025-03-13T00:00:00-04:00",
          "2025-03-14T00:00:00-04:00",
          "2025-03-17T00:00:00-04:00",
          "2025-03-18T00:00:00-04:00",
          "2025-03-19T00:00:00-04:00",
          "2025-03-20T00:00:00-04:00",
          "2025-03-21T00:00:00-04:00",
          "2025-03-24T00:00:00-04:00",
          "2025-03-25T00:00:00-04:00",
          "2025-03-26T00:00:00-04:00",
          "2025-03-27T00:00:00-04:00",
          "2025-03-28T00:00:00-04:00",
          "2025-03-31T00:00:00-04:00",
          "2025-04-01T00:00:00-04:00",
          "2025-04-02T00:00:00-04:00",
          "2025-04-03T00:00:00-04:00",
          "2025-04-04T00:00:00-04:00",
          "2025-04-07T00:00:00-04:00",
          "2025-04-08T00:00:00-04:00",
          "2025-04-09T00:00:00-04:00",
          "2025-04-10T00:00:00-04:00",
          "2025-04-11T00:00:00-04:00",
          "2025-04-14T00:00:00-04:00",
          "2025-04-15T00:00:00-04:00",
          "2025-04-16T00:00:00-04:00",
          "2025-04-17T00:00:00-04:00",
          "2025-04-21T00:00:00-04:00",
          "2025-04-22T00:00:00-04:00",
          "2025-04-23T00:00:00-04:00",
          "2025-04-24T00:00:00-04:00",
          "2025-04-25T00:00:00-04:00",
          "2025-04-28T00:00:00-04:00",
          "2025-04-29T00:00:00-04:00",
          "2025-04-30T00:00:00-04:00",
          "2025-05-01T00:00:00-04:00",
          "2025-05-02T00:00:00-04:00",
          "2025-05-05T00:00:00-04:00",
          "2025-05-06T00:00:00-04:00",
          "2025-05-07T00:00:00-04:00",
          "2025-05-08T00:00:00-04:00",
          "2025-05-09T00:00:00-04:00",
          "2025-05-12T00:00:00-04:00",
          "2025-05-13T00:00:00-04:00",
          "2025-05-14T00:00:00-04:00",
          "2025-05-15T00:00:00-04:00",
          "2025-05-16T00:00:00-04:00",
          "2025-05-19T00:00:00-04:00",
          "2025-05-20T00:00:00-04:00",
          "2025-05-21T00:00:00-04:00",
          "2025-05-22T00:00:00-04:00",
          "2025-05-23T00:00:00-04:00",
          "2025-05-27T00:00:00-04:00",
          "2025-05-28T00:00:00-04:00",
          "2025-05-29T00:00:00-04:00",
          "2025-05-30T00:00:00-04:00",
          "2025-06-02T00:00:00-04:00",
          "2025-06-03T00:00:00-04:00",
          "2025-06-04T00:00:00-04:00"
         ],
         "y": {
          "bdata": "AAAAAAAA+H8AAAAAAAD4fwAAAAAAAPh/AAAAAAAA+H8AAAAAAAD4fwAAAAAAAPh/AAAAAAAA+H8AAAAAAAD4fwAAAAAAAPh/AAAAAAAA+H8AAAAAAAD4fwAAAAAAAPh/AAAAAAAA+H8AAAAAAAD4fwAAAAAAAPh/AAAAAAAA+H8AAAAAAAD4fwAAAAAAAPh/AAAAAAAA+H8AAAAAAAD4fwAAAAAAAPh/AAAAAAAA+H8AAAAAAAD4fwAAAAAAAPh/AAAAAAAA+H8AAAAAAAD4fwAAAAAAAPh/AAAAAAAA+H8AAAAAAAD4fwAAAAAAAPh/AAAAAAAA+H8AAAAAAAD4fwAAAAAAAPh/8na7wDhmFcDCICMH5YkVwCjS2n3TlxbARidwOppmF8DrY00/ua4XwJYXW6if5hjAElMiZJMKGsACqb3B5ugbwOh4lfWUUR7AKgOtODnXIMCoT4VnvwojwCDKLAqhHibARnGAbH5HKcBL7WVHpKUrwKmavwykVS3A2lHxS9t+LsCoeEHth/0uwMZJ/troKi/AmLz0fF6YL8CQ9kRmmigwwM3tSUWh/zDACl7VslM/MsBeXBGTXskzwPi1ITvCNDXAjd3p9YiPNsCn48xKD/Q3wPxSC4QxITnAGpZ3kRRNOsCYh8wSTlw7wEZByifh4DzA7pViLltnPsAYHbiWTIE/wLWNWbEoKkDA7g4njXxbQMAVD3lK6nVAwGYId93vkEDAB/2XArSLQMAz6U5ADmhAwE4kUGY3EEDAEAub6JGsPsCD17AzhJc8wC8V0WBeajrAZgVm7Io3OMAy+GftqDc2wCKKLQKCdzTAzvjDJt7EMsByBoTAH+wwwHDhkj5Dky7AGrOFW9GPLMBCd9pSa5IrwKuWk3fUkyvAoog6MZOJKsASof36w3cpwGjJrzFzYSjA1urn8lhIJ8AOv++4RSAmwIgAYJUFWCXAVsG/tVjLJMBIz1l2jdAkwABVsidAzyTAA+AhZ3tVJMCZ5TBOFkMjwATAUg9dBCHAIBB77gAsHMCAyRmS3UwVwAAClJWXeQ3AzE6miRqRAcAmGOspqZvov/j22w5p29s/ZJmbapi49T8omlNOS4YAQKDrWsOP4AVAM+4KO2hrDEBUElNLGO8SQANU5QWERxlAiOqR6kGPIEDTD4nKr4wkQAIL4mZOjihAwkDYTAIOLEBO0cU7FwsvQMygORB3mDBA1hVSeQ5qMUAVoCYynPYxQCeDxZ86pjJA2cI18EU/M0Dn8OT5Kb0zQNzHwosH5zNARoInQQa/M0Bo7n7Au2AzQLMcpZAkqDJA",
          "dtype": "f8"
         }
        }
       ],
       "layout": {
        "hovermode": "x",
        "template": {
         "data": {
          "bar": [
           {
            "error_x": {
             "color": "#f2f5fa"
            },
            "error_y": {
             "color": "#f2f5fa"
            },
            "marker": {
             "line": {
              "color": "rgb(17,17,17)",
              "width": 0.5
             },
             "pattern": {
              "fillmode": "overlay",
              "size": 10,
              "solidity": 0.2
             }
            },
            "type": "bar"
           }
          ],
          "barpolar": [
           {
            "marker": {
             "line": {
              "color": "rgb(17,17,17)",
              "width": 0.5
             },
             "pattern": {
              "fillmode": "overlay",
              "size": 10,
              "solidity": 0.2
             }
            },
            "type": "barpolar"
           }
          ],
          "carpet": [
           {
            "aaxis": {
             "endlinecolor": "#A2B1C6",
             "gridcolor": "#506784",
             "linecolor": "#506784",
             "minorgridcolor": "#506784",
             "startlinecolor": "#A2B1C6"
            },
            "baxis": {
             "endlinecolor": "#A2B1C6",
             "gridcolor": "#506784",
             "linecolor": "#506784",
             "minorgridcolor": "#506784",
             "startlinecolor": "#A2B1C6"
            },
            "type": "carpet"
           }
          ],
          "choropleth": [
           {
            "colorbar": {
             "outlinewidth": 0,
             "ticks": ""
            },
            "type": "choropleth"
           }
          ],
          "contour": [
           {
            "colorbar": {
             "outlinewidth": 0,
             "ticks": ""
            },
            "colorscale": [
             [
              0,
              "#0d0887"
             ],
             [
              0.1111111111111111,
              "#46039f"
             ],
             [
              0.2222222222222222,
              "#7201a8"
             ],
             [
              0.3333333333333333,
              "#9c179e"
             ],
             [
              0.4444444444444444,
              "#bd3786"
             ],
             [
              0.5555555555555556,
              "#d8576b"
             ],
             [
              0.6666666666666666,
              "#ed7953"
             ],
             [
              0.7777777777777778,
              "#fb9f3a"
             ],
             [
              0.8888888888888888,
              "#fdca26"
             ],
             [
              1,
              "#f0f921"
             ]
            ],
            "type": "contour"
           }
          ],
          "contourcarpet": [
           {
            "colorbar": {
             "outlinewidth": 0,
             "ticks": ""
            },
            "type": "contourcarpet"
           }
          ],
          "heatmap": [
           {
            "colorbar": {
             "outlinewidth": 0,
             "ticks": ""
            },
            "colorscale": [
             [
              0,
              "#0d0887"
             ],
             [
              0.1111111111111111,
              "#46039f"
             ],
             [
              0.2222222222222222,
              "#7201a8"
             ],
             [
              0.3333333333333333,
              "#9c179e"
             ],
             [
              0.4444444444444444,
              "#bd3786"
             ],
             [
              0.5555555555555556,
              "#d8576b"
             ],
             [
              0.6666666666666666,
              "#ed7953"
             ],
             [
              0.7777777777777778,
              "#fb9f3a"
             ],
             [
              0.8888888888888888,
              "#fdca26"
             ],
             [
              1,
              "#f0f921"
             ]
            ],
            "type": "heatmap"
           }
          ],
          "histogram": [
           {
            "marker": {
             "pattern": {
              "fillmode": "overlay",
              "size": 10,
              "solidity": 0.2
             }
            },
            "type": "histogram"
           }
          ],
          "histogram2d": [
           {
            "colorbar": {
             "outlinewidth": 0,
             "ticks": ""
            },
            "colorscale": [
             [
              0,
              "#0d0887"
             ],
             [
              0.1111111111111111,
              "#46039f"
             ],
             [
              0.2222222222222222,
              "#7201a8"
             ],
             [
              0.3333333333333333,
              "#9c179e"
             ],
             [
              0.4444444444444444,
              "#bd3786"
             ],
             [
              0.5555555555555556,
              "#d8576b"
             ],
             [
              0.6666666666666666,
              "#ed7953"
             ],
             [
              0.7777777777777778,
              "#fb9f3a"
             ],
             [
              0.8888888888888888,
              "#fdca26"
             ],
             [
              1,
              "#f0f921"
             ]
            ],
            "type": "histogram2d"
           }
          ],
          "histogram2dcontour": [
           {
            "colorbar": {
             "outlinewidth": 0,
             "ticks": ""
            },
            "colorscale": [
             [
              0,
              "#0d0887"
             ],
             [
              0.1111111111111111,
              "#46039f"
             ],
             [
              0.2222222222222222,
              "#7201a8"
             ],
             [
              0.3333333333333333,
              "#9c179e"
             ],
             [
              0.4444444444444444,
              "#bd3786"
             ],
             [
              0.5555555555555556,
              "#d8576b"
             ],
             [
              0.6666666666666666,
              "#ed7953"
             ],
             [
              0.7777777777777778,
              "#fb9f3a"
             ],
             [
              0.8888888888888888,
              "#fdca26"
             ],
             [
              1,
              "#f0f921"
             ]
            ],
            "type": "histogram2dcontour"
           }
          ],
          "mesh3d": [
           {
            "colorbar": {
             "outlinewidth": 0,
             "ticks": ""
            },
            "type": "mesh3d"
           }
          ],
          "parcoords": [
           {
            "line": {
             "colorbar": {
              "outlinewidth": 0,
              "ticks": ""
             }
            },
            "type": "parcoords"
           }
          ],
          "pie": [
           {
            "automargin": true,
            "type": "pie"
           }
          ],
          "scatter": [
           {
            "marker": {
             "line": {
              "color": "#283442"
             }
            },
            "type": "scatter"
           }
          ],
          "scatter3d": [
           {
            "line": {
             "colorbar": {
              "outlinewidth": 0,
              "ticks": ""
             }
            },
            "marker": {
             "colorbar": {
              "outlinewidth": 0,
              "ticks": ""
             }
            },
            "type": "scatter3d"
           }
          ],
          "scattercarpet": [
           {
            "marker": {
             "colorbar": {
              "outlinewidth": 0,
              "ticks": ""
             }
            },
            "type": "scattercarpet"
           }
          ],
          "scattergeo": [
           {
            "marker": {
             "colorbar": {
              "outlinewidth": 0,
              "ticks": ""
             }
            },
            "type": "scattergeo"
           }
          ],
          "scattergl": [
           {
            "marker": {
             "line": {
              "color": "#283442"
             }
            },
            "type": "scattergl"
           }
          ],
          "scattermap": [
           {
            "marker": {
             "colorbar": {
              "outlinewidth": 0,
              "ticks": ""
             }
            },
            "type": "scattermap"
           }
          ],
          "scattermapbox": [
           {
            "marker": {
             "colorbar": {
              "outlinewidth": 0,
              "ticks": ""
             }
            },
            "type": "scattermapbox"
           }
          ],
          "scatterpolar": [
           {
            "marker": {
             "colorbar": {
              "outlinewidth": 0,
              "ticks": ""
             }
            },
            "type": "scatterpolar"
           }
          ],
          "scatterpolargl": [
           {
            "marker": {
             "colorbar": {
              "outlinewidth": 0,
              "ticks": ""
             }
            },
            "type": "scatterpolargl"
           }
          ],
          "scatterternary": [
           {
            "marker": {
             "colorbar": {
              "outlinewidth": 0,
              "ticks": ""
             }
            },
            "type": "scatterternary"
           }
          ],
          "surface": [
           {
            "colorbar": {
             "outlinewidth": 0,
             "ticks": ""
            },
            "colorscale": [
             [
              0,
              "#0d0887"
             ],
             [
              0.1111111111111111,
              "#46039f"
             ],
             [
              0.2222222222222222,
              "#7201a8"
             ],
             [
              0.3333333333333333,
              "#9c179e"
             ],
             [
              0.4444444444444444,
              "#bd3786"
             ],
             [
              0.5555555555555556,
              "#d8576b"
             ],
             [
              0.6666666666666666,
              "#ed7953"
             ],
             [
              0.7777777777777778,
              "#fb9f3a"
             ],
             [
              0.8888888888888888,
              "#fdca26"
             ],
             [
              1,
              "#f0f921"
             ]
            ],
            "type": "surface"
           }
          ],
          "table": [
           {
            "cells": {
             "fill": {
              "color": "#506784"
             },
             "line": {
              "color": "rgb(17,17,17)"
             }
            },
            "header": {
             "fill": {
              "color": "#2a3f5f"
             },
             "line": {
              "color": "rgb(17,17,17)"
             }
            },
            "type": "table"
           }
          ]
         },
         "layout": {
          "annotationdefaults": {
           "arrowcolor": "#f2f5fa",
           "arrowhead": 0,
           "arrowwidth": 1
          },
          "autotypenumbers": "strict",
          "coloraxis": {
           "colorbar": {
            "outlinewidth": 0,
            "ticks": ""
           }
          },
          "colorscale": {
           "diverging": [
            [
             0,
             "#8e0152"
            ],
            [
             0.1,
             "#c51b7d"
            ],
            [
             0.2,
             "#de77ae"
            ],
            [
             0.3,
             "#f1b6da"
            ],
            [
             0.4,
             "#fde0ef"
            ],
            [
             0.5,
             "#f7f7f7"
            ],
            [
             0.6,
             "#e6f5d0"
            ],
            [
             0.7,
             "#b8e186"
            ],
            [
             0.8,
             "#7fbc41"
            ],
            [
             0.9,
             "#4d9221"
            ],
            [
             1,
             "#276419"
            ]
           ],
           "sequential": [
            [
             0,
             "#0d0887"
            ],
            [
             0.1111111111111111,
             "#46039f"
            ],
            [
             0.2222222222222222,
             "#7201a8"
            ],
            [
             0.3333333333333333,
             "#9c179e"
            ],
            [
             0.4444444444444444,
             "#bd3786"
            ],
            [
             0.5555555555555556,
             "#d8576b"
            ],
            [
             0.6666666666666666,
             "#ed7953"
            ],
            [
             0.7777777777777778,
             "#fb9f3a"
            ],
            [
             0.8888888888888888,
             "#fdca26"
            ],
            [
             1,
             "#f0f921"
            ]
           ],
           "sequentialminus": [
            [
             0,
             "#0d0887"
            ],
            [
             0.1111111111111111,
             "#46039f"
            ],
            [
             0.2222222222222222,
             "#7201a8"
            ],
            [
             0.3333333333333333,
             "#9c179e"
            ],
            [
             0.4444444444444444,
             "#bd3786"
            ],
            [
             0.5555555555555556,
             "#d8576b"
            ],
            [
             0.6666666666666666,
             "#ed7953"
            ],
            [
             0.7777777777777778,
             "#fb9f3a"
            ],
            [
             0.8888888888888888,
             "#fdca26"
            ],
            [
             1,
             "#f0f921"
            ]
           ]
          },
          "colorway": [
           "#636efa",
           "#EF553B",
           "#00cc96",
           "#ab63fa",
           "#FFA15A",
           "#19d3f3",
           "#FF6692",
           "#B6E880",
           "#FF97FF",
           "#FECB52"
          ],
          "font": {
           "color": "#f2f5fa"
          },
          "geo": {
           "bgcolor": "rgb(17,17,17)",
           "lakecolor": "rgb(17,17,17)",
           "landcolor": "rgb(17,17,17)",
           "showlakes": true,
           "showland": true,
           "subunitcolor": "#506784"
          },
          "hoverlabel": {
           "align": "left"
          },
          "hovermode": "closest",
          "mapbox": {
           "style": "dark"
          },
          "paper_bgcolor": "rgb(17,17,17)",
          "plot_bgcolor": "rgb(17,17,17)",
          "polar": {
           "angularaxis": {
            "gridcolor": "#506784",
            "linecolor": "#506784",
            "ticks": ""
           },
           "bgcolor": "rgb(17,17,17)",
           "radialaxis": {
            "gridcolor": "#506784",
            "linecolor": "#506784",
            "ticks": ""
           }
          },
          "scene": {
           "xaxis": {
            "backgroundcolor": "rgb(17,17,17)",
            "gridcolor": "#506784",
            "gridwidth": 2,
            "linecolor": "#506784",
            "showbackground": true,
            "ticks": "",
            "zerolinecolor": "#C8D4E3"
           },
           "yaxis": {
            "backgroundcolor": "rgb(17,17,17)",
            "gridcolor": "#506784",
            "gridwidth": 2,
            "linecolor": "#506784",
            "showbackground": true,
            "ticks": "",
            "zerolinecolor": "#C8D4E3"
           },
           "zaxis": {
            "backgroundcolor": "rgb(17,17,17)",
            "gridcolor": "#506784",
            "gridwidth": 2,
            "linecolor": "#506784",
            "showbackground": true,
            "ticks": "",
            "zerolinecolor": "#C8D4E3"
           }
          },
          "shapedefaults": {
           "line": {
            "color": "#f2f5fa"
           }
          },
          "sliderdefaults": {
           "bgcolor": "#C8D4E3",
           "bordercolor": "rgb(17,17,17)",
           "borderwidth": 1,
           "tickwidth": 0
          },
          "ternary": {
           "aaxis": {
            "gridcolor": "#506784",
            "linecolor": "#506784",
            "ticks": ""
           },
           "baxis": {
            "gridcolor": "#506784",
            "linecolor": "#506784",
            "ticks": ""
           },
           "bgcolor": "rgb(17,17,17)",
           "caxis": {
            "gridcolor": "#506784",
            "linecolor": "#506784",
            "ticks": ""
           }
          },
          "title": {
           "x": 0.05
          },
          "updatemenudefaults": {
           "bgcolor": "#506784",
           "borderwidth": 0
          },
          "xaxis": {
           "automargin": true,
           "gridcolor": "#283442",
           "linecolor": "#506784",
           "ticks": "",
           "title": {
            "standoff": 15
           },
           "zerolinecolor": "#283442",
           "zerolinewidth": 2
          },
          "yaxis": {
           "automargin": true,
           "gridcolor": "#283442",
           "linecolor": "#506784",
           "ticks": "",
           "title": {
            "standoff": 15
           },
           "zerolinecolor": "#283442",
           "zerolinewidth": 2
          }
         }
        },
        "title": {
         "text": "Tesla - MACD Indicator"
        },
        "xaxis": {
         "title": {
          "text": "Date"
         }
        },
        "yaxis": {
         "title": {
          "text": "MACD Value"
         }
        }
       }
      },
      "image/png": "[encoded data removed]"
     },
     "metadata": {},
     "output_type": "display_data"
    }
   ],
   "source": [
    "# Calculate MACD\n",
    "df['MACD'], df['Signal'], _ = talib.MACD(df['Close'], fastperiod=12, slowperiod=26, signalperiod=9)\n",
    "\n",
    "# Create MACD figure\n",
    "fig_macd = go.Figure()\n",
    "fig_macd.add_trace(go.Scatter(x=df['Date'], y=df['MACD'], mode='lines', name='MACD', line=dict(color='blue', width=2)))\n",
    "fig_macd.add_trace(go.Scatter(x=df['Date'], y=df['Signal'], mode='lines', name='Signal Line', line=dict(color='red', width=2)))\n",
    "\n",
    "# Update layout\n",
    "fig_macd.update_layout(title='Tesla - MACD Indicator', xaxis_title='Date', yaxis_title='MACD Value', template='plotly_dark', hovermode='x')\n",
    "\n",
    "# Show figure\n",
    "fig_macd.show()"
   ]
  },
  {
   "cell_type": "code",
   "execution_count": 4,
   "id": "f295c5c0-46c2-44c0-a06d-e77112be4110",
   "metadata": {},
   "outputs": [
    {
     "data": {
      "application/vnd.plotly.v1+json": {
       "config": {
        "plotlyServerURL": "https://plot.ly"
       },
       "data": [
        {
         "line": {
          "color": "green",
          "width": 2
         },
         "mode": "lines",
         "name": "RSI",
         "type": "scatter",
         "x": [
          "2024-12-05T00:00:00-05:00",
          "2024-12-06T00:00:00-05:00",
          "2024-12-09T00:00:00-05:00",
          "2024-12-10T00:00:00-05:00",
          "2024-12-11T00:00:00-05:00",
          "2024-12-12T00:00:00-05:00",
          "2024-12-13T00:00:00-05:00",
          "2024-12-16T00:00:00-05:00",
          "2024-12-17T00:00:00-05:00",
          "2024-12-18T00:00:00-05:00",
          "2024-12-19T00:00:00-05:00",
          "2024-12-20T00:00:00-05:00",
          "2024-12-23T00:00:00-05:00",
          "2024-12-24T00:00:00-05:00",
          "2024-12-26T00:00:00-05:00",
          "2024-12-27T00:00:00-05:00",
          "2024-12-30T00:00:00-05:00",
          "2024-12-31T00:00:00-05:00",
          "2025-01-02T00:00:00-05:00",
          "2025-01-03T00:00:00-05:00",
          "2025-01-06T00:00:00-05:00",
          "2025-01-07T00:00:00-05:00",
          "2025-01-08T00:00:00-05:00",
          "2025-01-10T00:00:00-05:00",
          "2025-01-13T00:00:00-05:00",
          "2025-01-14T00:00:00-05:00",
          "2025-01-15T00:00:00-05:00",
          "2025-01-16T00:00:00-05:00",
          "2025-01-17T00:00:00-05:00",
          "2025-01-21T00:00:00-05:00",
          "2025-01-22T00:00:00-05:00",
          "2025-01-23T00:00:00-05:00",
          "2025-01-24T00:00:00-05:00",
          "2025-01-27T00:00:00-05:00",
          "2025-01-28T00:00:00-05:00",
          "2025-01-29T00:00:00-05:00",
          "2025-01-30T00:00:00-05:00",
          "2025-01-31T00:00:00-05:00",
          "2025-02-03T00:00:00-05:00",
          "2025-02-04T00:00:00-05:00",
          "2025-02-05T00:00:00-05:00",
          "2025-02-06T00:00:00-05:00",
          "2025-02-07T00:00:00-05:00",
          "2025-02-10T00:00:00-05:00",
          "2025-02-11T00:00:00-05:00",
          "2025-02-12T00:00:00-05:00",
          "2025-02-13T00:00:00-05:00",
          "2025-02-14T00:00:00-05:00",
          "2025-02-18T00:00:00-05:00",
          "2025-02-19T00:00:00-05:00",
          "2025-02-20T00:00:00-05:00",
          "2025-02-21T00:00:00-05:00",
          "2025-02-24T00:00:00-05:00",
          "2025-02-25T00:00:00-05:00",
          "2025-02-26T00:00:00-05:00",
          "2025-02-27T00:00:00-05:00",
          "2025-02-28T00:00:00-05:00",
          "2025-03-03T00:00:00-05:00",
          "2025-03-04T00:00:00-05:00",
          "2025-03-05T00:00:00-05:00",
          "2025-03-06T00:00:00-05:00",
          "2025-03-07T00:00:00-05:00",
          "2025-03-10T00:00:00-04:00",
          "2025-03-11T00:00:00-04:00",
          "2025-03-12T00:00:00-04:00",
          "2025-03-13T00:00:00-04:00",
          "2025-03-14T00:00:00-04:00",
          "2025-03-17T00:00:00-04:00",
          "2025-03-18T00:00:00-04:00",
          "2025-03-19T00:00:00-04:00",
          "2025-03-20T00:00:00-04:00",
          "2025-03-21T00:00:00-04:00",
          "2025-03-24T00:00:00-04:00",
          "2025-03-25T00:00:00-04:00",
          "2025-03-26T00:00:00-04:00",
          "2025-03-27T00:00:00-04:00",
          "2025-03-28T00:00:00-04:00",
          "2025-03-31T00:00:00-04:00",
          "2025-04-01T00:00:00-04:00",
          "2025-04-02T00:00:00-04:00",
          "2025-04-03T00:00:00-04:00",
          "2025-04-04T00:00:00-04:00",
          "2025-04-07T00:00:00-04:00",
          "2025-04-08T00:00:00-04:00",
          "2025-04-09T00:00:00-04:00",
          "2025-04-10T00:00:00-04:00",
          "2025-04-11T00:00:00-04:00",
          "2025-04-14T00:00:00-04:00",
          "2025-04-15T00:00:00-04:00",
          "2025-04-16T00:00:00-04:00",
          "2025-04-17T00:00:00-04:00",
          "2025-04-21T00:00:00-04:00",
          "2025-04-22T00:00:00-04:00",
          "2025-04-23T00:00:00-04:00",
          "2025-04-24T00:00:00-04:00",
          "2025-04-25T00:00:00-04:00",
          "2025-04-28T00:00:00-04:00",
          "2025-04-29T00:00:00-04:00",
          "2025-04-30T00:00:00-04:00",
          "2025-05-01T00:00:00-04:00",
          "2025-05-02T00:00:00-04:00",
          "2025-05-05T00:00:00-04:00",
          "2025-05-06T00:00:00-04:00",
          "2025-05-07T00:00:00-04:00",
          "2025-05-08T00:00:00-04:00",
          "2025-05-09T00:00:00-04:00",
          "2025-05-12T00:00:00-04:00",
          "2025-05-13T00:00:00-04:00",
          "2025-05-14T00:00:00-04:00",
          "2025-05-15T00:00:00-04:00",
          "2025-05-16T00:00:00-04:00",
          "2025-05-19T00:00:00-04:00",
          "2025-05-20T00:00:00-04:00",
          "2025-05-21T00:00:00-04:00",
          "2025-05-22T00:00:00-04:00",
          "2025-05-23T00:00:00-04:00",
          "2025-05-27T00:00:00-04:00",
          "2025-05-28T00:00:00-04:00",
          "2025-05-29T00:00:00-04:00",
          "2025-05-30T00:00:00-04:00",
          "2025-06-02T00:00:00-04:00",
          "2025-06-03T00:00:00-04:00",
          "2025-06-04T00:00:00-04:00"
         ],
         "y": {
          "bdata": "AAAAAAAA+H8AAAAAAAD4fwAAAAAAAPh/AAAAAAAA+H8AAAAAAAD4fwAAAAAAAPh/AAAAAAAA+H8AAAAAAAD4fwAAAAAAAPh/AAAAAAAA+H8AAAAAAAD4fwAAAAAAAPh/AAAAAAAA+H8AAAAAAAD4f8W0jYwNEFFAFsAAfpPmTkCmDHK+/wZNQA7ScTgJVEtAye4kaZyHSEAo222L8qdLQO4L2vK1tktAJFkB5UjBSUDZgQCmqNFJQMyf4Iowy0lAn2ljz/XWSkBF1RI4F91JQNNmKYuOiU1Aj+blCP9/S0DSrym6nuFMQMeDg7ochUxAjQ0V1okrS0DeSvjEKsFKQN93fkWd2UlAJs4IPMhnSEBO/Zte245IQLzs51wNI0dAmOLRj64RSUAVKcfdJ8tJQLgZzbQgZkZAwmzwLijoR0BJEcFszstFQFvXYDAFPkVAvOrFgcZ7Q0DNW9sggxlCQF5MgS97Tz9AP5pQ0ZBdQUDMgp/1Ph9FQDb+yk3MG0VANDT8DVzcREAMtIa6JSxGQLoS+rb8MEVAivwEGKDHQkDnGomBu9JBQMelt9hwej1A0+8y2E5HO0DwbFqNlcA5QP4U20FK8D5A8PL9f4RGPUAsf+Kpo+o6QMX7H415TT5ARFsyzulIO0C0u9JhxiM7QH3tZDvs6jRAaO07yATIOED2t1PBixhAQA7j87f5zj5AQfCoFJ9NQUBoL2EjbhRAQPMAJFJ5wT1AM7fqAUwUQUBMxfRfzylBQIBNqT9kwENAmOkSHaXXSEDLBZ+cjkFKQHw4yoaU30dAyTPHn8sKSECSwZv12KFGQEnenHHi/kVA6BNLIS6vR0ADnvB6yhJKQHByuMf1k0dAGfwK3sbjQ0AOmLMicS1DQCJw3vqZ5EFAW4GcwEWiSUCxPBxSNEJHQDr1pEWBP0dAFjcHuf1AR0ALi4oNqoZHQELvdNHU0UVACC3vypXLRUBzIMsV0vFDQOpqETeh4kVAEK5TAVQVSEDphxl4/X9JQKNg5u7IEk1AI4Z01l4xTUAQxh0FfAFOQMbv6vyWG0xAdcy+vg3LS0ApE5GJedVMQN+ClJi9ZUtAPeadY5tlSkAmVyT4a49KQKVbxDMmK0xATZWRnrptTkBGFOYsK51QQDxi8XVig1FAuQD+CuYxUkAedhGdUZRRQIHD9B0X9VFAh7hDrgbvUEB0N80ldApRQOPkI7okrE9AYf3P/GhMUEAOLSqrPRFQQK9mhZiMoFFAoNOX2o/SUEASgkmlhexQQDRgDM9bpU5AvD/Gf3axTUAe07j4ZPlNQLaeSP9s4EpA",
          "dtype": "f8"
         }
        },
        {
         "line": {
          "color": "red",
          "dash": "dash",
          "width": 2
         },
         "mode": "lines",
         "name": "Overbought",
         "type": "scatter",
         "x": [
          "2024-12-05T00:00:00-05:00",
          "2024-12-06T00:00:00-05:00",
          "2024-12-09T00:00:00-05:00",
          "2024-12-10T00:00:00-05:00",
          "2024-12-11T00:00:00-05:00",
          "2024-12-12T00:00:00-05:00",
          "2024-12-13T00:00:00-05:00",
          "2024-12-16T00:00:00-05:00",
          "2024-12-17T00:00:00-05:00",
          "2024-12-18T00:00:00-05:00",
          "2024-12-19T00:00:00-05:00",
          "2024-12-20T00:00:00-05:00",
          "2024-12-23T00:00:00-05:00",
          "2024-12-24T00:00:00-05:00",
          "2024-12-26T00:00:00-05:00",
          "2024-12-27T00:00:00-05:00",
          "2024-12-30T00:00:00-05:00",
          "2024-12-31T00:00:00-05:00",
          "2025-01-02T00:00:00-05:00",
          "2025-01-03T00:00:00-05:00",
          "2025-01-06T00:00:00-05:00",
          "2025-01-07T00:00:00-05:00",
          "2025-01-08T00:00:00-05:00",
          "2025-01-10T00:00:00-05:00",
          "2025-01-13T00:00:00-05:00",
          "2025-01-14T00:00:00-05:00",
          "2025-01-15T00:00:00-05:00",
          "2025-01-16T00:00:00-05:00",
          "2025-01-17T00:00:00-05:00",
          "2025-01-21T00:00:00-05:00",
          "2025-01-22T00:00:00-05:00",
          "2025-01-23T00:00:00-05:00",
          "2025-01-24T00:00:00-05:00",
          "2025-01-27T00:00:00-05:00",
          "2025-01-28T00:00:00-05:00",
          "2025-01-29T00:00:00-05:00",
          "2025-01-30T00:00:00-05:00",
          "2025-01-31T00:00:00-05:00",
          "2025-02-03T00:00:00-05:00",
          "2025-02-04T00:00:00-05:00",
          "2025-02-05T00:00:00-05:00",
          "2025-02-06T00:00:00-05:00",
          "2025-02-07T00:00:00-05:00",
          "2025-02-10T00:00:00-05:00",
          "2025-02-11T00:00:00-05:00",
          "2025-02-12T00:00:00-05:00",
          "2025-02-13T00:00:00-05:00",
          "2025-02-14T00:00:00-05:00",
          "2025-02-18T00:00:00-05:00",
          "2025-02-19T00:00:00-05:00",
          "2025-02-20T00:00:00-05:00",
          "2025-02-21T00:00:00-05:00",
          "2025-02-24T00:00:00-05:00",
          "2025-02-25T00:00:00-05:00",
          "2025-02-26T00:00:00-05:00",
          "2025-02-27T00:00:00-05:00",
          "2025-02-28T00:00:00-05:00",
          "2025-03-03T00:00:00-05:00",
          "2025-03-04T00:00:00-05:00",
          "2025-03-05T00:00:00-05:00",
          "2025-03-06T00:00:00-05:00",
          "2025-03-07T00:00:00-05:00",
          "2025-03-10T00:00:00-04:00",
          "2025-03-11T00:00:00-04:00",
          "2025-03-12T00:00:00-04:00",
          "2025-03-13T00:00:00-04:00",
          "2025-03-14T00:00:00-04:00",
          "2025-03-17T00:00:00-04:00",
          "2025-03-18T00:00:00-04:00",
          "2025-03-19T00:00:00-04:00",
          "2025-03-20T00:00:00-04:00",
          "2025-03-21T00:00:00-04:00",
          "2025-03-24T00:00:00-04:00",
          "2025-03-25T00:00:00-04:00",
          "2025-03-26T00:00:00-04:00",
          "2025-03-27T00:00:00-04:00",
          "2025-03-28T00:00:00-04:00",
          "2025-03-31T00:00:00-04:00",
          "2025-04-01T00:00:00-04:00",
          "2025-04-02T00:00:00-04:00",
          "2025-04-03T00:00:00-04:00",
          "2025-04-04T00:00:00-04:00",
          "2025-04-07T00:00:00-04:00",
          "2025-04-08T00:00:00-04:00",
          "2025-04-09T00:00:00-04:00",
          "2025-04-10T00:00:00-04:00",
          "2025-04-11T00:00:00-04:00",
          "2025-04-14T00:00:00-04:00",
          "2025-04-15T00:00:00-04:00",
          "2025-04-16T00:00:00-04:00",
          "2025-04-17T00:00:00-04:00",
          "2025-04-21T00:00:00-04:00",
          "2025-04-22T00:00:00-04:00",
          "2025-04-23T00:00:00-04:00",
          "2025-04-24T00:00:00-04:00",
          "2025-04-25T00:00:00-04:00",
          "2025-04-28T00:00:00-04:00",
          "2025-04-29T00:00:00-04:00",
          "2025-04-30T00:00:00-04:00",
          "2025-05-01T00:00:00-04:00",
          "2025-05-02T00:00:00-04:00",
          "2025-05-05T00:00:00-04:00",
          "2025-05-06T00:00:00-04:00",
          "2025-05-07T00:00:00-04:00",
          "2025-05-08T00:00:00-04:00",
          "2025-05-09T00:00:00-04:00",
          "2025-05-12T00:00:00-04:00",
          "2025-05-13T00:00:00-04:00",
          "2025-05-14T00:00:00-04:00",
          "2025-05-15T00:00:00-04:00",
          "2025-05-16T00:00:00-04:00",
          "2025-05-19T00:00:00-04:00",
          "2025-05-20T00:00:00-04:00",
          "2025-05-21T00:00:00-04:00",
          "2025-05-22T00:00:00-04:00",
          "2025-05-23T00:00:00-04:00",
          "2025-05-27T00:00:00-04:00",
          "2025-05-28T00:00:00-04:00",
          "2025-05-29T00:00:00-04:00",
          "2025-05-30T00:00:00-04:00",
          "2025-06-02T00:00:00-04:00",
          "2025-06-03T00:00:00-04:00",
          "2025-06-04T00:00:00-04:00"
         ],
         "y": [
          70,
          70,
          70,
          70,
          70,
          70,
          70,
          70,
          70,
          70,
          70,
          70,
          70,
          70,
          70,
          70,
          70,
          70,
          70,
          70,
          70,
          70,
          70,
          70,
          70,
          70,
          70,
          70,
          70,
          70,
          70,
          70,
          70,
          70,
          70,
          70,
          70,
          70,
          70,
          70,
          70,
          70,
          70,
          70,
          70,
          70,
          70,
          70,
          70,
          70,
          70,
          70,
          70,
          70,
          70,
          70,
          70,
          70,
          70,
          70,
          70,
          70,
          70,
          70,
          70,
          70,
          70,
          70,
          70,
          70,
          70,
          70,
          70,
          70,
          70,
          70,
          70,
          70,
          70,
          70,
          70,
          70,
          70,
          70,
          70,
          70,
          70,
          70,
          70,
          70,
          70,
          70,
          70,
          70,
          70,
          70,
          70,
          70,
          70,
          70,
          70,
          70,
          70,
          70,
          70,
          70,
          70,
          70,
          70,
          70,
          70,
          70,
          70,
          70,
          70,
          70,
          70,
          70,
          70,
          70,
          70,
          70,
          70
         ]
        },
        {
         "line": {
          "color": "blue",
          "dash": "dash",
          "width": 2
         },
         "mode": "lines",
         "name": "Oversold",
         "type": "scatter",
         "x": [
          "2024-12-05T00:00:00-05:00",
          "2024-12-06T00:00:00-05:00",
          "2024-12-09T00:00:00-05:00",
          "2024-12-10T00:00:00-05:00",
          "2024-12-11T00:00:00-05:00",
          "2024-12-12T00:00:00-05:00",
          "2024-12-13T00:00:00-05:00",
          "2024-12-16T00:00:00-05:00",
          "2024-12-17T00:00:00-05:00",
          "2024-12-18T00:00:00-05:00",
          "2024-12-19T00:00:00-05:00",
          "2024-12-20T00:00:00-05:00",
          "2024-12-23T00:00:00-05:00",
          "2024-12-24T00:00:00-05:00",
          "2024-12-26T00:00:00-05:00",
          "2024-12-27T00:00:00-05:00",
          "2024-12-30T00:00:00-05:00",
          "2024-12-31T00:00:00-05:00",
          "2025-01-02T00:00:00-05:00",
          "2025-01-03T00:00:00-05:00",
          "2025-01-06T00:00:00-05:00",
          "2025-01-07T00:00:00-05:00",
          "2025-01-08T00:00:00-05:00",
          "2025-01-10T00:00:00-05:00",
          "2025-01-13T00:00:00-05:00",
          "2025-01-14T00:00:00-05:00",
          "2025-01-15T00:00:00-05:00",
          "2025-01-16T00:00:00-05:00",
          "2025-01-17T00:00:00-05:00",
          "2025-01-21T00:00:00-05:00",
          "2025-01-22T00:00:00-05:00",
          "2025-01-23T00:00:00-05:00",
          "2025-01-24T00:00:00-05:00",
          "2025-01-27T00:00:00-05:00",
          "2025-01-28T00:00:00-05:00",
          "2025-01-29T00:00:00-05:00",
          "2025-01-30T00:00:00-05:00",
          "2025-01-31T00:00:00-05:00",
          "2025-02-03T00:00:00-05:00",
          "2025-02-04T00:00:00-05:00",
          "2025-02-05T00:00:00-05:00",
          "2025-02-06T00:00:00-05:00",
          "2025-02-07T00:00:00-05:00",
          "2025-02-10T00:00:00-05:00",
          "2025-02-11T00:00:00-05:00",
          "2025-02-12T00:00:00-05:00",
          "2025-02-13T00:00:00-05:00",
          "2025-02-14T00:00:00-05:00",
          "2025-02-18T00:00:00-05:00",
          "2025-02-19T00:00:00-05:00",
          "2025-02-20T00:00:00-05:00",
          "2025-02-21T00:00:00-05:00",
          "2025-02-24T00:00:00-05:00",
          "2025-02-25T00:00:00-05:00",
          "2025-02-26T00:00:00-05:00",
          "2025-02-27T00:00:00-05:00",
          "2025-02-28T00:00:00-05:00",
          "2025-03-03T00:00:00-05:00",
          "2025-03-04T00:00:00-05:00",
          "2025-03-05T00:00:00-05:00",
          "2025-03-06T00:00:00-05:00",
          "2025-03-07T00:00:00-05:00",
          "2025-03-10T00:00:00-04:00",
          "2025-03-11T00:00:00-04:00",
          "2025-03-12T00:00:00-04:00",
          "2025-03-13T00:00:00-04:00",
          "2025-03-14T00:00:00-04:00",
          "2025-03-17T00:00:00-04:00",
          "2025-03-18T00:00:00-04:00",
          "2025-03-19T00:00:00-04:00",
          "2025-03-20T00:00:00-04:00",
          "2025-03-21T00:00:00-04:00",
          "2025-03-24T00:00:00-04:00",
          "2025-03-25T00:00:00-04:00",
          "2025-03-26T00:00:00-04:00",
          "2025-03-27T00:00:00-04:00",
          "2025-03-28T00:00:00-04:00",
          "2025-03-31T00:00:00-04:00",
          "2025-04-01T00:00:00-04:00",
          "2025-04-02T00:00:00-04:00",
          "2025-04-03T00:00:00-04:00",
          "2025-04-04T00:00:00-04:00",
          "2025-04-07T00:00:00-04:00",
          "2025-04-08T00:00:00-04:00",
          "2025-04-09T00:00:00-04:00",
          "2025-04-10T00:00:00-04:00",
          "2025-04-11T00:00:00-04:00",
          "2025-04-14T00:00:00-04:00",
          "2025-04-15T00:00:00-04:00",
          "2025-04-16T00:00:00-04:00",
          "2025-04-17T00:00:00-04:00",
          "2025-04-21T00:00:00-04:00",
          "2025-04-22T00:00:00-04:00",
          "2025-04-23T00:00:00-04:00",
          "2025-04-24T00:00:00-04:00",
          "2025-04-25T00:00:00-04:00",
          "2025-04-28T00:00:00-04:00",
          "2025-04-29T00:00:00-04:00",
          "2025-04-30T00:00:00-04:00",
          "2025-05-01T00:00:00-04:00",
          "2025-05-02T00:00:00-04:00",
          "2025-05-05T00:00:00-04:00",
          "2025-05-06T00:00:00-04:00",
          "2025-05-07T00:00:00-04:00",
          "2025-05-08T00:00:00-04:00",
          "2025-05-09T00:00:00-04:00",
          "2025-05-12T00:00:00-04:00",
          "2025-05-13T00:00:00-04:00",
          "2025-05-14T00:00:00-04:00",
          "2025-05-15T00:00:00-04:00",
          "2025-05-16T00:00:00-04:00",
          "2025-05-19T00:00:00-04:00",
          "2025-05-20T00:00:00-04:00",
          "2025-05-21T00:00:00-04:00",
          "2025-05-22T00:00:00-04:00",
          "2025-05-23T00:00:00-04:00",
          "2025-05-27T00:00:00-04:00",
          "2025-05-28T00:00:00-04:00",
          "2025-05-29T00:00:00-04:00",
          "2025-05-30T00:00:00-04:00",
          "2025-06-02T00:00:00-04:00",
          "2025-06-03T00:00:00-04:00",
          "2025-06-04T00:00:00-04:00"
         ],
         "y": [
          30,
          30,
          30,
          30,
          30,
          30,
          30,
          30,
          30,
          30,
          30,
          30,
          30,
          30,
          30,
          30,
          30,
          30,
          30,
          30,
          30,
          30,
          30,
          30,
          30,
          30,
          30,
          30,
          30,
          30,
          30,
          30,
          30,
          30,
          30,
          30,
          30,
          30,
          30,
          30,
          30,
          30,
          30,
          30,
          30,
          30,
          30,
          30,
          30,
          30,
          30,
          30,
          30,
          30,
          30,
          30,
          30,
          30,
          30,
          30,
          30,
          30,
          30,
          30,
          30,
          30,
          30,
          30,
          30,
          30,
          30,
          30,
          30,
          30,
          30,
          30,
          30,
          30,
          30,
          30,
          30,
          30,
          30,
          30,
          30,
          30,
          30,
          30,
          30,
          30,
          30,
          30,
          30,
          30,
          30,
          30,
          30,
          30,
          30,
          30,
          30,
          30,
          30,
          30,
          30,
          30,
          30,
          30,
          30,
          30,
          30,
          30,
          30,
          30,
          30,
          30,
          30,
          30,
          30,
          30,
          30,
          30,
          30
         ]
        }
       ],
       "layout": {
        "hovermode": "x",
        "template": {
         "data": {
          "bar": [
           {
            "error_x": {
             "color": "#f2f5fa"
            },
            "error_y": {
             "color": "#f2f5fa"
            },
            "marker": {
             "line": {
              "color": "rgb(17,17,17)",
              "width": 0.5
             },
             "pattern": {
              "fillmode": "overlay",
              "size": 10,
              "solidity": 0.2
             }
            },
            "type": "bar"
           }
          ],
          "barpolar": [
           {
            "marker": {
             "line": {
              "color": "rgb(17,17,17)",
              "width": 0.5
             },
             "pattern": {
              "fillmode": "overlay",
              "size": 10,
              "solidity": 0.2
             }
            },
            "type": "barpolar"
           }
          ],
          "carpet": [
           {
            "aaxis": {
             "endlinecolor": "#A2B1C6",
             "gridcolor": "#506784",
             "linecolor": "#506784",
             "minorgridcolor": "#506784",
             "startlinecolor": "#A2B1C6"
            },
            "baxis": {
             "endlinecolor": "#A2B1C6",
             "gridcolor": "#506784",
             "linecolor": "#506784",
             "minorgridcolor": "#506784",
             "startlinecolor": "#A2B1C6"
            },
            "type": "carpet"
           }
          ],
          "choropleth": [
           {
            "colorbar": {
             "outlinewidth": 0,
             "ticks": ""
            },
            "type": "choropleth"
           }
          ],
          "contour": [
           {
            "colorbar": {
             "outlinewidth": 0,
             "ticks": ""
            },
            "colorscale": [
             [
              0,
              "#0d0887"
             ],
             [
              0.1111111111111111,
              "#46039f"
             ],
             [
              0.2222222222222222,
              "#7201a8"
             ],
             [
              0.3333333333333333,
              "#9c179e"
             ],
             [
              0.4444444444444444,
              "#bd3786"
             ],
             [
              0.5555555555555556,
              "#d8576b"
             ],
             [
              0.6666666666666666,
              "#ed7953"
             ],
             [
              0.7777777777777778,
              "#fb9f3a"
             ],
             [
              0.8888888888888888,
              "#fdca26"
             ],
             [
              1,
              "#f0f921"
             ]
            ],
            "type": "contour"
           }
          ],
          "contourcarpet": [
           {
            "colorbar": {
             "outlinewidth": 0,
             "ticks": ""
            },
            "type": "contourcarpet"
           }
          ],
          "heatmap": [
           {
            "colorbar": {
             "outlinewidth": 0,
             "ticks": ""
            },
            "colorscale": [
             [
              0,
              "#0d0887"
             ],
             [
              0.1111111111111111,
              "#46039f"
             ],
             [
              0.2222222222222222,
              "#7201a8"
             ],
             [
              0.3333333333333333,
              "#9c179e"
             ],
             [
              0.4444444444444444,
              "#bd3786"
             ],
             [
              0.5555555555555556,
              "#d8576b"
             ],
             [
              0.6666666666666666,
              "#ed7953"
             ],
             [
              0.7777777777777778,
              "#fb9f3a"
             ],
             [
              0.8888888888888888,
              "#fdca26"
             ],
             [
              1,
              "#f0f921"
             ]
            ],
            "type": "heatmap"
           }
          ],
          "histogram": [
           {
            "marker": {
             "pattern": {
              "fillmode": "overlay",
              "size": 10,
              "solidity": 0.2
             }
            },
            "type": "histogram"
           }
          ],
          "histogram2d": [
           {
            "colorbar": {
             "outlinewidth": 0,
             "ticks": ""
            },
            "colorscale": [
             [
              0,
              "#0d0887"
             ],
             [
              0.1111111111111111,
              "#46039f"
             ],
             [
              0.2222222222222222,
              "#7201a8"
             ],
             [
              0.3333333333333333,
              "#9c179e"
             ],
             [
              0.4444444444444444,
              "#bd3786"
             ],
             [
              0.5555555555555556,
              "#d8576b"
             ],
             [
              0.6666666666666666,
              "#ed7953"
             ],
             [
              0.7777777777777778,
              "#fb9f3a"
             ],
             [
              0.8888888888888888,
              "#fdca26"
             ],
             [
              1,
              "#f0f921"
             ]
            ],
            "type": "histogram2d"
           }
          ],
          "histogram2dcontour": [
           {
            "colorbar": {
             "outlinewidth": 0,
             "ticks": ""
            },
            "colorscale": [
             [
              0,
              "#0d0887"
             ],
             [
              0.1111111111111111,
              "#46039f"
             ],
             [
              0.2222222222222222,
              "#7201a8"
             ],
             [
              0.3333333333333333,
              "#9c179e"
             ],
             [
              0.4444444444444444,
              "#bd3786"
             ],
             [
              0.5555555555555556,
              "#d8576b"
             ],
             [
              0.6666666666666666,
              "#ed7953"
             ],
             [
              0.7777777777777778,
              "#fb9f3a"
             ],
             [
              0.8888888888888888,
              "#fdca26"
             ],
             [
              1,
              "#f0f921"
             ]
            ],
            "type": "histogram2dcontour"
           }
          ],
          "mesh3d": [
           {
            "colorbar": {
             "outlinewidth": 0,
             "ticks": ""
            },
            "type": "mesh3d"
           }
          ],
          "parcoords": [
           {
            "line": {
             "colorbar": {
              "outlinewidth": 0,
              "ticks": ""
             }
            },
            "type": "parcoords"
           }
          ],
          "pie": [
           {
            "automargin": true,
            "type": "pie"
           }
          ],
          "scatter": [
           {
            "marker": {
             "line": {
              "color": "#283442"
             }
            },
            "type": "scatter"
           }
          ],
          "scatter3d": [
           {
            "line": {
             "colorbar": {
              "outlinewidth": 0,
              "ticks": ""
             }
            },
            "marker": {
             "colorbar": {
              "outlinewidth": 0,
              "ticks": ""
             }
            },
            "type": "scatter3d"
           }
          ],
          "scattercarpet": [
           {
            "marker": {
             "colorbar": {
              "outlinewidth": 0,
              "ticks": ""
             }
            },
            "type": "scattercarpet"
           }
          ],
          "scattergeo": [
           {
            "marker": {
             "colorbar": {
              "outlinewidth": 0,
              "ticks": ""
             }
            },
            "type": "scattergeo"
           }
          ],
          "scattergl": [
           {
            "marker": {
             "line": {
              "color": "#283442"
             }
            },
            "type": "scattergl"
           }
          ],
          "scattermap": [
           {
            "marker": {
             "colorbar": {
              "outlinewidth": 0,
              "ticks": ""
             }
            },
            "type": "scattermap"
           }
          ],
          "scattermapbox": [
           {
            "marker": {
             "colorbar": {
              "outlinewidth": 0,
              "ticks": ""
             }
            },
            "type": "scattermapbox"
           }
          ],
          "scatterpolar": [
           {
            "marker": {
             "colorbar": {
              "outlinewidth": 0,
              "ticks": ""
             }
            },
            "type": "scatterpolar"
           }
          ],
          "scatterpolargl": [
           {
            "marker": {
             "colorbar": {
              "outlinewidth": 0,
              "ticks": ""
             }
            },
            "type": "scatterpolargl"
           }
          ],
          "scatterternary": [
           {
            "marker": {
             "colorbar": {
              "outlinewidth": 0,
              "ticks": ""
             }
            },
            "type": "scatterternary"
           }
          ],
          "surface": [
           {
            "colorbar": {
             "outlinewidth": 0,
             "ticks": ""
            },
            "colorscale": [
             [
              0,
              "#0d0887"
             ],
             [
              0.1111111111111111,
              "#46039f"
             ],
             [
              0.2222222222222222,
              "#7201a8"
             ],
             [
              0.3333333333333333,
              "#9c179e"
             ],
             [
              0.4444444444444444,
              "#bd3786"
             ],
             [
              0.5555555555555556,
              "#d8576b"
             ],
             [
              0.6666666666666666,
              "#ed7953"
             ],
             [
              0.7777777777777778,
              "#fb9f3a"
             ],
             [
              0.8888888888888888,
              "#fdca26"
             ],
             [
              1,
              "#f0f921"
             ]
            ],
            "type": "surface"
           }
          ],
          "table": [
           {
            "cells": {
             "fill": {
              "color": "#506784"
             },
             "line": {
              "color": "rgb(17,17,17)"
             }
            },
            "header": {
             "fill": {
              "color": "#2a3f5f"
             },
             "line": {
              "color": "rgb(17,17,17)"
             }
            },
            "type": "table"
           }
          ]
         },
         "layout": {
          "annotationdefaults": {
           "arrowcolor": "#f2f5fa",
           "arrowhead": 0,
           "arrowwidth": 1
          },
          "autotypenumbers": "strict",
          "coloraxis": {
           "colorbar": {
            "outlinewidth": 0,
            "ticks": ""
           }
          },
          "colorscale": {
           "diverging": [
            [
             0,
             "#8e0152"
            ],
            [
             0.1,
             "#c51b7d"
            ],
            [
             0.2,
             "#de77ae"
            ],
            [
             0.3,
             "#f1b6da"
            ],
            [
             0.4,
             "#fde0ef"
            ],
            [
             0.5,
             "#f7f7f7"
            ],
            [
             0.6,
             "#e6f5d0"
            ],
            [
             0.7,
             "#b8e186"
            ],
            [
             0.8,
             "#7fbc41"
            ],
            [
             0.9,
             "#4d9221"
            ],
            [
             1,
             "#276419"
            ]
           ],
           "sequential": [
            [
             0,
             "#0d0887"
            ],
            [
             0.1111111111111111,
             "#46039f"
            ],
            [
             0.2222222222222222,
             "#7201a8"
            ],
            [
             0.3333333333333333,
             "#9c179e"
            ],
            [
             0.4444444444444444,
             "#bd3786"
            ],
            [
             0.5555555555555556,
             "#d8576b"
            ],
            [
             0.6666666666666666,
             "#ed7953"
            ],
            [
             0.7777777777777778,
             "#fb9f3a"
            ],
            [
             0.8888888888888888,
             "#fdca26"
            ],
            [
             1,
             "#f0f921"
            ]
           ],
           "sequentialminus": [
            [
             0,
             "#0d0887"
            ],
            [
             0.1111111111111111,
             "#46039f"
            ],
            [
             0.2222222222222222,
             "#7201a8"
            ],
            [
             0.3333333333333333,
             "#9c179e"
            ],
            [
             0.4444444444444444,
             "#bd3786"
            ],
            [
             0.5555555555555556,
             "#d8576b"
            ],
            [
             0.6666666666666666,
             "#ed7953"
            ],
            [
             0.7777777777777778,
             "#fb9f3a"
            ],
            [
             0.8888888888888888,
             "#fdca26"
            ],
            [
             1,
             "#f0f921"
            ]
           ]
          },
          "colorway": [
           "#636efa",
           "#EF553B",
           "#00cc96",
           "#ab63fa",
           "#FFA15A",
           "#19d3f3",
           "#FF6692",
           "#B6E880",
           "#FF97FF",
           "#FECB52"
          ],
          "font": {
           "color": "#f2f5fa"
          },
          "geo": {
           "bgcolor": "rgb(17,17,17)",
           "lakecolor": "rgb(17,17,17)",
           "landcolor": "rgb(17,17,17)",
           "showlakes": true,
           "showland": true,
           "subunitcolor": "#506784"
          },
          "hoverlabel": {
           "align": "left"
          },
          "hovermode": "closest",
          "mapbox": {
           "style": "dark"
          },
          "paper_bgcolor": "rgb(17,17,17)",
          "plot_bgcolor": "rgb(17,17,17)",
          "polar": {
           "angularaxis": {
            "gridcolor": "#506784",
            "linecolor": "#506784",
            "ticks": ""
           },
           "bgcolor": "rgb(17,17,17)",
           "radialaxis": {
            "gridcolor": "#506784",
            "linecolor": "#506784",
            "ticks": ""
           }
          },
          "scene": {
           "xaxis": {
            "backgroundcolor": "rgb(17,17,17)",
            "gridcolor": "#506784",
            "gridwidth": 2,
            "linecolor": "#506784",
            "showbackground": true,
            "ticks": "",
            "zerolinecolor": "#C8D4E3"
           },
           "yaxis": {
            "backgroundcolor": "rgb(17,17,17)",
            "gridcolor": "#506784",
            "gridwidth": 2,
            "linecolor": "#506784",
            "showbackground": true,
            "ticks": "",
            "zerolinecolor": "#C8D4E3"
           },
           "zaxis": {
            "backgroundcolor": "rgb(17,17,17)",
            "gridcolor": "#506784",
            "gridwidth": 2,
            "linecolor": "#506784",
            "showbackground": true,
            "ticks": "",
            "zerolinecolor": "#C8D4E3"
           }
          },
          "shapedefaults": {
           "line": {
            "color": "#f2f5fa"
           }
          },
          "sliderdefaults": {
           "bgcolor": "#C8D4E3",
           "bordercolor": "rgb(17,17,17)",
           "borderwidth": 1,
           "tickwidth": 0
          },
          "ternary": {
           "aaxis": {
            "gridcolor": "#506784",
            "linecolor": "#506784",
            "ticks": ""
           },
           "baxis": {
            "gridcolor": "#506784",
            "linecolor": "#506784",
            "ticks": ""
           },
           "bgcolor": "rgb(17,17,17)",
           "caxis": {
            "gridcolor": "#506784",
            "linecolor": "#506784",
            "ticks": ""
           }
          },
          "title": {
           "x": 0.05
          },
          "updatemenudefaults": {
           "bgcolor": "#506784",
           "borderwidth": 0
          },
          "xaxis": {
           "automargin": true,
           "gridcolor": "#283442",
           "linecolor": "#506784",
           "ticks": "",
           "title": {
            "standoff": 15
           },
           "zerolinecolor": "#283442",
           "zerolinewidth": 2
          },
          "yaxis": {
           "automargin": true,
           "gridcolor": "#283442",
           "linecolor": "#506784",
           "ticks": "",
           "title": {
            "standoff": 15
           },
           "zerolinecolor": "#283442",
           "zerolinewidth": 2
          }
         }
        },
        "title": {
         "text": "Tesla - RSI Indicator"
        },
        "xaxis": {
         "title": {
          "text": "Date"
         }
        },
        "yaxis": {
         "title": {
          "text": "RSI Value"
         }
        }
       }
      },
      "image/png": "[encoded data removed]"
     },
     "metadata": {},
     "output_type": "display_data"
    }
   ],
   "source": [
    "# Calculate RSI\n",
    "df['RSI'] = talib.RSI(df['Close'], timeperiod=14)\n",
    "\n",
    "# Create RSI figure\n",
    "fig_rsi = go.Figure()\n",
    "fig_rsi.add_trace(go.Scatter(x=df['Date'], y=df['RSI'], mode='lines', name='RSI', line=dict(color='green', width=2)))\n",
    "fig_rsi.add_trace(go.Scatter(x=df['Date'], y=[70]*len(df), mode='lines', name='Overbought', line=dict(color='red', width=2, dash='dash')))\n",
    "fig_rsi.add_trace(go.Scatter(x=df['Date'], y=[30]*len(df), mode='lines', name='Oversold', line=dict(color='blue', width=2, dash='dash')))\n",
    "\n",
    "# Update layout\n",
    "fig_rsi.update_layout(title='Tesla - RSI Indicator', xaxis_title='Date', yaxis_title='RSI Value', template='plotly_dark', hovermode='x')\n",
    "\n",
    "# Show figure\n",
    "fig_rsi.show()\n"
   ]
  },
  {
   "cell_type": "code",
   "execution_count": 5,
   "id": "4cdf50cd-5523-469b-b709-036c9c52aa02",
   "metadata": {},
   "outputs": [
    {
     "data": {
      "application/vnd.plotly.v1+json": {
       "config": {
        "plotlyServerURL": "https://plot.ly"
       },
       "data": [
        {
         "line": {
          "color": "blue",
          "width": 2
         },
         "mode": "lines",
         "name": "Close Price",
         "type": "scatter",
         "x": [
          "2024-12-05T00:00:00-05:00",
          "2024-12-06T00:00:00-05:00",
          "2024-12-09T00:00:00-05:00",
          "2024-12-10T00:00:00-05:00",
          "2024-12-11T00:00:00-05:00",
          "2024-12-12T00:00:00-05:00",
          "2024-12-13T00:00:00-05:00",
          "2024-12-16T00:00:00-05:00",
          "2024-12-17T00:00:00-05:00",
          "2024-12-18T00:00:00-05:00",
          "2024-12-19T00:00:00-05:00",
          "2024-12-20T00:00:00-05:00",
          "2024-12-23T00:00:00-05:00",
          "2024-12-24T00:00:00-05:00",
          "2024-12-26T00:00:00-05:00",
          "2024-12-27T00:00:00-05:00",
          "2024-12-30T00:00:00-05:00",
          "2024-12-31T00:00:00-05:00",
          "2025-01-02T00:00:00-05:00",
          "2025-01-03T00:00:00-05:00",
          "2025-01-06T00:00:00-05:00",
          "2025-01-07T00:00:00-05:00",
          "2025-01-08T00:00:00-05:00",
          "2025-01-10T00:00:00-05:00",
          "2025-01-13T00:00:00-05:00",
          "2025-01-14T00:00:00-05:00",
          "2025-01-15T00:00:00-05:00",
          "2025-01-16T00:00:00-05:00",
          "2025-01-17T00:00:00-05:00",
          "2025-01-21T00:00:00-05:00",
          "2025-01-22T00:00:00-05:00",
          "2025-01-23T00:00:00-05:00",
          "2025-01-24T00:00:00-05:00",
          "2025-01-27T00:00:00-05:00",
          "2025-01-28T00:00:00-05:00",
          "2025-01-29T00:00:00-05:00",
          "2025-01-30T00:00:00-05:00",
          "2025-01-31T00:00:00-05:00",
          "2025-02-03T00:00:00-05:00",
          "2025-02-04T00:00:00-05:00",
          "2025-02-05T00:00:00-05:00",
          "2025-02-06T00:00:00-05:00",
          "2025-02-07T00:00:00-05:00",
          "2025-02-10T00:00:00-05:00",
          "2025-02-11T00:00:00-05:00",
          "2025-02-12T00:00:00-05:00",
          "2025-02-13T00:00:00-05:00",
          "2025-02-14T00:00:00-05:00",
          "2025-02-18T00:00:00-05:00",
          "2025-02-19T00:00:00-05:00",
          "2025-02-20T00:00:00-05:00",
          "2025-02-21T00:00:00-05:00",
          "2025-02-24T00:00:00-05:00",
          "2025-02-25T00:00:00-05:00",
          "2025-02-26T00:00:00-05:00",
          "2025-02-27T00:00:00-05:00",
          "2025-02-28T00:00:00-05:00",
          "2025-03-03T00:00:00-05:00",
          "2025-03-04T00:00:00-05:00",
          "2025-03-05T00:00:00-05:00",
          "2025-03-06T00:00:00-05:00",
          "2025-03-07T00:00:00-05:00",
          "2025-03-10T00:00:00-04:00",
          "2025-03-11T00:00:00-04:00",
          "2025-03-12T00:00:00-04:00",
          "2025-03-13T00:00:00-04:00",
          "2025-03-14T00:00:00-04:00",
          "2025-03-17T00:00:00-04:00",
          "2025-03-18T00:00:00-04:00",
          "2025-03-19T00:00:00-04:00",
          "2025-03-20T00:00:00-04:00",
          "2025-03-21T00:00:00-04:00",
          "2025-03-24T00:00:00-04:00",
          "2025-03-25T00:00:00-04:00",
          "2025-03-26T00:00:00-04:00",
          "2025-03-27T00:00:00-04:00",
          "2025-03-28T00:00:00-04:00",
          "2025-03-31T00:00:00-04:00",
          "2025-04-01T00:00:00-04:00",
          "2025-04-02T00:00:00-04:00",
          "2025-04-03T00:00:00-04:00",
          "2025-04-04T00:00:00-04:00",
          "2025-04-07T00:00:00-04:00",
          "2025-04-08T00:00:00-04:00",
          "2025-04-09T00:00:00-04:00",
          "2025-04-10T00:00:00-04:00",
          "2025-04-11T00:00:00-04:00",
          "2025-04-14T00:00:00-04:00",
          "2025-04-15T00:00:00-04:00",
          "2025-04-16T00:00:00-04:00",
          "2025-04-17T00:00:00-04:00",
          "2025-04-21T00:00:00-04:00",
          "2025-04-22T00:00:00-04:00",
          "2025-04-23T00:00:00-04:00",
          "2025-04-24T00:00:00-04:00",
          "2025-04-25T00:00:00-04:00",
          "2025-04-28T00:00:00-04:00",
          "2025-04-29T00:00:00-04:00",
          "2025-04-30T00:00:00-04:00",
          "2025-05-01T00:00:00-04:00",
          "2025-05-02T00:00:00-04:00",
          "2025-05-05T00:00:00-04:00",
          "2025-05-06T00:00:00-04:00",
          "2025-05-07T00:00:00-04:00",
          "2025-05-08T00:00:00-04:00",
          "2025-05-09T00:00:00-04:00",
          "2025-05-12T00:00:00-04:00",
          "2025-05-13T00:00:00-04:00",
          "2025-05-14T00:00:00-04:00",
          "2025-05-15T00:00:00-04:00",
          "2025-05-16T00:00:00-04:00",
          "2025-05-19T00:00:00-04:00",
          "2025-05-20T00:00:00-04:00",
          "2025-05-21T00:00:00-04:00",
          "2025-05-22T00:00:00-04:00",
          "2025-05-23T00:00:00-04:00",
          "2025-05-27T00:00:00-04:00",
          "2025-05-28T00:00:00-04:00",
          "2025-05-29T00:00:00-04:00",
          "2025-05-30T00:00:00-04:00",
          "2025-06-02T00:00:00-04:00",
          "2025-06-03T00:00:00-04:00",
          "2025-06-04T00:00:00-04:00"
         ],
         "y": {
          "bdata": "AAAAANcXd0AAAAAghVN4QAAAAOCjXHhAAAAAANcPeUAAAADgUYx6QAAAAKCZIXpAAAAAIK5De0AAAADgUfB8QAAAAIDC/X1AAAAAgBSCe0AAAABguEJ7QAAAAMD1UHpAAAAAoJnpekAAAADgeuR8QAAAAIAUYnxAAAAAYI/6ekAAAABgjxZ6QAAAAKBwPXlAAAAA4Hq0d0AAAABACqd5QAAAAMDMsHlAAAAAgMKleEAAAABACq94QAAAAADXq3hAAAAAwPU0eUAAAACAwsV4QAAAACCFw3pAAAAAwB7deUAAAAAAAKh6QAAAAMAegXpAAAAAgMLxeUAAAACAFMZ5QAAAAKBHaXlAAAAAYGbSeEAAAACgcOF4QAAAAKCZUXhAAAAA4HoEeUAAAACgmUl5QAAAAEDh+ndAAAAAIFyDeEAAAABguKJ3QAAAAMAeZXdAAAAAgOuZdkAAAAAgrut1QAAAAAAAiHRAAAAAACkIdUAAAABACj92QAAAAKBwPXZAAAAAgMIhdkAAAADA9Yh2QAAAAGBmJnZAAAAAwMwcdUAAAADgeqh0QAAAAMDM7HJAAAAAwMwsckAAAABAM59xQAAAACCuT3JAAAAAYGbKcUAAAADgowBxQAAAAKCZcXFAAAAAQDN3cEAAAABguGpwQAAAAMDMxGtAAAAAYI/SbEAAAABA4QJvQAAAAIDCFW5AAAAAIFw/b0AAAADgUcBtQAAAAIDrKWxAAAAAIIV7bUAAAADgUYhtQAAAAGC4Fm9AAAAAgD1mcUAAAACAPQJyQAAAAMD1AHFAAAAAgBQScUAAAADAzHhwQAAAAGCPMnBAAAAAIFzHcEAAAAAAKaxxQAAAAOB6tHBAAAAAgMLtbUAAAACgRyltQAAAACCFu2tAAAAAQDMDcUAAAADAzIxvQAAAAIDriW9AAAAAQDOLb0AAAAAghcNvQAAAAKCZMW5AAAAAANcrbkAAAAAAAHBsQAAAAEAKv21AAAAAIK5Xb0AAAAAAKThwQAAAAEAzz3FAAAAAgBTecUAAAADgekByQAAAAGCPonFAAAAA4FGIcUAAAAAgXPNxQAAAAAAphHFAAAAAoJk1cUAAAAAghUNxQAAAAMAezXFAAAAAACmkckAAAACAFOZzQAAAAMAe4XRAAAAAQOG6dUAAAADAHm11QAAAACCu33VAAAAAoHBhdUAAAADAHn11QAAAAIDr6XRAAAAA4KNQdUAAAACgcDV1QAAAAIA9rnZAAAAAYGZOdkAAAABA4WZ2QAAAACBcp3VAAAAAQAprdUAAAADgUYR1QAAAAMDMwHRA",
          "dtype": "f8"
         }
        },
        {
         "line": {
          "color": "red",
          "dash": "dash",
          "width": 2
         },
         "mode": "lines",
         "name": "Upper Band",
         "type": "scatter",
         "x": [
          "2024-12-05T00:00:00-05:00",
          "2024-12-06T00:00:00-05:00",
          "2024-12-09T00:00:00-05:00",
          "2024-12-10T00:00:00-05:00",
          "2024-12-11T00:00:00-05:00",
          "2024-12-12T00:00:00-05:00",
          "2024-12-13T00:00:00-05:00",
          "2024-12-16T00:00:00-05:00",
          "2024-12-17T00:00:00-05:00",
          "2024-12-18T00:00:00-05:00",
          "2024-12-19T00:00:00-05:00",
          "2024-12-20T00:00:00-05:00",
          "2024-12-23T00:00:00-05:00",
          "2024-12-24T00:00:00-05:00",
          "2024-12-26T00:00:00-05:00",
          "2024-12-27T00:00:00-05:00",
          "2024-12-30T00:00:00-05:00",
          "2024-12-31T00:00:00-05:00",
          "2025-01-02T00:00:00-05:00",
          "2025-01-03T00:00:00-05:00",
          "2025-01-06T00:00:00-05:00",
          "2025-01-07T00:00:00-05:00",
          "2025-01-08T00:00:00-05:00",
          "2025-01-10T00:00:00-05:00",
          "2025-01-13T00:00:00-05:00",
          "2025-01-14T00:00:00-05:00",
          "2025-01-15T00:00:00-05:00",
          "2025-01-16T00:00:00-05:00",
          "2025-01-17T00:00:00-05:00",
          "2025-01-21T00:00:00-05:00",
          "2025-01-22T00:00:00-05:00",
          "2025-01-23T00:00:00-05:00",
          "2025-01-24T00:00:00-05:00",
          "2025-01-27T00:00:00-05:00",
          "2025-01-28T00:00:00-05:00",
          "2025-01-29T00:00:00-05:00",
          "2025-01-30T00:00:00-05:00",
          "2025-01-31T00:00:00-05:00",
          "2025-02-03T00:00:00-05:00",
          "2025-02-04T00:00:00-05:00",
          "2025-02-05T00:00:00-05:00",
          "2025-02-06T00:00:00-05:00",
          "2025-02-07T00:00:00-05:00",
          "2025-02-10T00:00:00-05:00",
          "2025-02-11T00:00:00-05:00",
          "2025-02-12T00:00:00-05:00",
          "2025-02-13T00:00:00-05:00",
          "2025-02-14T00:00:00-05:00",
          "2025-02-18T00:00:00-05:00",
          "2025-02-19T00:00:00-05:00",
          "2025-02-20T00:00:00-05:00",
          "2025-02-21T00:00:00-05:00",
          "2025-02-24T00:00:00-05:00",
          "2025-02-25T00:00:00-05:00",
          "2025-02-26T00:00:00-05:00",
          "2025-02-27T00:00:00-05:00",
          "2025-02-28T00:00:00-05:00",
          "2025-03-03T00:00:00-05:00",
          "2025-03-04T00:00:00-05:00",
          "2025-03-05T00:00:00-05:00",
          "2025-03-06T00:00:00-05:00",
          "2025-03-07T00:00:00-05:00",
          "2025-03-10T00:00:00-04:00",
          "2025-03-11T00:00:00-04:00",
          "2025-03-12T00:00:00-04:00",
          "2025-03-13T00:00:00-04:00",
          "2025-03-14T00:00:00-04:00",
          "2025-03-17T00:00:00-04:00",
          "2025-03-18T00:00:00-04:00",
          "2025-03-19T00:00:00-04:00",
          "2025-03-20T00:00:00-04:00",
          "2025-03-21T00:00:00-04:00",
          "2025-03-24T00:00:00-04:00",
          "2025-03-25T00:00:00-04:00",
          "2025-03-26T00:00:00-04:00",
          "2025-03-27T00:00:00-04:00",
          "2025-03-28T00:00:00-04:00",
          "2025-03-31T00:00:00-04:00",
          "2025-04-01T00:00:00-04:00",
          "2025-04-02T00:00:00-04:00",
          "2025-04-03T00:00:00-04:00",
          "2025-04-04T00:00:00-04:00",
          "2025-04-07T00:00:00-04:00",
          "2025-04-08T00:00:00-04:00",
          "2025-04-09T00:00:00-04:00",
          "2025-04-10T00:00:00-04:00",
          "2025-04-11T00:00:00-04:00",
          "2025-04-14T00:00:00-04:00",
          "2025-04-15T00:00:00-04:00",
          "2025-04-16T00:00:00-04:00",
          "2025-04-17T00:00:00-04:00",
          "2025-04-21T00:00:00-04:00",
          "2025-04-22T00:00:00-04:00",
          "2025-04-23T00:00:00-04:00",
          "2025-04-24T00:00:00-04:00",
          "2025-04-25T00:00:00-04:00",
          "2025-04-28T00:00:00-04:00",
          "2025-04-29T00:00:00-04:00",
          "2025-04-30T00:00:00-04:00",
          "2025-05-01T00:00:00-04:00",
          "2025-05-02T00:00:00-04:00",
          "2025-05-05T00:00:00-04:00",
          "2025-05-06T00:00:00-04:00",
          "2025-05-07T00:00:00-04:00",
          "2025-05-08T00:00:00-04:00",
          "2025-05-09T00:00:00-04:00",
          "2025-05-12T00:00:00-04:00",
          "2025-05-13T00:00:00-04:00",
          "2025-05-14T00:00:00-04:00",
          "2025-05-15T00:00:00-04:00",
          "2025-05-16T00:00:00-04:00",
          "2025-05-19T00:00:00-04:00",
          "2025-05-20T00:00:00-04:00",
          "2025-05-21T00:00:00-04:00",
          "2025-05-22T00:00:00-04:00",
          "2025-05-23T00:00:00-04:00",
          "2025-05-27T00:00:00-04:00",
          "2025-05-28T00:00:00-04:00",
          "2025-05-29T00:00:00-04:00",
          "2025-05-30T00:00:00-04:00",
          "2025-06-02T00:00:00-04:00",
          "2025-06-03T00:00:00-04:00",
          "2025-06-04T00:00:00-04:00"
         ],
         "y": {
          "bdata": "AAAAAAAA+H8AAAAAAAD4fwAAAAAAAPh/AAAAAAAA+H8AAAAAAAD4fwAAAAAAAPh/AAAAAAAA+H8AAAAAAAD4fwAAAAAAAPh/AAAAAAAA+H8AAAAAAAD4fwAAAAAAAPh/AAAAAAAA+H8AAAAAAAD4fwAAAAAAAPh/AAAAAAAA+H8AAAAAAAD4fwAAAAAAAPh/AAAAAAAA+H9tNXQ01f19QJyU/v6ozH1A5/iMeB3GfUDKjOwhhb99QEj/J61YxX1AiN9oLVTCfUALwLKOiMZ9QLkQrXSbu31AunASFjZgfUDfiNCNn7V8QBWpM/4alnxAgtYivmV1fEDl/B/kjm18QBjBGyiaUnxASxCjVj+6e0ACRhDdXih7QP6gFdsX9HpAXnG9OeneekBDtRVpcd96QN6W4lpi1XpACfqVQxXPekClz5IJINl6QJSXyOa68XpAOFenscMie0DsQ+AjiWJ7QECIUPlrxXtAuyjz9aXze0BqXlOUMa57QH4eVpvHg3tAsFoGyeQpe0DuCCAijMR6QEcjzDWacnpAOYLfWPArekCI2EwG6vF5QKt674YJ/3lAIP9tnMMGekDR4rIoyBh6QOWFht6tz3lAnC3wo6doeUDotk3yx0J5QCUphGYG1XhAKEURJW6WeEChdBPZAkh4QI0/2+B5XnhARA+SA4NPeEDESAtiBjt4QBlYG+m9EHhAsNlN7BiXd0AoTNPLnBB3QPEL2/B9gXZAwkRA3ZSodUDK3AxOB710QHpZSB/v7XNABfMHtxw5c0A+DtFjAAlzQK1t3Uzi2nJACgKMWsjGckAuF78Z431yQHdgXm1CRnJAXgVeWZA+ckAnNLLgtUlyQFWTog5CUHJAmZ70t05DckC8bWX65TNyQEOfQBosQXJAIL+wRWVgckDbrmSHoGFyQJxK3qmtYnJAwuextXRhckCAh+nVSk1yQM6rQAvuR3JALdYNK+JCckCydlFWd1dyQIc8ZDCHL3JAM92AbwrccUCotNsp0cFxQHQjRJ++6XFApLYGdr4mckCEelFr63lyQI3wA8eWmXJAoyu+s2STckA21t4QV8JyQME2UYUl53JA8NnCwvL0ckCOKRYDi+NyQER1r3Q9/HJAd990LeFCc0CA6Mh0xcdzQH6XcmFgdnRA9fX6IYI/dUBgTI1sPsZ1QOCh7SeuSnZAXaO9fTB6dkCOfYdGjqd2QPx9jjXxvHZANrBjq4HfdkDnPlpXIxB3QKQ85Wl5endADP0cetvGd0D4vmxLwQF4QNZ2oeFPEHhAZx5J9GMWeEDYJCQ5XgV4QJFgvo9lxHdA",
          "dtype": "f8"
         }
        },
        {
         "line": {
          "color": "orange",
          "dash": "dash",
          "width": 2
         },
         "mode": "lines",
         "name": "Middle Band",
         "type": "scatter",
         "x": [
          "2024-12-05T00:00:00-05:00",
          "2024-12-06T00:00:00-05:00",
          "2024-12-09T00:00:00-05:00",
          "2024-12-10T00:00:00-05:00",
          "2024-12-11T00:00:00-05:00",
          "2024-12-12T00:00:00-05:00",
          "2024-12-13T00:00:00-05:00",
          "2024-12-16T00:00:00-05:00",
          "2024-12-17T00:00:00-05:00",
          "2024-12-18T00:00:00-05:00",
          "2024-12-19T00:00:00-05:00",
          "2024-12-20T00:00:00-05:00",
          "2024-12-23T00:00:00-05:00",
          "2024-12-24T00:00:00-05:00",
          "2024-12-26T00:00:00-05:00",
          "2024-12-27T00:00:00-05:00",
          "2024-12-30T00:00:00-05:00",
          "2024-12-31T00:00:00-05:00",
          "2025-01-02T00:00:00-05:00",
          "2025-01-03T00:00:00-05:00",
          "2025-01-06T00:00:00-05:00",
          "2025-01-07T00:00:00-05:00",
          "2025-01-08T00:00:00-05:00",
          "2025-01-10T00:00:00-05:00",
          "2025-01-13T00:00:00-05:00",
          "2025-01-14T00:00:00-05:00",
          "2025-01-15T00:00:00-05:00",
          "2025-01-16T00:00:00-05:00",
          "2025-01-17T00:00:00-05:00",
          "2025-01-21T00:00:00-05:00",
          "2025-01-22T00:00:00-05:00",
          "2025-01-23T00:00:00-05:00",
          "2025-01-24T00:00:00-05:00",
          "2025-01-27T00:00:00-05:00",
          "2025-01-28T00:00:00-05:00",
          "2025-01-29T00:00:00-05:00",
          "2025-01-30T00:00:00-05:00",
          "2025-01-31T00:00:00-05:00",
          "2025-02-03T00:00:00-05:00",
          "2025-02-04T00:00:00-05:00",
          "2025-02-05T00:00:00-05:00",
          "2025-02-06T00:00:00-05:00",
          "2025-02-07T00:00:00-05:00",
          "2025-02-10T00:00:00-05:00",
          "2025-02-11T00:00:00-05:00",
          "2025-02-12T00:00:00-05:00",
          "2025-02-13T00:00:00-05:00",
          "2025-02-14T00:00:00-05:00",
          "2025-02-18T00:00:00-05:00",
          "2025-02-19T00:00:00-05:00",
          "2025-02-20T00:00:00-05:00",
          "2025-02-21T00:00:00-05:00",
          "2025-02-24T00:00:00-05:00",
          "2025-02-25T00:00:00-05:00",
          "2025-02-26T00:00:00-05:00",
          "2025-02-27T00:00:00-05:00",
          "2025-02-28T00:00:00-05:00",
          "2025-03-03T00:00:00-05:00",
          "2025-03-04T00:00:00-05:00",
          "2025-03-05T00:00:00-05:00",
          "2025-03-06T00:00:00-05:00",
          "2025-03-07T00:00:00-05:00",
          "2025-03-10T00:00:00-04:00",
          "2025-03-11T00:00:00-04:00",
          "2025-03-12T00:00:00-04:00",
          "2025-03-13T00:00:00-04:00",
          "2025-03-14T00:00:00-04:00",
          "2025-03-17T00:00:00-04:00",
          "2025-03-18T00:00:00-04:00",
          "2025-03-19T00:00:00-04:00",
          "2025-03-20T00:00:00-04:00",
          "2025-03-21T00:00:00-04:00",
          "2025-03-24T00:00:00-04:00",
          "2025-03-25T00:00:00-04:00",
          "2025-03-26T00:00:00-04:00",
          "2025-03-27T00:00:00-04:00",
          "2025-03-28T00:00:00-04:00",
          "2025-03-31T00:00:00-04:00",
          "2025-04-01T00:00:00-04:00",
          "2025-04-02T00:00:00-04:00",
          "2025-04-03T00:00:00-04:00",
          "2025-04-04T00:00:00-04:00",
          "2025-04-07T00:00:00-04:00",
          "2025-04-08T00:00:00-04:00",
          "2025-04-09T00:00:00-04:00",
          "2025-04-10T00:00:00-04:00",
          "2025-04-11T00:00:00-04:00",
          "2025-04-14T00:00:00-04:00",
          "2025-04-15T00:00:00-04:00",
          "2025-04-16T00:00:00-04:00",
          "2025-04-17T00:00:00-04:00",
          "2025-04-21T00:00:00-04:00",
          "2025-04-22T00:00:00-04:00",
          "2025-04-23T00:00:00-04:00",
          "2025-04-24T00:00:00-04:00",
          "2025-04-25T00:00:00-04:00",
          "2025-04-28T00:00:00-04:00",
          "2025-04-29T00:00:00-04:00",
          "2025-04-30T00:00:00-04:00",
          "2025-05-01T00:00:00-04:00",
          "2025-05-02T00:00:00-04:00",
          "2025-05-05T00:00:00-04:00",
          "2025-05-06T00:00:00-04:00",
          "2025-05-07T00:00:00-04:00",
          "2025-05-08T00:00:00-04:00",
          "2025-05-09T00:00:00-04:00",
          "2025-05-12T00:00:00-04:00",
          "2025-05-13T00:00:00-04:00",
          "2025-05-14T00:00:00-04:00",
          "2025-05-15T00:00:00-04:00",
          "2025-05-16T00:00:00-04:00",
          "2025-05-19T00:00:00-04:00",
          "2025-05-20T00:00:00-04:00",
          "2025-05-21T00:00:00-04:00",
          "2025-05-22T00:00:00-04:00",
          "2025-05-23T00:00:00-04:00",
          "2025-05-27T00:00:00-04:00",
          "2025-05-28T00:00:00-04:00",
          "2025-05-29T00:00:00-04:00",
          "2025-05-30T00:00:00-04:00",
          "2025-06-02T00:00:00-04:00",
          "2025-06-03T00:00:00-04:00",
          "2025-06-04T00:00:00-04:00"
         ],
         "y": {
          "bdata": "AAAAAAAA+H8AAAAAAAD4fwAAAAAAAPh/AAAAAAAA+H8AAAAAAAD4fwAAAAAAAPh/AAAAAAAA+H8AAAAAAAD4fwAAAAAAAPh/AAAAAAAA+H8AAAAAAAD4fwAAAAAAAPh/AAAAAAAA+H8AAAAAAAD4fwAAAAAAAPh/AAAAAAAA+H8AAAAAAAD4fwAAAAAAAPh/AAAAAAAA+H8AAACoxm56QM3MzCQGkHpAAAAA0CKUekAAAACIQZh6QAAAAIhBk3pAZmZmhhaCekAzMzMrsnB6QAAAALhJanpAAAAAkO1CekAAAABwPRh6QJqZmVlkC3pAmpmZQYv6eUAAAACYmfN5QDMzM0ti4HlAMzMzq0eseUDNzMyscn95QDMzM2NmXXlAmpmZKbJPeUAAAADQTVB5QGZmZu7SU3lAzczMbD1FeUAzMzOb7yp5QDMzM2vnGnlAMzMzez8AeUDNzMw8Ct14QGZmZiYxoXhAAAAA4E9xeEBmZmbufDd4QAAAAKAaCXhAZmZmJjHPd0DNzMxMYpx3QM3MzOTQa3dAAAAA6CYwd0BmZmbeT/N2QM3MzPzUp3ZAZmZm/v9RdkDNzMysR/x1QDMzM6NwpnVAAAAA4HpGdUCamZkBK+10QM3MzBSuknRAzczMbOc2dECamZmBld1zQM3MzAwCbnNAAAAAVOMNc0AAAABcj81yQDMzM1/lgHJAMzMzwyAsckCamZkt3c1xQM3MzPDSZnFAmpmZYRADcUAzMzNPjaRwQGZmZq5HXXBAmpmZaZEzcEDNzMwM1ydwQJqZmRnZGHBAMzMzw8oRcEDNzMz8fvRvQJqZmUm2y29AmpmZ6fvFb0DNzMwM18tvQAAAAND30W9AMzMzs8isb0DNzMykm75vQGZmZu6nsG9AzczMZDvXb0AAAADo++lvQGZmZka27W9AzczM+FMCcEBmZmY2XhlwQGZmZobrHXBAmpmZDQIicEBmZmY+ChFwQDMzM3No4W9AAAAAaJGlb0BmZmbufJFvQAAAAGhmpG9AAAAAyCDIb0DNzMxUuPxvQJqZme1RCXBAAAAALIcHcECamZnVeBdwQGZmZtIiOHBAZmZmtshZcEAAAACkRYVwQDMzMzdej3BAzczMWA60cEAAAAB86ehwQJqZmb1JKnFAAAAA4CR1cUDNzMz4KMZxQJqZmU0MHXJAmpmZVbh4ckBmZmZqZs1yQJqZmQmBEHNAmpmZYbpRc0AzMzNzPX1zQJqZmRnZunNAmpmZeb7uc0CamZmRwit0QM3MzBSDYHRAMzMzY+WMdECamZmhGsB0QJqZmcl27XRA",
          "dtype": "f8"
         }
        },
        {
         "line": {
          "color": "green",
          "dash": "dash",
          "width": 2
         },
         "mode": "lines",
         "name": "Lower Band",
         "type": "scatter",
         "x": [
          "2024-12-05T00:00:00-05:00",
          "2024-12-06T00:00:00-05:00",
          "2024-12-09T00:00:00-05:00",
          "2024-12-10T00:00:00-05:00",
          "2024-12-11T00:00:00-05:00",
          "2024-12-12T00:00:00-05:00",
          "2024-12-13T00:00:00-05:00",
          "2024-12-16T00:00:00-05:00",
          "2024-12-17T00:00:00-05:00",
          "2024-12-18T00:00:00-05:00",
          "2024-12-19T00:00:00-05:00",
          "2024-12-20T00:00:00-05:00",
          "2024-12-23T00:00:00-05:00",
          "2024-12-24T00:00:00-05:00",
          "2024-12-26T00:00:00-05:00",
          "2024-12-27T00:00:00-05:00",
          "2024-12-30T00:00:00-05:00",
          "2024-12-31T00:00:00-05:00",
          "2025-01-02T00:00:00-05:00",
          "2025-01-03T00:00:00-05:00",
          "2025-01-06T00:00:00-05:00",
          "2025-01-07T00:00:00-05:00",
          "2025-01-08T00:00:00-05:00",
          "2025-01-10T00:00:00-05:00",
          "2025-01-13T00:00:00-05:00",
          "2025-01-14T00:00:00-05:00",
          "2025-01-15T00:00:00-05:00",
          "2025-01-16T00:00:00-05:00",
          "2025-01-17T00:00:00-05:00",
          "2025-01-21T00:00:00-05:00",
          "2025-01-22T00:00:00-05:00",
          "2025-01-23T00:00:00-05:00",
          "2025-01-24T00:00:00-05:00",
          "2025-01-27T00:00:00-05:00",
          "2025-01-28T00:00:00-05:00",
          "2025-01-29T00:00:00-05:00",
          "2025-01-30T00:00:00-05:00",
          "2025-01-31T00:00:00-05:00",
          "2025-02-03T00:00:00-05:00",
          "2025-02-04T00:00:00-05:00",
          "2025-02-05T00:00:00-05:00",
          "2025-02-06T00:00:00-05:00",
          "2025-02-07T00:00:00-05:00",
          "2025-02-10T00:00:00-05:00",
          "2025-02-11T00:00:00-05:00",
          "2025-02-12T00:00:00-05:00",
          "2025-02-13T00:00:00-05:00",
          "2025-02-14T00:00:00-05:00",
          "2025-02-18T00:00:00-05:00",
          "2025-02-19T00:00:00-05:00",
          "2025-02-20T00:00:00-05:00",
          "2025-02-21T00:00:00-05:00",
          "2025-02-24T00:00:00-05:00",
          "2025-02-25T00:00:00-05:00",
          "2025-02-26T00:00:00-05:00",
          "2025-02-27T00:00:00-05:00",
          "2025-02-28T00:00:00-05:00",
          "2025-03-03T00:00:00-05:00",
          "2025-03-04T00:00:00-05:00",
          "2025-03-05T00:00:00-05:00",
          "2025-03-06T00:00:00-05:00",
          "2025-03-07T00:00:00-05:00",
          "2025-03-10T00:00:00-04:00",
          "2025-03-11T00:00:00-04:00",
          "2025-03-12T00:00:00-04:00",
          "2025-03-13T00:00:00-04:00",
          "2025-03-14T00:00:00-04:00",
          "2025-03-17T00:00:00-04:00",
          "2025-03-18T00:00:00-04:00",
          "2025-03-19T00:00:00-04:00",
          "2025-03-20T00:00:00-04:00",
          "2025-03-21T00:00:00-04:00",
          "2025-03-24T00:00:00-04:00",
          "2025-03-25T00:00:00-04:00",
          "2025-03-26T00:00:00-04:00",
          "2025-03-27T00:00:00-04:00",
          "2025-03-28T00:00:00-04:00",
          "2025-03-31T00:00:00-04:00",
          "2025-04-01T00:00:00-04:00",
          "2025-04-02T00:00:00-04:00",
          "2025-04-03T00:00:00-04:00",
          "2025-04-04T00:00:00-04:00",
          "2025-04-07T00:00:00-04:00",
          "2025-04-08T00:00:00-04:00",
          "2025-04-09T00:00:00-04:00",
          "2025-04-10T00:00:00-04:00",
          "2025-04-11T00:00:00-04:00",
          "2025-04-14T00:00:00-04:00",
          "2025-04-15T00:00:00-04:00",
          "2025-04-16T00:00:00-04:00",
          "2025-04-17T00:00:00-04:00",
          "2025-04-21T00:00:00-04:00",
          "2025-04-22T00:00:00-04:00",
          "2025-04-23T00:00:00-04:00",
          "2025-04-24T00:00:00-04:00",
          "2025-04-25T00:00:00-04:00",
          "2025-04-28T00:00:00-04:00",
          "2025-04-29T00:00:00-04:00",
          "2025-04-30T00:00:00-04:00",
          "2025-05-01T00:00:00-04:00",
          "2025-05-02T00:00:00-04:00",
          "2025-05-05T00:00:00-04:00",
          "2025-05-06T00:00:00-04:00",
          "2025-05-07T00:00:00-04:00",
          "2025-05-08T00:00:00-04:00",
          "2025-05-09T00:00:00-04:00",
          "2025-05-12T00:00:00-04:00",
          "2025-05-13T00:00:00-04:00",
          "2025-05-14T00:00:00-04:00",
          "2025-05-15T00:00:00-04:00",
          "2025-05-16T00:00:00-04:00",
          "2025-05-19T00:00:00-04:00",
          "2025-05-20T00:00:00-04:00",
          "2025-05-21T00:00:00-04:00",
          "2025-05-22T00:00:00-04:00",
          "2025-05-23T00:00:00-04:00",
          "2025-05-27T00:00:00-04:00",
          "2025-05-28T00:00:00-04:00",
          "2025-05-29T00:00:00-04:00",
          "2025-05-30T00:00:00-04:00",
          "2025-06-02T00:00:00-04:00",
          "2025-06-03T00:00:00-04:00",
          "2025-06-04T00:00:00-04:00"
         ],
         "y": {
          "bdata": "AAAAAAAA+H8AAAAAAAD4fwAAAAAAAPh/AAAAAAAA+H8AAAAAAAD4fwAAAAAAAPh/AAAAAAAA+H8AAAAAAAD4fwAAAAAAAPh/AAAAAAAA+H8AAAAAAAD4fwAAAAAAAPh/AAAAAAAA+H8AAAAAAAD4fwAAAAAAAPh/AAAAAAAA+H8AAAAAAAD4fwAAAAAAAPh/AAAAAAAA+H+TyosbuN92QP4Em0pjU3dAGQdzJyhid0A2cxPu/XB3QLgA2GIqYXdARO1j39hBd0BbprPH2xp3QEfvUvv3GHdARo/tCaUld0Ahdy9S23p3QB+K/7StgHdAslwQxbB/d0AbA+BLpHl3QE6lSm4qbndAG1bD/0+ed0CYU4l8htZ3QGjFUOu0xndA1sF1GXvAd0C9Suo2KsF3QO416oFD0ndAkZ8DlmW7d0DBltMsv3x3QNLOne8TRHdALg+/RLvddkCuVblVi1d2QIxEfFP2fHVARdcMyvnudEBibnlIyMB0QILhqaRtjnRAHHLGg310dECskHl3OHR0QFN2zZMHZXRAx30gd100dEBE9H+2tfRzQO8eqnKgUHNArM1eYDydckDJtuYwx99xQIHg32czfXFAZNIPHE4kcUBMfOUQjpdwQHVwFcNVUHBA46gQacGub0AmfT9UUOZuQBq0fHEU+2xAeOHbSIeYa0B4bumrMMBqQJoclqoZ4mlAbBkxNFGCaUAYzr8eOxZpQFIbfeFPmGhA49zlyxe7aEA3E7OgJhhpQKTmCHtAmWlAXoBWOAxcakC3FpFrW41qQA+Lq8yfrWpAt8i0V5q5akA+axvGN+1qQEZydrjnCmtAeCh3INcOa0BMMTVYQgRrQFbZuoJrA2tANSl99vPSakAhvs5UaxVrQEaOS6j33mpAWxs4PqztakBKojbBthBrQJQ3EDkRFmtAr2PPd2ZGa0CZisYt48prQPxBGAPS52tADbpK4EMCbEA1rPZMOpVrQFftnYXCY2tAmkX+8A2Ta0B8YxWJV59rQBi5d5FPdWtAuZLyo8RCa0CSpPbSmQVrQE6FXiga8mpAuqiDSFP3akD7uag0NdlqQBYs9z5AEmtAuOUTVD19a0DkrNOJAE5sQEXibfP9RGxAR3RJCHdKbEAAL24GGxRsQGw3gTNmvGtAFRQKPI9Va0B1mhgKJ4xrQKgii+bU3mtArh/rWoDubEB8noocfeZtQHFqSbshyG5A/QWfL+aHb0D+Thger9RvQCDtm5Jx9m9AKDYWeaEWcEA8dMbXw1VwQMQi+Ee2sHBA/0cd0mYDcUBcDg8K13pxQKPSdAOIFnJA",
          "dtype": "f8"
         }
        },
        {
         "fill": "tonexty",
         "fillcolor": "rgba(200,200,200,0.2)",
         "mode": "none",
         "name": "Bollinger Band Range",
         "type": "scatter",
         "x": [
          "2024-12-05T00:00:00-05:00",
          "2024-12-06T00:00:00-05:00",
          "2024-12-09T00:00:00-05:00",
          "2024-12-10T00:00:00-05:00",
          "2024-12-11T00:00:00-05:00",
          "2024-12-12T00:00:00-05:00",
          "2024-12-13T00:00:00-05:00",
          "2024-12-16T00:00:00-05:00",
          "2024-12-17T00:00:00-05:00",
          "2024-12-18T00:00:00-05:00",
          "2024-12-19T00:00:00-05:00",
          "2024-12-20T00:00:00-05:00",
          "2024-12-23T00:00:00-05:00",
          "2024-12-24T00:00:00-05:00",
          "2024-12-26T00:00:00-05:00",
          "2024-12-27T00:00:00-05:00",
          "2024-12-30T00:00:00-05:00",
          "2024-12-31T00:00:00-05:00",
          "2025-01-02T00:00:00-05:00",
          "2025-01-03T00:00:00-05:00",
          "2025-01-06T00:00:00-05:00",
          "2025-01-07T00:00:00-05:00",
          "2025-01-08T00:00:00-05:00",
          "2025-01-10T00:00:00-05:00",
          "2025-01-13T00:00:00-05:00",
          "2025-01-14T00:00:00-05:00",
          "2025-01-15T00:00:00-05:00",
          "2025-01-16T00:00:00-05:00",
          "2025-01-17T00:00:00-05:00",
          "2025-01-21T00:00:00-05:00",
          "2025-01-22T00:00:00-05:00",
          "2025-01-23T00:00:00-05:00",
          "2025-01-24T00:00:00-05:00",
          "2025-01-27T00:00:00-05:00",
          "2025-01-28T00:00:00-05:00",
          "2025-01-29T00:00:00-05:00",
          "2025-01-30T00:00:00-05:00",
          "2025-01-31T00:00:00-05:00",
          "2025-02-03T00:00:00-05:00",
          "2025-02-04T00:00:00-05:00",
          "2025-02-05T00:00:00-05:00",
          "2025-02-06T00:00:00-05:00",
          "2025-02-07T00:00:00-05:00",
          "2025-02-10T00:00:00-05:00",
          "2025-02-11T00:00:00-05:00",
          "2025-02-12T00:00:00-05:00",
          "2025-02-13T00:00:00-05:00",
          "2025-02-14T00:00:00-05:00",
          "2025-02-18T00:00:00-05:00",
          "2025-02-19T00:00:00-05:00",
          "2025-02-20T00:00:00-05:00",
          "2025-02-21T00:00:00-05:00",
          "2025-02-24T00:00:00-05:00",
          "2025-02-25T00:00:00-05:00",
          "2025-02-26T00:00:00-05:00",
          "2025-02-27T00:00:00-05:00",
          "2025-02-28T00:00:00-05:00",
          "2025-03-03T00:00:00-05:00",
          "2025-03-04T00:00:00-05:00",
          "2025-03-05T00:00:00-05:00",
          "2025-03-06T00:00:00-05:00",
          "2025-03-07T00:00:00-05:00",
          "2025-03-10T00:00:00-04:00",
          "2025-03-11T00:00:00-04:00",
          "2025-03-12T00:00:00-04:00",
          "2025-03-13T00:00:00-04:00",
          "2025-03-14T00:00:00-04:00",
          "2025-03-17T00:00:00-04:00",
          "2025-03-18T00:00:00-04:00",
          "2025-03-19T00:00:00-04:00",
          "2025-03-20T00:00:00-04:00",
          "2025-03-21T00:00:00-04:00",
          "2025-03-24T00:00:00-04:00",
          "2025-03-25T00:00:00-04:00",
          "2025-03-26T00:00:00-04:00",
          "2025-03-27T00:00:00-04:00",
          "2025-03-28T00:00:00-04:00",
          "2025-03-31T00:00:00-04:00",
          "2025-04-01T00:00:00-04:00",
          "2025-04-02T00:00:00-04:00",
          "2025-04-03T00:00:00-04:00",
          "2025-04-04T00:00:00-04:00",
          "2025-04-07T00:00:00-04:00",
          "2025-04-08T00:00:00-04:00",
          "2025-04-09T00:00:00-04:00",
          "2025-04-10T00:00:00-04:00",
          "2025-04-11T00:00:00-04:00",
          "2025-04-14T00:00:00-04:00",
          "2025-04-15T00:00:00-04:00",
          "2025-04-16T00:00:00-04:00",
          "2025-04-17T00:00:00-04:00",
          "2025-04-21T00:00:00-04:00",
          "2025-04-22T00:00:00-04:00",
          "2025-04-23T00:00:00-04:00",
          "2025-04-24T00:00:00-04:00",
          "2025-04-25T00:00:00-04:00",
          "2025-04-28T00:00:00-04:00",
          "2025-04-29T00:00:00-04:00",
          "2025-04-30T00:00:00-04:00",
          "2025-05-01T00:00:00-04:00",
          "2025-05-02T00:00:00-04:00",
          "2025-05-05T00:00:00-04:00",
          "2025-05-06T00:00:00-04:00",
          "2025-05-07T00:00:00-04:00",
          "2025-05-08T00:00:00-04:00",
          "2025-05-09T00:00:00-04:00",
          "2025-05-12T00:00:00-04:00",
          "2025-05-13T00:00:00-04:00",
          "2025-05-14T00:00:00-04:00",
          "2025-05-15T00:00:00-04:00",
          "2025-05-16T00:00:00-04:00",
          "2025-05-19T00:00:00-04:00",
          "2025-05-20T00:00:00-04:00",
          "2025-05-21T00:00:00-04:00",
          "2025-05-22T00:00:00-04:00",
          "2025-05-23T00:00:00-04:00",
          "2025-05-27T00:00:00-04:00",
          "2025-05-28T00:00:00-04:00",
          "2025-05-29T00:00:00-04:00",
          "2025-05-30T00:00:00-04:00",
          "2025-06-02T00:00:00-04:00",
          "2025-06-03T00:00:00-04:00",
          "2025-06-04T00:00:00-04:00"
         ],
         "y": {
          "bdata": "AAAAAAAA+H8AAAAAAAD4fwAAAAAAAPh/AAAAAAAA+H8AAAAAAAD4fwAAAAAAAPh/AAAAAAAA+H8AAAAAAAD4fwAAAAAAAPh/AAAAAAAA+H8AAAAAAAD4fwAAAAAAAPh/AAAAAAAA+H8AAAAAAAD4fwAAAAAAAPh/AAAAAAAA+H8AAAAAAAD4fwAAAAAAAPh/AAAAAAAA+H9tNXQ01f19QJyU/v6ozH1A5/iMeB3GfUDKjOwhhb99QEj/J61YxX1AiN9oLVTCfUALwLKOiMZ9QLkQrXSbu31AunASFjZgfUDfiNCNn7V8QBWpM/4alnxAgtYivmV1fEDl/B/kjm18QBjBGyiaUnxASxCjVj+6e0ACRhDdXih7QP6gFdsX9HpAXnG9OeneekBDtRVpcd96QN6W4lpi1XpACfqVQxXPekClz5IJINl6QJSXyOa68XpAOFenscMie0DsQ+AjiWJ7QECIUPlrxXtAuyjz9aXze0BqXlOUMa57QH4eVpvHg3tAsFoGyeQpe0DuCCAijMR6QEcjzDWacnpAOYLfWPArekCI2EwG6vF5QKt674YJ/3lAIP9tnMMGekDR4rIoyBh6QOWFht6tz3lAnC3wo6doeUDotk3yx0J5QCUphGYG1XhAKEURJW6WeEChdBPZAkh4QI0/2+B5XnhARA+SA4NPeEDESAtiBjt4QBlYG+m9EHhAsNlN7BiXd0AoTNPLnBB3QPEL2/B9gXZAwkRA3ZSodUDK3AxOB710QHpZSB/v7XNABfMHtxw5c0A+DtFjAAlzQK1t3Uzi2nJACgKMWsjGckAuF78Z431yQHdgXm1CRnJAXgVeWZA+ckAnNLLgtUlyQFWTog5CUHJAmZ70t05DckC8bWX65TNyQEOfQBosQXJAIL+wRWVgckDbrmSHoGFyQJxK3qmtYnJAwuextXRhckCAh+nVSk1yQM6rQAvuR3JALdYNK+JCckCydlFWd1dyQIc8ZDCHL3JAM92AbwrccUCotNsp0cFxQHQjRJ++6XFApLYGdr4mckCEelFr63lyQI3wA8eWmXJAoyu+s2STckA21t4QV8JyQME2UYUl53JA8NnCwvL0ckCOKRYDi+NyQER1r3Q9/HJAd990LeFCc0CA6Mh0xcdzQH6XcmFgdnRA9fX6IYI/dUBgTI1sPsZ1QOCh7SeuSnZAXaO9fTB6dkCOfYdGjqd2QPx9jjXxvHZANrBjq4HfdkDnPlpXIxB3QKQ85Wl5endADP0cetvGd0D4vmxLwQF4QNZ2oeFPEHhAZx5J9GMWeEDYJCQ5XgV4QJFgvo9lxHdA",
          "dtype": "f8"
         }
        }
       ],
       "layout": {
        "hovermode": "x",
        "template": {
         "data": {
          "bar": [
           {
            "error_x": {
             "color": "#f2f5fa"
            },
            "error_y": {
             "color": "#f2f5fa"
            },
            "marker": {
             "line": {
              "color": "rgb(17,17,17)",
              "width": 0.5
             },
             "pattern": {
              "fillmode": "overlay",
              "size": 10,
              "solidity": 0.2
             }
            },
            "type": "bar"
           }
          ],
          "barpolar": [
           {
            "marker": {
             "line": {
              "color": "rgb(17,17,17)",
              "width": 0.5
             },
             "pattern": {
              "fillmode": "overlay",
              "size": 10,
              "solidity": 0.2
             }
            },
            "type": "barpolar"
           }
          ],
          "carpet": [
           {
            "aaxis": {
             "endlinecolor": "#A2B1C6",
             "gridcolor": "#506784",
             "linecolor": "#506784",
             "minorgridcolor": "#506784",
             "startlinecolor": "#A2B1C6"
            },
            "baxis": {
             "endlinecolor": "#A2B1C6",
             "gridcolor": "#506784",
             "linecolor": "#506784",
             "minorgridcolor": "#506784",
             "startlinecolor": "#A2B1C6"
            },
            "type": "carpet"
           }
          ],
          "choropleth": [
           {
            "colorbar": {
             "outlinewidth": 0,
             "ticks": ""
            },
            "type": "choropleth"
           }
          ],
          "contour": [
           {
            "colorbar": {
             "outlinewidth": 0,
             "ticks": ""
            },
            "colorscale": [
             [
              0,
              "#0d0887"
             ],
             [
              0.1111111111111111,
              "#46039f"
             ],
             [
              0.2222222222222222,
              "#7201a8"
             ],
             [
              0.3333333333333333,
              "#9c179e"
             ],
             [
              0.4444444444444444,
              "#bd3786"
             ],
             [
              0.5555555555555556,
              "#d8576b"
             ],
             [
              0.6666666666666666,
              "#ed7953"
             ],
             [
              0.7777777777777778,
              "#fb9f3a"
             ],
             [
              0.8888888888888888,
              "#fdca26"
             ],
             [
              1,
              "#f0f921"
             ]
            ],
            "type": "contour"
           }
          ],
          "contourcarpet": [
           {
            "colorbar": {
             "outlinewidth": 0,
             "ticks": ""
            },
            "type": "contourcarpet"
           }
          ],
          "heatmap": [
           {
            "colorbar": {
             "outlinewidth": 0,
             "ticks": ""
            },
            "colorscale": [
             [
              0,
              "#0d0887"
             ],
             [
              0.1111111111111111,
              "#46039f"
             ],
             [
              0.2222222222222222,
              "#7201a8"
             ],
             [
              0.3333333333333333,
              "#9c179e"
             ],
             [
              0.4444444444444444,
              "#bd3786"
             ],
             [
              0.5555555555555556,
              "#d8576b"
             ],
             [
              0.6666666666666666,
              "#ed7953"
             ],
             [
              0.7777777777777778,
              "#fb9f3a"
             ],
             [
              0.8888888888888888,
              "#fdca26"
             ],
             [
              1,
              "#f0f921"
             ]
            ],
            "type": "heatmap"
           }
          ],
          "histogram": [
           {
            "marker": {
             "pattern": {
              "fillmode": "overlay",
              "size": 10,
              "solidity": 0.2
             }
            },
            "type": "histogram"
           }
          ],
          "histogram2d": [
           {
            "colorbar": {
             "outlinewidth": 0,
             "ticks": ""
            },
            "colorscale": [
             [
              0,
              "#0d0887"
             ],
             [
              0.1111111111111111,
              "#46039f"
             ],
             [
              0.2222222222222222,
              "#7201a8"
             ],
             [
              0.3333333333333333,
              "#9c179e"
             ],
             [
              0.4444444444444444,
              "#bd3786"
             ],
             [
              0.5555555555555556,
              "#d8576b"
             ],
             [
              0.6666666666666666,
              "#ed7953"
             ],
             [
              0.7777777777777778,
              "#fb9f3a"
             ],
             [
              0.8888888888888888,
              "#fdca26"
             ],
             [
              1,
              "#f0f921"
             ]
            ],
            "type": "histogram2d"
           }
          ],
          "histogram2dcontour": [
           {
            "colorbar": {
             "outlinewidth": 0,
             "ticks": ""
            },
            "colorscale": [
             [
              0,
              "#0d0887"
             ],
             [
              0.1111111111111111,
              "#46039f"
             ],
             [
              0.2222222222222222,
              "#7201a8"
             ],
             [
              0.3333333333333333,
              "#9c179e"
             ],
             [
              0.4444444444444444,
              "#bd3786"
             ],
             [
              0.5555555555555556,
              "#d8576b"
             ],
             [
              0.6666666666666666,
              "#ed7953"
             ],
             [
              0.7777777777777778,
              "#fb9f3a"
             ],
             [
              0.8888888888888888,
              "#fdca26"
             ],
             [
              1,
              "#f0f921"
             ]
            ],
            "type": "histogram2dcontour"
           }
          ],
          "mesh3d": [
           {
            "colorbar": {
             "outlinewidth": 0,
             "ticks": ""
            },
            "type": "mesh3d"
           }
          ],
          "parcoords": [
           {
            "line": {
             "colorbar": {
              "outlinewidth": 0,
              "ticks": ""
             }
            },
            "type": "parcoords"
           }
          ],
          "pie": [
           {
            "automargin": true,
            "type": "pie"
           }
          ],
          "scatter": [
           {
            "marker": {
             "line": {
              "color": "#283442"
             }
            },
            "type": "scatter"
           }
          ],
          "scatter3d": [
           {
            "line": {
             "colorbar": {
              "outlinewidth": 0,
              "ticks": ""
             }
            },
            "marker": {
             "colorbar": {
              "outlinewidth": 0,
              "ticks": ""
             }
            },
            "type": "scatter3d"
           }
          ],
          "scattercarpet": [
           {
            "marker": {
             "colorbar": {
              "outlinewidth": 0,
              "ticks": ""
             }
            },
            "type": "scattercarpet"
           }
          ],
          "scattergeo": [
           {
            "marker": {
             "colorbar": {
              "outlinewidth": 0,
              "ticks": ""
             }
            },
            "type": "scattergeo"
           }
          ],
          "scattergl": [
           {
            "marker": {
             "line": {
              "color": "#283442"
             }
            },
            "type": "scattergl"
           }
          ],
          "scattermap": [
           {
            "marker": {
             "colorbar": {
              "outlinewidth": 0,
              "ticks": ""
             }
            },
            "type": "scattermap"
           }
          ],
          "scattermapbox": [
           {
            "marker": {
             "colorbar": {
              "outlinewidth": 0,
              "ticks": ""
             }
            },
            "type": "scattermapbox"
           }
          ],
          "scatterpolar": [
           {
            "marker": {
             "colorbar": {
              "outlinewidth": 0,
              "ticks": ""
             }
            },
            "type": "scatterpolar"
           }
          ],
          "scatterpolargl": [
           {
            "marker": {
             "colorbar": {
              "outlinewidth": 0,
              "ticks": ""
             }
            },
            "type": "scatterpolargl"
           }
          ],
          "scatterternary": [
           {
            "marker": {
             "colorbar": {
              "outlinewidth": 0,
              "ticks": ""
             }
            },
            "type": "scatterternary"
           }
          ],
          "surface": [
           {
            "colorbar": {
             "outlinewidth": 0,
             "ticks": ""
            },
            "colorscale": [
             [
              0,
              "#0d0887"
             ],
             [
              0.1111111111111111,
              "#46039f"
             ],
             [
              0.2222222222222222,
              "#7201a8"
             ],
             [
              0.3333333333333333,
              "#9c179e"
             ],
             [
              0.4444444444444444,
              "#bd3786"
             ],
             [
              0.5555555555555556,
              "#d8576b"
             ],
             [
              0.6666666666666666,
              "#ed7953"
             ],
             [
              0.7777777777777778,
              "#fb9f3a"
             ],
             [
              0.8888888888888888,
              "#fdca26"
             ],
             [
              1,
              "#f0f921"
             ]
            ],
            "type": "surface"
           }
          ],
          "table": [
           {
            "cells": {
             "fill": {
              "color": "#506784"
             },
             "line": {
              "color": "rgb(17,17,17)"
             }
            },
            "header": {
             "fill": {
              "color": "#2a3f5f"
             },
             "line": {
              "color": "rgb(17,17,17)"
             }
            },
            "type": "table"
           }
          ]
         },
         "layout": {
          "annotationdefaults": {
           "arrowcolor": "#f2f5fa",
           "arrowhead": 0,
           "arrowwidth": 1
          },
          "autotypenumbers": "strict",
          "coloraxis": {
           "colorbar": {
            "outlinewidth": 0,
            "ticks": ""
           }
          },
          "colorscale": {
           "diverging": [
            [
             0,
             "#8e0152"
            ],
            [
             0.1,
             "#c51b7d"
            ],
            [
             0.2,
             "#de77ae"
            ],
            [
             0.3,
             "#f1b6da"
            ],
            [
             0.4,
             "#fde0ef"
            ],
            [
             0.5,
             "#f7f7f7"
            ],
            [
             0.6,
             "#e6f5d0"
            ],
            [
             0.7,
             "#b8e186"
            ],
            [
             0.8,
             "#7fbc41"
            ],
            [
             0.9,
             "#4d9221"
            ],
            [
             1,
             "#276419"
            ]
           ],
           "sequential": [
            [
             0,
             "#0d0887"
            ],
            [
             0.1111111111111111,
             "#46039f"
            ],
            [
             0.2222222222222222,
             "#7201a8"
            ],
            [
             0.3333333333333333,
             "#9c179e"
            ],
            [
             0.4444444444444444,
             "#bd3786"
            ],
            [
             0.5555555555555556,
             "#d8576b"
            ],
            [
             0.6666666666666666,
             "#ed7953"
            ],
            [
             0.7777777777777778,
             "#fb9f3a"
            ],
            [
             0.8888888888888888,
             "#fdca26"
            ],
            [
             1,
             "#f0f921"
            ]
           ],
           "sequentialminus": [
            [
             0,
             "#0d0887"
            ],
            [
             0.1111111111111111,
             "#46039f"
            ],
            [
             0.2222222222222222,
             "#7201a8"
            ],
            [
             0.3333333333333333,
             "#9c179e"
            ],
            [
             0.4444444444444444,
             "#bd3786"
            ],
            [
             0.5555555555555556,
             "#d8576b"
            ],
            [
             0.6666666666666666,
             "#ed7953"
            ],
            [
             0.7777777777777778,
             "#fb9f3a"
            ],
            [
             0.8888888888888888,
             "#fdca26"
            ],
            [
             1,
             "#f0f921"
            ]
           ]
          },
          "colorway": [
           "#636efa",
           "#EF553B",
           "#00cc96",
           "#ab63fa",
           "#FFA15A",
           "#19d3f3",
           "#FF6692",
           "#B6E880",
           "#FF97FF",
           "#FECB52"
          ],
          "font": {
           "color": "#f2f5fa"
          },
          "geo": {
           "bgcolor": "rgb(17,17,17)",
           "lakecolor": "rgb(17,17,17)",
           "landcolor": "rgb(17,17,17)",
           "showlakes": true,
           "showland": true,
           "subunitcolor": "#506784"
          },
          "hoverlabel": {
           "align": "left"
          },
          "hovermode": "closest",
          "mapbox": {
           "style": "dark"
          },
          "paper_bgcolor": "rgb(17,17,17)",
          "plot_bgcolor": "rgb(17,17,17)",
          "polar": {
           "angularaxis": {
            "gridcolor": "#506784",
            "linecolor": "#506784",
            "ticks": ""
           },
           "bgcolor": "rgb(17,17,17)",
           "radialaxis": {
            "gridcolor": "#506784",
            "linecolor": "#506784",
            "ticks": ""
           }
          },
          "scene": {
           "xaxis": {
            "backgroundcolor": "rgb(17,17,17)",
            "gridcolor": "#506784",
            "gridwidth": 2,
            "linecolor": "#506784",
            "showbackground": true,
            "ticks": "",
            "zerolinecolor": "#C8D4E3"
           },
           "yaxis": {
            "backgroundcolor": "rgb(17,17,17)",
            "gridcolor": "#506784",
            "gridwidth": 2,
            "linecolor": "#506784",
            "showbackground": true,
            "ticks": "",
            "zerolinecolor": "#C8D4E3"
           },
           "zaxis": {
            "backgroundcolor": "rgb(17,17,17)",
            "gridcolor": "#506784",
            "gridwidth": 2,
            "linecolor": "#506784",
            "showbackground": true,
            "ticks": "",
            "zerolinecolor": "#C8D4E3"
           }
          },
          "shapedefaults": {
           "line": {
            "color": "#f2f5fa"
           }
          },
          "sliderdefaults": {
           "bgcolor": "#C8D4E3",
           "bordercolor": "rgb(17,17,17)",
           "borderwidth": 1,
           "tickwidth": 0
          },
          "ternary": {
           "aaxis": {
            "gridcolor": "#506784",
            "linecolor": "#506784",
            "ticks": ""
           },
           "baxis": {
            "gridcolor": "#506784",
            "linecolor": "#506784",
            "ticks": ""
           },
           "bgcolor": "rgb(17,17,17)",
           "caxis": {
            "gridcolor": "#506784",
            "linecolor": "#506784",
            "ticks": ""
           }
          },
          "title": {
           "x": 0.05
          },
          "updatemenudefaults": {
           "bgcolor": "#506784",
           "borderwidth": 0
          },
          "xaxis": {
           "automargin": true,
           "gridcolor": "#283442",
           "linecolor": "#506784",
           "ticks": "",
           "title": {
            "standoff": 15
           },
           "zerolinecolor": "#283442",
           "zerolinewidth": 2
          },
          "yaxis": {
           "automargin": true,
           "gridcolor": "#283442",
           "linecolor": "#506784",
           "ticks": "",
           "title": {
            "standoff": 15
           },
           "zerolinecolor": "#283442",
           "zerolinewidth": 2
          }
         }
        },
        "title": {
         "text": "Tesla - Bollinger Bands"
        },
        "xaxis": {
         "title": {
          "text": "Date"
         }
        },
        "yaxis": {
         "title": {
          "text": "Price"
         }
        }
       }
      }
     },
     "metadata": {},
     "output_type": "display_data"
    }
   ],
   "source": [
    "# Calculate Bollinger Bands\n",
    "upper, middle, lower = talib.BBANDS(df['Close'], timeperiod=20, nbdevup=2, nbdevdn=2, matype=0)\n",
    "\n",
    "df['Upper Band'] = upper\n",
    "df['Middle Band'] = middle\n",
    "df['Lower Band'] = lower\n",
    "\n",
    "# Create Bollinger Bands figure\n",
    "fig_bb = go.Figure()\n",
    "fig_bb.add_trace(go.Scatter(x=df['Date'], y=df['Close'], mode='lines', name='Close Price', line=dict(color='blue', width=2)))\n",
    "fig_bb.add_trace(go.Scatter(x=df['Date'], y=df['Upper Band'], mode='lines', name='Upper Band', line=dict(color='red', width=2, dash='dash')))\n",
    "fig_bb.add_trace(go.Scatter(x=df['Date'], y=df['Middle Band'], mode='lines', name='Middle Band', line=dict(color='orange', width=2, dash='dash')))\n",
    "fig_bb.add_trace(go.Scatter(x=df['Date'], y=df['Lower Band'], mode='lines', name='Lower Band', line=dict(color='green', width=2, dash='dash')))\n",
    "fig_bb.add_trace(go.Scatter(x=df['Date'], y=df['Upper Band'], fill='tonexty', mode='none', fillcolor='rgba(200,200,200,0.2)', name='Bollinger Band Range'))\n",
    "\n",
    "# Update layout\n",
    "fig_bb.update_layout(title='Tesla - Bollinger Bands', xaxis_title='Date', yaxis_title='Price', template='plotly_dark', hovermode='x')\n",
    "\n",
    "# Show figure\n",
    "fig_bb.show()\n"
   ]
  },
  {
   "cell_type": "code",
   "execution_count": null,
   "id": "70a3a4c5-062e-4292-bf6e-203ee8040aa7",
   "metadata": {},
   "outputs": [],
   "source": []
  }
 ],
 "metadata": {
  "kernelspec": {
   "display_name": "Python 3 (ipykernel)",
   "language": "python",
   "name": "python3"
  },
  "language_info": {
   "codemirror_mode": {
    "name": "ipython",
    "version": 3
   },
   "file_extension": ".py",
   "mimetype": "text/x-python",
   "name": "python",
   "nbconvert_exporter": "python",
   "pygments_lexer": "ipython3",
   "version": "3.12.10"
  }
 },
 "nbformat": 4,
 "nbformat_minor": 5
}
