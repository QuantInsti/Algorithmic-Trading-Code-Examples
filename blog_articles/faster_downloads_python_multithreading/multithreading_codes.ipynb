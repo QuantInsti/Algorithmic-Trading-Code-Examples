{
 "cells": [
  {
   "cell_type": "markdown",
   "metadata": {
    "id": "aQTuv6L9W_2n"
   },
   "source": [
    "# Multithreading in Python\n",
    "\n",
    "In this notebook file, we are going to explore how to implement multithreading in Python for financial data processing. We'll cover the following topics:\n",
    "\n",
    "1. Basic Threading Implementation\n",
    "2. Stock Data Downloads using Multithreading\n",
    "\n"
   ]
  },
  {
   "cell_type": "markdown",
   "metadata": {
    "id": "G18n06DdKGkD"
   },
   "source": [
    "**1. Basic Threading Implementation**\n",
    "\n",
    "\n"
   ]
  },
  {
   "cell_type": "code",
   "execution_count": 1,
   "metadata": {
    "colab": {
     "base_uri": "https://localhost:8080/"
    },
    "id": "qkEWQbgLKQvr",
    "outputId": "4a900f95-b96d-44c4-b86a-a6c4725104b1"
   },
   "outputs": [
    {
     "name": "stdout",
     "output_type": "stream",
     "text": [
      "--- Without Threading ---\n",
      "Downloading AAPL...\n",
      "AAPL downloaded!\n",
      "Downloading GOOGL...\n",
      "GOOGL downloaded!\n",
      "Downloading TSLA...\n",
      "TSLA downloaded!\n",
      "Downloading AMZN...\n",
      "AMZN downloaded!\n",
      "\n",
      "Total time without threading: 8.0 seconds\n",
      "\n",
      "--- With Threading ---\n",
      "Downloading AAPL...\n",
      "Downloading GOOGL...\n",
      "Downloading TSLA...\n",
      "Downloading AMZN...\n",
      "GOOGL downloaded!AMZN downloaded!\n",
      "AAPL downloaded!\n",
      "TSLA downloaded!\n",
      "\n",
      "\n",
      "Total time with threading: 2.0 seconds\n"
     ]
    }
   ],
   "source": [
    "import time\n",
    "import threading\n",
    "\n",
    "def download_stock(ticker):\n",
    "    print(f\"Downloading {ticker}...\")\n",
    "    time.sleep(2)  # Simulate a time-consuming download\n",
    "    print(f\"{ticker} downloaded!\")\n",
    "\n",
    "# --- Without Threading ---\n",
    "print(\"--- Without Threading ---\")\n",
    "start_time = time.time()\n",
    "\n",
    "for ticker in [\"AAPL\", \"GOOGL\", \"TSLA\", \"AMZN\"]:\n",
    "    download_stock(ticker)\n",
    "\n",
    "print(f\"\\nTotal time without threading: {time.time() - start_time:.1f} seconds\")\n",
    "\n",
    "\n",
    "# --- With Threading ---\n",
    "print(\"\\n--- With Threading ---\")\n",
    "start_time = time.time()\n",
    "\n",
    "threads = []\n",
    "for ticker in [\"AAPL\", \"GOOGL\", \"TSLA\", \"AMZN\"]:\n",
    "    thread = threading.Thread(target=download_stock, args=(ticker,))\n",
    "    thread.start()\n",
    "    threads.append(thread)\n",
    "\n",
    "# Wait for all threads to complete\n",
    "for thread in threads:\n",
    "    thread.join()\n",
    "\n",
    "print(f\"\\nTotal time with threading: {time.time() - start_time:.1f} seconds\")"
   ]
  },
  {
   "cell_type": "markdown",
   "metadata": {
    "id": "6WJ5C6znKZfa"
   },
   "source": [
    "As we can see, threading is much faster. Now let's look at a practical example."
   ]
  },
  {
   "cell_type": "markdown",
   "metadata": {
    "id": "P0EbjbDQKfwA"
   },
   "source": [
    "**2. Practical Example: Stock Data Download**\n",
    "\n",
    "\n"
   ]
  },
  {
   "cell_type": "code",
   "execution_count": 2,
   "metadata": {
    "colab": {
     "base_uri": "https://localhost:8080/"
    },
    "id": "Hjl905N3F7U_",
    "outputId": "9229f5e7-b65a-4b8c-e236-cc9500e3f2d5"
   },
   "outputs": [
    {
     "name": "stdout",
     "output_type": "stream",
     "text": [
      "YF.download() has changed argument auto_adjust default to True\n"
     ]
    },
    {
     "name": "stderr",
     "output_type": "stream",
     "text": [
      "[*********************100%***********************]  1 of 1 completed\n",
      "[*********************100%***********************]  1 of 1 completed\n"
     ]
    },
    {
     "name": "stdout",
     "output_type": "stream",
     "text": [
      "AAPL: 19 rows\n",
      "GOOGL: 19 rows\n"
     ]
    },
    {
     "name": "stderr",
     "output_type": "stream",
     "text": [
      "[*********************100%***********************]  1 of 1 completed\n",
      "[*********************100%***********************]  1 of 1 completed\n"
     ]
    },
    {
     "name": "stdout",
     "output_type": "stream",
     "text": [
      "MSFT: 19 rows\n",
      "TSLA: 19 rows\n"
     ]
    },
    {
     "name": "stderr",
     "output_type": "stream",
     "text": [
      "[*********************100%***********************]  1 of 1 completed\n",
      "[*********************100%***********************]  1 of 1 completed\n",
      "[*********************100%***********************]  1 of 1 completed"
     ]
    },
    {
     "name": "stdout",
     "output_type": "stream",
     "text": [
      "AMZN: 19 rows\n",
      "Sequential time: 1.6s\n",
      "\n",
      "AAPL: 19 rows\n",
      "GOOGL: 19 rows\n",
      "AMZN: 19 rows\n",
      "TSLA: 19 rows\n",
      "MSFT: 19 rows\n",
      "Threaded time: 0.1s\n"
     ]
    },
    {
     "name": "stderr",
     "output_type": "stream",
     "text": [
      "\n",
      "\n",
      "\n",
      "\n"
     ]
    }
   ],
   "source": [
    "import time\n",
    "import threading\n",
    "import yfinance as yf  # Install with: pip install yfinance\n",
    "\n",
    "def fetch_data(ticker):\n",
    "   data = yf.download(ticker, period=\"1mo\")\n",
    "   print(f\"{ticker}: {len(data)} rows\")\n",
    "\n",
    "# Without threads\n",
    "start = time.time()\n",
    "for ticker in [\"AAPL\", \"GOOGL\", \"MSFT\", \"TSLA\", \"AMZN\"]:\n",
    "   fetch_data(ticker)\n",
    "print(f\"Sequential time: {time.time() - start:.1f}s\\n\")\n",
    "\n",
    "# With threads\n",
    "start = time.time()\n",
    "threads = []\n",
    "for ticker in [\"AAPL\", \"GOOGL\", \"MSFT\", \"TSLA\", \"AMZN\"]:\n",
    "   thread = threading.Thread(target=fetch_data, args=(ticker,))\n",
    "   thread.start()\n",
    "   threads.append(thread)\n",
    "\n",
    "for thread in threads:\n",
    "   thread.join()\n",
    "print(f\"Threaded time: {time.time() - start:.1f}s\")"
   ]
  },
  {
   "cell_type": "markdown",
   "metadata": {
    "id": "PQ_ylXXJLAR7"
   },
   "source": [
    "Again, we notice that threading is much faster."
   ]
  }
 ],
 "metadata": {
  "colab": {
   "provenance": []
  },
  "kernelspec": {
   "display_name": "Python 3 (ipykernel)",
   "language": "python",
   "name": "python3"
  },
  "language_info": {
   "codemirror_mode": {
    "name": "ipython",
    "version": 3
   },
   "file_extension": ".py",
   "mimetype": "text/x-python",
   "name": "python",
   "nbconvert_exporter": "python",
   "pygments_lexer": "ipython3",
   "version": "3.13.0"
  }
 },
 "nbformat": 4,
 "nbformat_minor": 4
}
